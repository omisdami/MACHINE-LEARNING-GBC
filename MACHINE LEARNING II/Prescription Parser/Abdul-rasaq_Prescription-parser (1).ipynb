{
 "cells": [
  {
   "cell_type": "markdown",
   "metadata": {},
   "source": [
    "# Task 1: Create a Prescription Parser using CRF\n",
    "This task tests your ability to build a Doctor Prescription Parser with the help of CRF model\n",
    "\n",
    "Your job is to build a Prescription Parser that takes a prescription (sentence) as an input and find / label the words in that sentence with one of the already pre-defined labels\n",
    "\n",
    "### Problem: SEQUENCE PREDICTION - Label words in a sentence\n",
    "#### Input : Doctor Prescription in the form of a sentence split into tokens\n",
    "- Ex: Take 2 tablets once a day for 10 days\n",
    "\n",
    "#### Output : FHIR Labels\n",
    "- ('Take', 'Method')\n",
    "- ('2', 'Qty') \n",
    "- ('tablets', 'Form')\n",
    "- ('once', 'Frequency')\n",
    "- ('a', 'Period') \n",
    "- ('day', 'PeriodUnit')\n",
    "- ('for', 'FOR')\n",
    "- ('10', 'Duration')\n",
    "- ('days', 'DurationUnit') "
   ]
  },
  {
   "cell_type": "markdown",
   "metadata": {},
   "source": [
    "### Major Steps\n",
    "- Install necessary library\n",
    "- Import the libraries\n",
    "- Create training data with labels\n",
    "    - Split the sentence into tokens\n",
    "    - Compute POS tags\n",
    "    - Create triples\n",
    "- Extract features\n",
    "- Split the data into training and testing set\n",
    "- Create CRF model\n",
    "- Save the CRF model\n",
    "- Load the CRF model\n",
    "- Predict on test data\n",
    "- Accuracy"
   ]
  },
  {
   "cell_type": "markdown",
   "metadata": {},
   "source": [
    "#### Install necesaary library"
   ]
  },
  {
   "cell_type": "code",
   "execution_count": 46,
   "metadata": {},
   "outputs": [
    {
     "name": "stdout",
     "output_type": "stream",
     "text": [
      "\u001b[33mDEPRECATION: Loading egg at /Users/omisesan/anaconda3/lib/python3.11/site-packages/endtoendmlgit-0.0.1-py3.11.egg is deprecated. pip 25.1 will enforce this behaviour change. A possible replacement is to use pip for package installation. Discussion can be found at https://github.com/pypa/pip/issues/12330\u001b[0m\u001b[33m\n",
      "\u001b[0m\u001b[33mDEPRECATION: Loading egg at /Users/omisesan/anaconda3/lib/python3.11/site-packages/fonttools-4.55.2-py3.11-macosx-10.9-x86_64.egg is deprecated. pip 25.1 will enforce this behaviour change. A possible replacement is to use pip for package installation. Discussion can be found at https://github.com/pypa/pip/issues/12330\u001b[0m\u001b[33m\n",
      "\u001b[0mCollecting sklearn-crfsuite\n",
      "  Downloading sklearn_crfsuite-0.5.0-py2.py3-none-any.whl.metadata (4.9 kB)\n",
      "Collecting python-crfsuite>=0.9.7 (from sklearn-crfsuite)\n",
      "  Downloading python_crfsuite-0.9.11.tar.gz (477 kB)\n",
      "  Installing build dependencies ... \u001b[?25ldone\n",
      "\u001b[?25h  Getting requirements to build wheel ... \u001b[?25ldone\n",
      "\u001b[?25h  Preparing metadata (pyproject.toml) ... \u001b[?25ldone\n",
      "\u001b[?25hRequirement already satisfied: scikit-learn>=0.24.0 in /Users/omisesan/anaconda3/lib/python3.11/site-packages (from sklearn-crfsuite) (1.3.0)\n",
      "Requirement already satisfied: tabulate>=0.4.2 in /Users/omisesan/anaconda3/lib/python3.11/site-packages (from sklearn-crfsuite) (0.8.10)\n",
      "Requirement already satisfied: tqdm>=2.0 in /Users/omisesan/anaconda3/lib/python3.11/site-packages (from sklearn-crfsuite) (4.65.0)\n",
      "Requirement already satisfied: numpy>=1.17.3 in /Users/omisesan/anaconda3/lib/python3.11/site-packages (from scikit-learn>=0.24.0->sklearn-crfsuite) (1.24.3)\n",
      "Requirement already satisfied: scipy>=1.5.0 in /Users/omisesan/anaconda3/lib/python3.11/site-packages (from scikit-learn>=0.24.0->sklearn-crfsuite) (1.12.0)\n",
      "Requirement already satisfied: joblib>=1.1.1 in /Users/omisesan/anaconda3/lib/python3.11/site-packages (from scikit-learn>=0.24.0->sklearn-crfsuite) (1.2.0)\n",
      "Requirement already satisfied: threadpoolctl>=2.0.0 in /Users/omisesan/anaconda3/lib/python3.11/site-packages (from scikit-learn>=0.24.0->sklearn-crfsuite) (2.2.0)\n",
      "Downloading sklearn_crfsuite-0.5.0-py2.py3-none-any.whl (10 kB)\n",
      "Building wheels for collected packages: python-crfsuite\n",
      "  Building wheel for python-crfsuite (pyproject.toml) ... \u001b[?25ldone\n",
      "\u001b[?25h  Created wheel for python-crfsuite: filename=python_crfsuite-0.9.11-cp311-cp311-macosx_10_9_x86_64.whl size=321438 sha256=8162de3607bf1fb11339e8a6b292830560849d4aa12b6548afdb36aa2726f07d\n",
      "  Stored in directory: /Users/omisesan/Library/Caches/pip/wheels/85/86/58/0de057e73ccaf971b4ea037d19eb8ca9aea794ad442a27a573\n",
      "Successfully built python-crfsuite\n",
      "Installing collected packages: python-crfsuite, sklearn-crfsuite\n",
      "Successfully installed python-crfsuite-0.9.11 sklearn-crfsuite-0.5.0\n",
      "Note: you may need to restart the kernel to use updated packages.\n"
     ]
    }
   ],
   "source": [
    "pip install sklearn-crfsuite"
   ]
  },
  {
   "cell_type": "markdown",
   "metadata": {},
   "source": [
    "#### Import the necessary libraries"
   ]
  },
  {
   "cell_type": "code",
   "execution_count": 17,
   "metadata": {},
   "outputs": [
    {
     "name": "stderr",
     "output_type": "stream",
     "text": [
      "[nltk_data] Downloading package averaged_perceptron_tagger to\n",
      "[nltk_data]     /Users/omisesan/nltk_data...\n",
      "[nltk_data]   Package averaged_perceptron_tagger is already up-to-\n",
      "[nltk_data]       date!\n"
     ]
    },
    {
     "data": {
      "text/plain": [
       "True"
      ]
     },
     "execution_count": 17,
     "metadata": {},
     "output_type": "execute_result"
    }
   ],
   "source": [
    "import nltk\n",
    "nltk.download('averaged_perceptron_tagger')"
   ]
  },
  {
   "cell_type": "code",
   "execution_count": 33,
   "metadata": {},
   "outputs": [
    {
     "name": "stdout",
     "output_type": "stream",
     "text": [
      "['tok2vec', 'tagger', 'parser', 'attribute_ruler', 'lemmatizer', 'ner']\n"
     ]
    }
   ],
   "source": [
    "import spacy \n",
    "\n",
    "nlp = spacy.load('en_core_web_sm')\n",
    "print(nlp.pipe_names)"
   ]
  },
  {
   "cell_type": "code",
   "execution_count": 1,
   "metadata": {},
   "outputs": [],
   "source": [
    "import sklearn_crfsuite\n",
    "import joblib\n",
    "from nltk.tag import pos_tag\n",
    "from nltk.corpus import stopwords\n",
    "from sklearn_crfsuite import CRF, metrics\n",
    "from sklearn.metrics import make_scorer,confusion_matrix\n",
    "from pprint import pprint\n"
   ]
  },
  {
   "cell_type": "markdown",
   "metadata": {},
   "source": [
    "### Input data (GIVEN)\n",
    "#### Creating the inputs to the ML model in the following form:\n",
    "- sigs --> ['take 3 tabs for 10 days']       INPUT SIG\n",
    "- input_sigs --> [['take', '3', 'tabs', 'for', '10', 'days']]      TOKENS\n",
    "- output_labels --> [['Method','Qty', 'Form', 'FOR', 'Duration', 'DurationUnit']]       LABELS"
   ]
  },
  {
   "cell_type": "code",
   "execution_count": 2,
   "metadata": {},
   "outputs": [],
   "source": [
    "sigs = [\"for 5 to 6 days\", \"inject 2 units\", \"x 2 weeks\", \"x 3 days\", \"every day\", \"every 2 weeks\", \"every 3 days\", \"every 1 to 2 months\", \"every 2 to 6 weeks\", \"every 4 to 6 days\", \"take two to four tabs\", \"take 2 to 4 tabs\", \"take 3 tabs orally bid for 10 days at bedtime\", \"swallow three capsules tid orally\", \"take 2 capsules po every 6 hours\", \"take 2 tabs po for 10 days\", \"take 100 caps by mouth tid for 10 weeks\", \"take 2 tabs after an hour\", \"2 tabs every 4-6 hours\", \"every 4 to 6 hours\", \"q46h\", \"q4-6h\", \"2 hours before breakfast\", \"before 30 mins at bedtime\", \"30 mins before bed\", \"and 100 tabs twice a month\", \"100 tabs twice a month\", \"100 tabs once a month\", \"100 tabs thrice a month\", \"3 tabs daily for 3 days then 1 tab per day at bed\", \"30 tabs 10 days tid\", \"take 30 tabs for 10 days three times a day\", \"qid q6h\", \"bid\", \"qid\", \"30 tabs before dinner and bedtime\", \"30 tabs before dinner & bedtime\", \"take 3 tabs at bedtime\", \"30 tabs thrice daily for 10 days \", \"30 tabs for 10 days three times a day\", \"Take 2 tablets a day\", \"qid for 10 days\", \"every day\", \"take 2 caps at bedtime\", \"apply 3 drops before bedtime\", \"take three capsules daily\", \"swallow 3 pills once a day\", \"swallow three pills thrice a day\", \"apply daily\", \"apply three drops before bedtime\", \"every 6 hours\", \"before food\", \"after food\", \"for 20 days\", \"for twenty days\", \"with meals\"]\n",
    "input_sigs = [['for', '5', 'to', '6', 'days'], ['inject', '2', 'units'], ['x', '2', 'weeks'], ['x', '3', 'days'], ['every', 'day'], ['every', '2', 'weeks'], ['every', '3', 'days'], ['every', '1', 'to', '2', 'months'], ['every', '2', 'to', '6', 'weeks'], ['every', '4', 'to', '6', 'days'], ['take', 'two', 'to', 'four', 'tabs'], ['take', '2', 'to', '4', 'tabs'], ['take', '3', 'tabs', 'orally', 'bid', 'for', '10', 'days', 'at', 'bedtime'], ['swallow', 'three', 'capsules', 'tid', 'orally'], ['take', '2', 'capsules', 'po', 'every', '6', 'hours'], ['take', '2', 'tabs', 'po', 'for', '10', 'days'], ['take', '100', 'caps', 'by', 'mouth', 'tid', 'for', '10', 'weeks'], ['take', '2', 'tabs', 'after', 'an', 'hour'], ['2', 'tabs', 'every', '4-6', 'hours'], ['every', '4', 'to', '6', 'hours'], ['q46h'], ['q4-6h'], ['2', 'hours', 'before', 'breakfast'], ['before', '30', 'mins', 'at', 'bedtime'], ['30', 'mins', 'before', 'bed'], ['and', '100', 'tabs', 'twice', 'a', 'month'], ['100', 'tabs', 'twice', 'a', 'month'], ['100', 'tabs', 'once', 'a', 'month'], ['100', 'tabs', 'thrice', 'a', 'month'], ['3', 'tabs', 'daily', 'for', '3', 'days', 'then', '1', 'tab', 'per', 'day', 'at', 'bed'], ['30', 'tabs', '10', 'days', 'tid'], ['take', '30', 'tabs', 'for', '10', 'days', 'three', 'times', 'a', 'day'], ['qid', 'q6h'], ['bid'], ['qid'], ['30', 'tabs', 'before', 'dinner', 'and', 'bedtime'], ['30', 'tabs', 'before', 'dinner', '&', 'bedtime'], ['take', '3', 'tabs', 'at', 'bedtime'], ['30', 'tabs', 'thrice', 'daily', 'for', '10', 'days'], ['30', 'tabs', 'for', '10', 'days', 'three', 'times', 'a', 'day'], ['take', '2', 'tablets', 'a', 'day'], ['qid', 'for', '10', 'days'], ['every', 'day'], ['take', '2', 'caps', 'at', 'bedtime'], ['apply', '3', 'drops', 'before', 'bedtime'], ['take', 'three', 'capsules', 'daily'], ['swallow', '3', 'pills', 'once', 'a', 'day'], ['swallow', 'three', 'pills', 'thrice', 'a', 'day'], ['apply', 'daily'], ['apply', 'three', 'drops', 'before', 'bedtime'], ['every', '6', 'hours'], ['before', 'food'], ['after', 'food'], ['for', '20', 'days'], ['for', 'twenty', 'days'], ['with', 'meals']]\n",
    "output_labels = [['FOR', 'Duration', 'TO', 'DurationMax', 'DurationUnit'], ['Method', 'Qty', 'Form'], ['FOR', 'Duration', 'DurationUnit'], ['FOR', 'Duration', 'DurationUnit'], ['EVERY', 'Period'], ['EVERY', 'Period', 'PeriodUnit'], ['EVERY', 'Period', 'PeriodUnit'], ['EVERY', 'Period', 'TO', 'PeriodMax', 'PeriodUnit'], ['EVERY', 'Period', 'TO', 'PeriodMax', 'PeriodUnit'], ['EVERY', 'Period', 'TO', 'PeriodMax', 'PeriodUnit'], ['Method', 'Qty', 'TO', 'Qty', 'Form'], ['Method', 'Qty', 'TO', 'Qty', 'Form'], ['Method', 'Qty', 'Form', 'PO', 'BID', 'FOR', 'Duration', 'DurationUnit', 'AT', 'WHEN'], ['Method', 'Qty', 'Form', 'TID', 'PO'], ['Method', 'Qty', 'Form', 'PO', 'EVERY', 'Period', 'PeriodUnit'], ['Method', 'Qty', 'Form', 'PO', 'FOR', 'Duration', 'DurationUnit'], ['Method', 'Qty', 'Form', 'BY', 'PO', 'TID', 'FOR', 'Duration', 'DurationUnit'], ['Method', 'Qty', 'Form', 'AFTER', 'Period', 'PeriodUnit'], ['Qty', 'Form', 'EVERY', 'Period', 'PeriodUnit'], ['EVERY', 'Period', 'TO', 'PeriodMax', 'PeriodUnit'], ['Q46H'], ['Q4-6H'], ['Qty', 'PeriodUnit', 'BEFORE', 'WHEN'], ['BEFORE', 'Qty', 'M', 'AT', 'WHEN'], ['Qty', 'M', 'BEFORE', 'WHEN'], ['AND', 'Qty', 'Form', 'Frequency', 'Period', 'PeriodUnit'], ['Qty', 'Form', 'Frequency', 'Period', 'PeriodUnit'], ['Qty', 'Form', 'Frequency', 'Period', 'PeriodUnit'], ['Qty', 'Form', 'Frequency', 'Period', 'PeriodUnit'], ['Qty', 'Form', 'Frequency', 'FOR', 'Duration', 'DurationUnit', 'THEN', 'Qty', 'Form', 'Frequency', 'PeriodUnit', 'AT', 'WHEN'], ['Qty', 'Form', 'Duration', 'DurationUnit', 'TID'], ['Method', 'Qty', 'Form', 'FOR', 'Duration', 'DurationUnit', 'Qty', 'TIMES', 'Period', 'PeriodUnit'], ['QID', 'Q6H'], ['BID'], ['QID'],['Qty', 'Form', 'BEFORE', 'WHEN', 'AND', 'WHEN'], ['Qty', 'Form', 'BEFORE', 'WHEN', 'AND', 'WHEN'], ['Method', 'Qty', 'Form', 'AT', 'WHEN'], ['Qty', 'Form', 'Frequency', 'DAILY', 'FOR', 'Duration', 'DurationUnit'], ['Qty', 'Form', 'FOR', 'Duration', 'DurationUnit', 'Frequency', 'TIMES', 'Period', 'PeriodUnit'], ['Method', 'Qty', 'Form', 'Period', 'PeriodUnit'], ['QID', 'FOR', 'Duration', 'DurationUnit'], ['EVERY', 'PeriodUnit'], ['Method', 'Qty', 'Form', 'AT', 'WHEN'], ['Method', 'Qty', 'Form', 'BEFORE', 'WHEN'], ['Method', 'Qty', 'Form', 'DAILY'], ['Method', 'Qty', 'Form', 'Frequency', 'Period', 'PeriodUnit'], ['Method', 'Qty', 'Form', 'Frequency', 'Period', 'PeriodUnit'], ['Method', 'DAILY'], ['Method', 'Qty', 'Form', 'BEFORE', 'WHEN'], ['EVERY', 'Period', 'PeriodUnit'], ['BEFORE', 'FOOD'], ['AFTER', 'FOOD'], ['FOR', 'Duration', 'DurationUnit'], ['FOR', 'Duration', 'DurationUnit'], ['WITH', 'FOOD']]"
   ]
  },
  {
   "cell_type": "code",
   "execution_count": 3,
   "metadata": {},
   "outputs": [
    {
     "data": {
      "text/plain": [
       "(56, 56, 56)"
      ]
     },
     "execution_count": 3,
     "metadata": {},
     "output_type": "execute_result"
    }
   ],
   "source": [
    "len(sigs), len(input_sigs) , len(output_labels)"
   ]
  },
  {
   "cell_type": "markdown",
   "metadata": {},
   "source": [
    "### Creating a Tuples Maker method\n",
    "Create the tuples as given below by writing a function **tuples_maker(input_sigs, output_labels)** and returns **output** as given below\n",
    "\n",
    "Input(s): \n",
    "- input_sigs\n",
    "- output_lables\n",
    "\n",
    "Output:\n",
    "\n",
    "[[('for', 'FOR'),\n",
    "  ('5', 'Duration'),\n",
    "  ('to', 'TO'),\n",
    "  ('6', 'DurationMax'),\n",
    "  ('days', 'DurationUnit')], [second sentence], ...]"
   ]
  },
  {
   "cell_type": "code",
   "execution_count": 13,
   "metadata": {},
   "outputs": [],
   "source": [
    "def tuples_maker(input_sigs, output_labels):\n",
    "    \n",
    "    return[[(word, label) for word, label in zip(words, labels)] for words, labels in zip(input_sigs, output_labels)]"
   ]
  },
  {
   "cell_type": "code",
   "execution_count": 14,
   "metadata": {},
   "outputs": [
    {
     "name": "stdout",
     "output_type": "stream",
     "text": [
      "[('for', 'FOR'), ('5', 'Duration'), ('to', 'TO'), ('6', 'DurationMax'), ('days', 'DurationUnit')]\n",
      "[('inject', 'Method'), ('2', 'Qty'), ('units', 'Form')]\n",
      "[('x', 'FOR'), ('2', 'Duration'), ('weeks', 'DurationUnit')]\n",
      "[('x', 'FOR'), ('3', 'Duration'), ('days', 'DurationUnit')]\n",
      "[('every', 'EVERY'), ('day', 'Period')]\n",
      "[('every', 'EVERY'), ('2', 'Period'), ('weeks', 'PeriodUnit')]\n",
      "[('every', 'EVERY'), ('3', 'Period'), ('days', 'PeriodUnit')]\n",
      "[('every', 'EVERY'), ('1', 'Period'), ('to', 'TO'), ('2', 'PeriodMax'), ('months', 'PeriodUnit')]\n",
      "[('every', 'EVERY'), ('2', 'Period'), ('to', 'TO'), ('6', 'PeriodMax'), ('weeks', 'PeriodUnit')]\n",
      "[('every', 'EVERY'), ('4', 'Period'), ('to', 'TO'), ('6', 'PeriodMax'), ('days', 'PeriodUnit')]\n",
      "[('take', 'Method'), ('two', 'Qty'), ('to', 'TO'), ('four', 'Qty'), ('tabs', 'Form')]\n",
      "[('take', 'Method'), ('2', 'Qty'), ('to', 'TO'), ('4', 'Qty'), ('tabs', 'Form')]\n",
      "[('take', 'Method'), ('3', 'Qty'), ('tabs', 'Form'), ('orally', 'PO'), ('bid', 'BID'), ('for', 'FOR'), ('10', 'Duration'), ('days', 'DurationUnit'), ('at', 'AT'), ('bedtime', 'WHEN')]\n",
      "[('swallow', 'Method'), ('three', 'Qty'), ('capsules', 'Form'), ('tid', 'TID'), ('orally', 'PO')]\n",
      "[('take', 'Method'), ('2', 'Qty'), ('capsules', 'Form'), ('po', 'PO'), ('every', 'EVERY'), ('6', 'Period'), ('hours', 'PeriodUnit')]\n",
      "[('take', 'Method'), ('2', 'Qty'), ('tabs', 'Form'), ('po', 'PO'), ('for', 'FOR'), ('10', 'Duration'), ('days', 'DurationUnit')]\n",
      "[('take', 'Method'), ('100', 'Qty'), ('caps', 'Form'), ('by', 'BY'), ('mouth', 'PO'), ('tid', 'TID'), ('for', 'FOR'), ('10', 'Duration'), ('weeks', 'DurationUnit')]\n",
      "[('take', 'Method'), ('2', 'Qty'), ('tabs', 'Form'), ('after', 'AFTER'), ('an', 'Period'), ('hour', 'PeriodUnit')]\n",
      "[('2', 'Qty'), ('tabs', 'Form'), ('every', 'EVERY'), ('4-6', 'Period'), ('hours', 'PeriodUnit')]\n",
      "[('every', 'EVERY'), ('4', 'Period'), ('to', 'TO'), ('6', 'PeriodMax'), ('hours', 'PeriodUnit')]\n",
      "[('q46h', 'Q46H')]\n",
      "[('q4-6h', 'Q4-6H')]\n",
      "[('2', 'Qty'), ('hours', 'PeriodUnit'), ('before', 'BEFORE'), ('breakfast', 'WHEN')]\n",
      "[('before', 'BEFORE'), ('30', 'Qty'), ('mins', 'M'), ('at', 'AT'), ('bedtime', 'WHEN')]\n",
      "[('30', 'Qty'), ('mins', 'M'), ('before', 'BEFORE'), ('bed', 'WHEN')]\n",
      "[('and', 'AND'), ('100', 'Qty'), ('tabs', 'Form'), ('twice', 'Frequency'), ('a', 'Period'), ('month', 'PeriodUnit')]\n",
      "[('100', 'Qty'), ('tabs', 'Form'), ('twice', 'Frequency'), ('a', 'Period'), ('month', 'PeriodUnit')]\n",
      "[('100', 'Qty'), ('tabs', 'Form'), ('once', 'Frequency'), ('a', 'Period'), ('month', 'PeriodUnit')]\n",
      "[('100', 'Qty'), ('tabs', 'Form'), ('thrice', 'Frequency'), ('a', 'Period'), ('month', 'PeriodUnit')]\n",
      "[('3', 'Qty'), ('tabs', 'Form'), ('daily', 'Frequency'), ('for', 'FOR'), ('3', 'Duration'), ('days', 'DurationUnit'), ('then', 'THEN'), ('1', 'Qty'), ('tab', 'Form'), ('per', 'Frequency'), ('day', 'PeriodUnit'), ('at', 'AT'), ('bed', 'WHEN')]\n",
      "[('30', 'Qty'), ('tabs', 'Form'), ('10', 'Duration'), ('days', 'DurationUnit'), ('tid', 'TID')]\n",
      "[('take', 'Method'), ('30', 'Qty'), ('tabs', 'Form'), ('for', 'FOR'), ('10', 'Duration'), ('days', 'DurationUnit'), ('three', 'Qty'), ('times', 'TIMES'), ('a', 'Period'), ('day', 'PeriodUnit')]\n",
      "[('qid', 'QID'), ('q6h', 'Q6H')]\n",
      "[('bid', 'BID')]\n",
      "[('qid', 'QID')]\n",
      "[('30', 'Qty'), ('tabs', 'Form'), ('before', 'BEFORE'), ('dinner', 'WHEN'), ('and', 'AND'), ('bedtime', 'WHEN')]\n",
      "[('30', 'Qty'), ('tabs', 'Form'), ('before', 'BEFORE'), ('dinner', 'WHEN'), ('&', 'AND'), ('bedtime', 'WHEN')]\n",
      "[('take', 'Method'), ('3', 'Qty'), ('tabs', 'Form'), ('at', 'AT'), ('bedtime', 'WHEN')]\n",
      "[('30', 'Qty'), ('tabs', 'Form'), ('thrice', 'Frequency'), ('daily', 'DAILY'), ('for', 'FOR'), ('10', 'Duration'), ('days', 'DurationUnit')]\n",
      "[('30', 'Qty'), ('tabs', 'Form'), ('for', 'FOR'), ('10', 'Duration'), ('days', 'DurationUnit'), ('three', 'Frequency'), ('times', 'TIMES'), ('a', 'Period'), ('day', 'PeriodUnit')]\n",
      "[('take', 'Method'), ('2', 'Qty'), ('tablets', 'Form'), ('a', 'Period'), ('day', 'PeriodUnit')]\n",
      "[('qid', 'QID'), ('for', 'FOR'), ('10', 'Duration'), ('days', 'DurationUnit')]\n",
      "[('every', 'EVERY'), ('day', 'PeriodUnit')]\n",
      "[('take', 'Method'), ('2', 'Qty'), ('caps', 'Form'), ('at', 'AT'), ('bedtime', 'WHEN')]\n",
      "[('apply', 'Method'), ('3', 'Qty'), ('drops', 'Form'), ('before', 'BEFORE'), ('bedtime', 'WHEN')]\n",
      "[('take', 'Method'), ('three', 'Qty'), ('capsules', 'Form'), ('daily', 'DAILY')]\n",
      "[('swallow', 'Method'), ('3', 'Qty'), ('pills', 'Form'), ('once', 'Frequency'), ('a', 'Period'), ('day', 'PeriodUnit')]\n",
      "[('swallow', 'Method'), ('three', 'Qty'), ('pills', 'Form'), ('thrice', 'Frequency'), ('a', 'Period'), ('day', 'PeriodUnit')]\n",
      "[('apply', 'Method'), ('daily', 'DAILY')]\n",
      "[('apply', 'Method'), ('three', 'Qty'), ('drops', 'Form'), ('before', 'BEFORE'), ('bedtime', 'WHEN')]\n",
      "[('every', 'EVERY'), ('6', 'Period'), ('hours', 'PeriodUnit')]\n",
      "[('before', 'BEFORE'), ('food', 'FOOD')]\n",
      "[('after', 'AFTER'), ('food', 'FOOD')]\n",
      "[('for', 'FOR'), ('20', 'Duration'), ('days', 'DurationUnit')]\n",
      "[('for', 'FOR'), ('twenty', 'Duration'), ('days', 'DurationUnit')]\n",
      "[('with', 'WITH'), ('meals', 'FOOD')]\n"
     ]
    }
   ],
   "source": [
    "structured_data = tuples_maker(input_sigs, output_labels)\n",
    "for sentence in structured_data:\n",
    "        print(sentence)"
   ]
  },
  {
   "cell_type": "markdown",
   "metadata": {},
   "source": [
    "### Creating the triples_maker( ) for feature extraction\n",
    "- input: tuples_maker_output\n",
    "- output: \n",
    "[[('for', 'IN', 'FOR'),\n",
    "  ('5', 'CD', 'Duration'),\n",
    "  ('to', 'TO', 'TO'),\n",
    "  ('6', 'CD', 'DurationMax'),\n",
    "  ('days', 'NNS', 'DurationUnit')], [second sentence], ... ]"
   ]
  },
  {
   "cell_type": "code",
   "execution_count": 53,
   "metadata": {},
   "outputs": [],
   "source": [
    "def triples_maker(structred_data):\n",
    "    \n",
    "    return [\n",
    "        [(word, nltk.pos_tag([word])[0][1], label) for word, label in zip(words, labels)]\n",
    "        for words, labels in zip(input_sigs, output_labels)\n",
    "    ]"
   ]
  },
  {
   "cell_type": "code",
   "execution_count": 19,
   "metadata": {},
   "outputs": [
    {
     "data": {
      "text/plain": [
       "[[('for', 'IN', 'FOR'),\n",
       "  ('5', 'CD', 'Duration'),\n",
       "  ('to', 'TO', 'TO'),\n",
       "  ('6', 'CD', 'DurationMax'),\n",
       "  ('days', 'NNS', 'DurationUnit')],\n",
       " [('inject', 'NN', 'Method'), ('2', 'CD', 'Qty'), ('units', 'NNS', 'Form')],\n",
       " [('x', 'NN', 'FOR'),\n",
       "  ('2', 'CD', 'Duration'),\n",
       "  ('weeks', 'NNS', 'DurationUnit')],\n",
       " [('x', 'NN', 'FOR'),\n",
       "  ('3', 'CD', 'Duration'),\n",
       "  ('days', 'NNS', 'DurationUnit')],\n",
       " [('every', 'DT', 'EVERY'), ('day', 'NN', 'Period')],\n",
       " [('every', 'DT', 'EVERY'),\n",
       "  ('2', 'CD', 'Period'),\n",
       "  ('weeks', 'NNS', 'PeriodUnit')],\n",
       " [('every', 'DT', 'EVERY'),\n",
       "  ('3', 'CD', 'Period'),\n",
       "  ('days', 'NNS', 'PeriodUnit')],\n",
       " [('every', 'DT', 'EVERY'),\n",
       "  ('1', 'CD', 'Period'),\n",
       "  ('to', 'TO', 'TO'),\n",
       "  ('2', 'CD', 'PeriodMax'),\n",
       "  ('months', 'NNS', 'PeriodUnit')],\n",
       " [('every', 'DT', 'EVERY'),\n",
       "  ('2', 'CD', 'Period'),\n",
       "  ('to', 'TO', 'TO'),\n",
       "  ('6', 'CD', 'PeriodMax'),\n",
       "  ('weeks', 'NNS', 'PeriodUnit')],\n",
       " [('every', 'DT', 'EVERY'),\n",
       "  ('4', 'CD', 'Period'),\n",
       "  ('to', 'TO', 'TO'),\n",
       "  ('6', 'CD', 'PeriodMax'),\n",
       "  ('days', 'NNS', 'PeriodUnit')],\n",
       " [('take', 'VB', 'Method'),\n",
       "  ('two', 'CD', 'Qty'),\n",
       "  ('to', 'TO', 'TO'),\n",
       "  ('four', 'CD', 'Qty'),\n",
       "  ('tabs', 'NNS', 'Form')],\n",
       " [('take', 'VB', 'Method'),\n",
       "  ('2', 'CD', 'Qty'),\n",
       "  ('to', 'TO', 'TO'),\n",
       "  ('4', 'CD', 'Qty'),\n",
       "  ('tabs', 'NNS', 'Form')],\n",
       " [('take', 'VB', 'Method'),\n",
       "  ('3', 'CD', 'Qty'),\n",
       "  ('tabs', 'NNS', 'Form'),\n",
       "  ('orally', 'RB', 'PO'),\n",
       "  ('bid', 'NN', 'BID'),\n",
       "  ('for', 'IN', 'FOR'),\n",
       "  ('10', 'CD', 'Duration'),\n",
       "  ('days', 'NNS', 'DurationUnit'),\n",
       "  ('at', 'IN', 'AT'),\n",
       "  ('bedtime', 'NN', 'WHEN')],\n",
       " [('swallow', 'NN', 'Method'),\n",
       "  ('three', 'CD', 'Qty'),\n",
       "  ('capsules', 'NNS', 'Form'),\n",
       "  ('tid', 'NN', 'TID'),\n",
       "  ('orally', 'RB', 'PO')],\n",
       " [('take', 'VB', 'Method'),\n",
       "  ('2', 'CD', 'Qty'),\n",
       "  ('capsules', 'NNS', 'Form'),\n",
       "  ('po', 'NN', 'PO'),\n",
       "  ('every', 'DT', 'EVERY'),\n",
       "  ('6', 'CD', 'Period'),\n",
       "  ('hours', 'NNS', 'PeriodUnit')],\n",
       " [('take', 'VB', 'Method'),\n",
       "  ('2', 'CD', 'Qty'),\n",
       "  ('tabs', 'NNS', 'Form'),\n",
       "  ('po', 'NN', 'PO'),\n",
       "  ('for', 'IN', 'FOR'),\n",
       "  ('10', 'CD', 'Duration'),\n",
       "  ('days', 'NNS', 'DurationUnit')],\n",
       " [('take', 'VB', 'Method'),\n",
       "  ('100', 'CD', 'Qty'),\n",
       "  ('caps', 'NNS', 'Form'),\n",
       "  ('by', 'IN', 'BY'),\n",
       "  ('mouth', 'NN', 'PO'),\n",
       "  ('tid', 'NN', 'TID'),\n",
       "  ('for', 'IN', 'FOR'),\n",
       "  ('10', 'CD', 'Duration'),\n",
       "  ('weeks', 'NNS', 'DurationUnit')],\n",
       " [('take', 'VB', 'Method'),\n",
       "  ('2', 'CD', 'Qty'),\n",
       "  ('tabs', 'NNS', 'Form'),\n",
       "  ('after', 'IN', 'AFTER'),\n",
       "  ('an', 'DT', 'Period'),\n",
       "  ('hour', 'NN', 'PeriodUnit')],\n",
       " [('2', 'CD', 'Qty'),\n",
       "  ('tabs', 'NNS', 'Form'),\n",
       "  ('every', 'DT', 'EVERY'),\n",
       "  ('4-6', 'JJ', 'Period'),\n",
       "  ('hours', 'NNS', 'PeriodUnit')],\n",
       " [('every', 'DT', 'EVERY'),\n",
       "  ('4', 'CD', 'Period'),\n",
       "  ('to', 'TO', 'TO'),\n",
       "  ('6', 'CD', 'PeriodMax'),\n",
       "  ('hours', 'NNS', 'PeriodUnit')],\n",
       " [('q46h', 'NN', 'Q46H')],\n",
       " [('q4-6h', 'NN', 'Q4-6H')],\n",
       " [('2', 'CD', 'Qty'),\n",
       "  ('hours', 'NNS', 'PeriodUnit'),\n",
       "  ('before', 'IN', 'BEFORE'),\n",
       "  ('breakfast', 'NN', 'WHEN')],\n",
       " [('before', 'IN', 'BEFORE'),\n",
       "  ('30', 'CD', 'Qty'),\n",
       "  ('mins', 'NNS', 'M'),\n",
       "  ('at', 'IN', 'AT'),\n",
       "  ('bedtime', 'NN', 'WHEN')],\n",
       " [('30', 'CD', 'Qty'),\n",
       "  ('mins', 'NNS', 'M'),\n",
       "  ('before', 'IN', 'BEFORE'),\n",
       "  ('bed', 'NN', 'WHEN')],\n",
       " [('and', 'CC', 'AND'),\n",
       "  ('100', 'CD', 'Qty'),\n",
       "  ('tabs', 'NNS', 'Form'),\n",
       "  ('twice', 'RB', 'Frequency'),\n",
       "  ('a', 'DT', 'Period'),\n",
       "  ('month', 'NN', 'PeriodUnit')],\n",
       " [('100', 'CD', 'Qty'),\n",
       "  ('tabs', 'NNS', 'Form'),\n",
       "  ('twice', 'RB', 'Frequency'),\n",
       "  ('a', 'DT', 'Period'),\n",
       "  ('month', 'NN', 'PeriodUnit')],\n",
       " [('100', 'CD', 'Qty'),\n",
       "  ('tabs', 'NNS', 'Form'),\n",
       "  ('once', 'RB', 'Frequency'),\n",
       "  ('a', 'DT', 'Period'),\n",
       "  ('month', 'NN', 'PeriodUnit')],\n",
       " [('100', 'CD', 'Qty'),\n",
       "  ('tabs', 'NNS', 'Form'),\n",
       "  ('thrice', 'NN', 'Frequency'),\n",
       "  ('a', 'DT', 'Period'),\n",
       "  ('month', 'NN', 'PeriodUnit')],\n",
       " [('3', 'CD', 'Qty'),\n",
       "  ('tabs', 'NNS', 'Form'),\n",
       "  ('daily', 'JJ', 'Frequency'),\n",
       "  ('for', 'IN', 'FOR'),\n",
       "  ('3', 'CD', 'Duration'),\n",
       "  ('days', 'NNS', 'DurationUnit'),\n",
       "  ('then', 'RB', 'THEN'),\n",
       "  ('1', 'CD', 'Qty'),\n",
       "  ('tab', 'NN', 'Form'),\n",
       "  ('per', 'IN', 'Frequency'),\n",
       "  ('day', 'NN', 'PeriodUnit'),\n",
       "  ('at', 'IN', 'AT'),\n",
       "  ('bed', 'NN', 'WHEN')],\n",
       " [('30', 'CD', 'Qty'),\n",
       "  ('tabs', 'NNS', 'Form'),\n",
       "  ('10', 'CD', 'Duration'),\n",
       "  ('days', 'NNS', 'DurationUnit'),\n",
       "  ('tid', 'NN', 'TID')],\n",
       " [('take', 'VB', 'Method'),\n",
       "  ('30', 'CD', 'Qty'),\n",
       "  ('tabs', 'NNS', 'Form'),\n",
       "  ('for', 'IN', 'FOR'),\n",
       "  ('10', 'CD', 'Duration'),\n",
       "  ('days', 'NNS', 'DurationUnit'),\n",
       "  ('three', 'CD', 'Qty'),\n",
       "  ('times', 'NNS', 'TIMES'),\n",
       "  ('a', 'DT', 'Period'),\n",
       "  ('day', 'NN', 'PeriodUnit')],\n",
       " [('qid', 'NN', 'QID'), ('q6h', 'NN', 'Q6H')],\n",
       " [('bid', 'NN', 'BID')],\n",
       " [('qid', 'NN', 'QID')],\n",
       " [('30', 'CD', 'Qty'),\n",
       "  ('tabs', 'NNS', 'Form'),\n",
       "  ('before', 'IN', 'BEFORE'),\n",
       "  ('dinner', 'NN', 'WHEN'),\n",
       "  ('and', 'CC', 'AND'),\n",
       "  ('bedtime', 'NN', 'WHEN')],\n",
       " [('30', 'CD', 'Qty'),\n",
       "  ('tabs', 'NNS', 'Form'),\n",
       "  ('before', 'IN', 'BEFORE'),\n",
       "  ('dinner', 'NN', 'WHEN'),\n",
       "  ('&', 'CC', 'AND'),\n",
       "  ('bedtime', 'NN', 'WHEN')],\n",
       " [('take', 'VB', 'Method'),\n",
       "  ('3', 'CD', 'Qty'),\n",
       "  ('tabs', 'NNS', 'Form'),\n",
       "  ('at', 'IN', 'AT'),\n",
       "  ('bedtime', 'NN', 'WHEN')],\n",
       " [('30', 'CD', 'Qty'),\n",
       "  ('tabs', 'NNS', 'Form'),\n",
       "  ('thrice', 'NN', 'Frequency'),\n",
       "  ('daily', 'JJ', 'DAILY'),\n",
       "  ('for', 'IN', 'FOR'),\n",
       "  ('10', 'CD', 'Duration'),\n",
       "  ('days', 'NNS', 'DurationUnit')],\n",
       " [('30', 'CD', 'Qty'),\n",
       "  ('tabs', 'NNS', 'Form'),\n",
       "  ('for', 'IN', 'FOR'),\n",
       "  ('10', 'CD', 'Duration'),\n",
       "  ('days', 'NNS', 'DurationUnit'),\n",
       "  ('three', 'CD', 'Frequency'),\n",
       "  ('times', 'NNS', 'TIMES'),\n",
       "  ('a', 'DT', 'Period'),\n",
       "  ('day', 'NN', 'PeriodUnit')],\n",
       " [('take', 'VB', 'Method'),\n",
       "  ('2', 'CD', 'Qty'),\n",
       "  ('tablets', 'NNS', 'Form'),\n",
       "  ('a', 'DT', 'Period'),\n",
       "  ('day', 'NN', 'PeriodUnit')],\n",
       " [('qid', 'NN', 'QID'),\n",
       "  ('for', 'IN', 'FOR'),\n",
       "  ('10', 'CD', 'Duration'),\n",
       "  ('days', 'NNS', 'DurationUnit')],\n",
       " [('every', 'DT', 'EVERY'), ('day', 'NN', 'PeriodUnit')],\n",
       " [('take', 'VB', 'Method'),\n",
       "  ('2', 'CD', 'Qty'),\n",
       "  ('caps', 'NNS', 'Form'),\n",
       "  ('at', 'IN', 'AT'),\n",
       "  ('bedtime', 'NN', 'WHEN')],\n",
       " [('apply', 'VB', 'Method'),\n",
       "  ('3', 'CD', 'Qty'),\n",
       "  ('drops', 'NNS', 'Form'),\n",
       "  ('before', 'IN', 'BEFORE'),\n",
       "  ('bedtime', 'NN', 'WHEN')],\n",
       " [('take', 'VB', 'Method'),\n",
       "  ('three', 'CD', 'Qty'),\n",
       "  ('capsules', 'NNS', 'Form'),\n",
       "  ('daily', 'JJ', 'DAILY')],\n",
       " [('swallow', 'NN', 'Method'),\n",
       "  ('3', 'CD', 'Qty'),\n",
       "  ('pills', 'NNS', 'Form'),\n",
       "  ('once', 'RB', 'Frequency'),\n",
       "  ('a', 'DT', 'Period'),\n",
       "  ('day', 'NN', 'PeriodUnit')],\n",
       " [('swallow', 'NN', 'Method'),\n",
       "  ('three', 'CD', 'Qty'),\n",
       "  ('pills', 'NNS', 'Form'),\n",
       "  ('thrice', 'NN', 'Frequency'),\n",
       "  ('a', 'DT', 'Period'),\n",
       "  ('day', 'NN', 'PeriodUnit')],\n",
       " [('apply', 'VB', 'Method'), ('daily', 'JJ', 'DAILY')],\n",
       " [('apply', 'VB', 'Method'),\n",
       "  ('three', 'CD', 'Qty'),\n",
       "  ('drops', 'NNS', 'Form'),\n",
       "  ('before', 'IN', 'BEFORE'),\n",
       "  ('bedtime', 'NN', 'WHEN')],\n",
       " [('every', 'DT', 'EVERY'),\n",
       "  ('6', 'CD', 'Period'),\n",
       "  ('hours', 'NNS', 'PeriodUnit')],\n",
       " [('before', 'IN', 'BEFORE'), ('food', 'NN', 'FOOD')],\n",
       " [('after', 'IN', 'AFTER'), ('food', 'NN', 'FOOD')],\n",
       " [('for', 'IN', 'FOR'),\n",
       "  ('20', 'CD', 'Duration'),\n",
       "  ('days', 'NNS', 'DurationUnit')],\n",
       " [('for', 'IN', 'FOR'),\n",
       "  ('twenty', 'NN', 'Duration'),\n",
       "  ('days', 'NNS', 'DurationUnit')],\n",
       " [('with', 'IN', 'WITH'), ('meals', 'NNS', 'FOOD')]]"
      ]
     },
     "execution_count": 19,
     "metadata": {},
     "output_type": "execute_result"
    }
   ],
   "source": [
    "sample_data = triples_maker(structured_data)\n",
    "sample_data"
   ]
  },
  {
   "cell_type": "markdown",
   "metadata": {},
   "source": [
    "### Creating the features extractor method (GIVEN as a BASELINE)\n",
    "#### The features used are:\n",
    "- SOS, EOS, lowercase, uppercase, title, digit, postag, previous_tag, next_tag\n",
    "#### Feel free to include more features"
   ]
  },
  {
   "cell_type": "code",
   "execution_count": 54,
   "metadata": {},
   "outputs": [],
   "source": [
    "def token_to_features(doc, i):\n",
    "    word = doc[i][0]\n",
    "    postag = doc[i][1]\n",
    "\n",
    "    # Common features for all words\n",
    "    features = [\n",
    "        'bias',\n",
    "        'word.lower=' + word.lower(),\n",
    "        'word[-3:]=' + word[-3:],\n",
    "        'word[-2:]=' + word[-2:],\n",
    "        'word.isupper=%s' % word.isupper(),\n",
    "        'word.istitle=%s' % word.istitle(),\n",
    "        'word.isdigit=%s' % word.isdigit(),\n",
    "        'postag=' + postag\n",
    "    ]\n",
    "\n",
    "    # Features for words that are not\n",
    "    # at the beginning of a document\n",
    "    if i > 0:\n",
    "        word1 = doc[i-1][0]\n",
    "        postag1 = doc[i-1][1]\n",
    "        features.extend([\n",
    "            '-1:word.lower=' + word1.lower(),\n",
    "            '-1:word.istitle=%s' % word1.istitle(),\n",
    "            '-1:word.isupper=%s' % word1.isupper(),\n",
    "            '-1:word.isdigit=%s' % word1.isdigit(),\n",
    "            '-1:postag=' + postag1\n",
    "        ])\n",
    "    else:\n",
    "        # Indicate that it is the 'beginning of a document'\n",
    "        features.append('BOS')\n",
    "\n",
    "    # Features for words that are not\n",
    "    # at the end of a document\n",
    "    if i < len(doc)-1:\n",
    "        word1 = doc[i+1][0]\n",
    "        postag1 = doc[i+1][1]\n",
    "        features.extend([\n",
    "            '+1:word.lower=' + word1.lower(),\n",
    "            '+1:word.istitle=%s' % word1.istitle(),\n",
    "            '+1:word.isupper=%s' % word1.isupper(),\n",
    "            '+1:word.isdigit=%s' % word1.isdigit(),\n",
    "            '+1:postag=' + postag1\n",
    "        ])\n",
    "    else:\n",
    "        # Indicate that it is the 'end of a document'\n",
    "        features.append('EOS')\n",
    "\n",
    "    return features"
   ]
  },
  {
   "cell_type": "markdown",
   "metadata": {},
   "source": [
    "### Running the feature extractor on the training data \n",
    "- Feature extraction\n",
    "- Train-test-split"
   ]
  },
  {
   "cell_type": "code",
   "execution_count": 73,
   "metadata": {},
   "outputs": [],
   "source": [
    "from sklearn.model_selection import train_test_split\n",
    "\n",
    "def get_features (doc) :\n",
    "    return [token_to_features(doc, i) for i in range (len(doc) )]\n",
    "\n",
    "def get_labels (doc) :\n",
    "    return [label for (token, postag, label) in doc]\n",
    "\n",
    "X = [get_features(doc) for doc in sample_data]\n",
    "\n",
    "y = [get_labels(doc) for doc in sample_data]\n",
    "X_train, X_test, Y_train, y_test = train_test_split(X, y, test_size=0.2 ,  random_state= 42)"
   ]
  },
  {
   "cell_type": "markdown",
   "metadata": {},
   "source": [
    "### Training the CRF model with the features extracted using the feature extractor method"
   ]
  },
  {
   "cell_type": "markdown",
   "metadata": {},
   "source": [
    "\n",
    "# Submit training data to the trainer\n",
    "def train_crf_model(X_train, Y_train):\n",
    "    # Set the parameters of the model\n",
    "    crf = CRF(algorithm='lbfgs', c1=0.1, c2=10, max_iterations=50)\n",
    "    crf.fit(X_train, Y_train)\n",
    "    print(\"Training complete. Model results:\")\n",
    "    print(f\"Number of training instances: {len(X_train)}\")\n",
    "    print(f\"Number of features: {len(X_train[0]) if X_train else 0}\")\n",
    "    print(f\"CRF Model Parameters: {crf.get_params()}\")"
   ]
  },
  {
   "cell_type": "markdown",
   "metadata": {},
   "source": [
    "\n",
    "train_crf_model(X_train, Y_train)"
   ]
  },
  {
   "cell_type": "code",
   "execution_count": 74,
   "metadata": {},
   "outputs": [],
   "source": [
    "import pycrfsuite"
   ]
  },
  {
   "cell_type": "code",
   "execution_count": 75,
   "metadata": {},
   "outputs": [
    {
     "name": "stdout",
     "output_type": "stream",
     "text": [
      "Feature generation\n",
      "type: CRF1d\n",
      "feature.minfreq: 0.000000\n",
      "feature.possible_states: 0\n",
      "feature.possible_transitions: 1\n",
      "0....1....2....3....4....5....6....7....8....9....10\n",
      "Number of features: 1757\n",
      "Seconds required: 0.003\n",
      "\n",
      "L-BFGS optimization\n",
      "c1: 0.100000\n",
      "c2: 0.010000\n",
      "num_memories: 6\n",
      "max_iterations: 1000\n",
      "epsilon: 0.000010\n",
      "stop: 10\n",
      "delta: 0.000010\n",
      "linesearch: MoreThuente\n",
      "linesearch.max_iterations: 20\n",
      "\n",
      "***** Iteration #1 *****\n",
      "Loss: 567.279176\n",
      "Feature norm: 1.000000\n",
      "Error norm: 116.778352\n",
      "Active features: 1734\n",
      "Line search trials: 1\n",
      "Line search step: 0.006400\n",
      "Seconds required for this iteration: 0.001\n",
      "\n",
      "***** Iteration #2 *****\n",
      "Loss: 385.155807\n",
      "Feature norm: 5.077424\n",
      "Error norm: 144.645872\n",
      "Active features: 1489\n",
      "Line search trials: 1\n",
      "Line search step: 1.000000\n",
      "Seconds required for this iteration: 0.001\n",
      "\n",
      "***** Iteration #3 *****\n",
      "Loss: 277.028174\n",
      "Feature norm: 5.992673\n",
      "Error norm: 62.587411\n",
      "Active features: 1490\n",
      "Line search trials: 1\n",
      "Line search step: 1.000000\n",
      "Seconds required for this iteration: 0.001\n",
      "\n",
      "***** Iteration #4 *****\n",
      "Loss: 231.999578\n",
      "Feature norm: 6.740330\n",
      "Error norm: 50.151969\n",
      "Active features: 1279\n",
      "Line search trials: 1\n",
      "Line search step: 1.000000\n",
      "Seconds required for this iteration: 0.001\n",
      "\n",
      "***** Iteration #5 *****\n",
      "Loss: 162.196800\n",
      "Feature norm: 8.728575\n",
      "Error norm: 37.804781\n",
      "Active features: 1120\n",
      "Line search trials: 1\n",
      "Line search step: 1.000000\n",
      "Seconds required for this iteration: 0.001\n",
      "\n",
      "***** Iteration #6 *****\n",
      "Loss: 103.730044\n",
      "Feature norm: 11.725288\n",
      "Error norm: 24.863781\n",
      "Active features: 1061\n",
      "Line search trials: 1\n",
      "Line search step: 1.000000\n",
      "Seconds required for this iteration: 0.001\n",
      "\n",
      "***** Iteration #7 *****\n",
      "Loss: 72.398285\n",
      "Feature norm: 14.435750\n",
      "Error norm: 15.252141\n",
      "Active features: 1066\n",
      "Line search trials: 1\n",
      "Line search step: 1.000000\n",
      "Seconds required for this iteration: 0.001\n",
      "\n",
      "***** Iteration #8 *****\n",
      "Loss: 60.242935\n",
      "Feature norm: 15.882752\n",
      "Error norm: 8.871267\n",
      "Active features: 1016\n",
      "Line search trials: 1\n",
      "Line search step: 1.000000\n",
      "Seconds required for this iteration: 0.001\n",
      "\n",
      "***** Iteration #9 *****\n",
      "Loss: 54.601204\n",
      "Feature norm: 16.882306\n",
      "Error norm: 4.560568\n",
      "Active features: 1000\n",
      "Line search trials: 1\n",
      "Line search step: 1.000000\n",
      "Seconds required for this iteration: 0.001\n",
      "\n",
      "***** Iteration #10 *****\n",
      "Loss: 52.184852\n",
      "Feature norm: 17.553931\n",
      "Error norm: 3.025285\n",
      "Active features: 942\n",
      "Line search trials: 1\n",
      "Line search step: 1.000000\n",
      "Seconds required for this iteration: 0.001\n",
      "\n",
      "***** Iteration #11 *****\n",
      "Loss: 50.671076\n",
      "Feature norm: 18.102164\n",
      "Error norm: 5.084238\n",
      "Active features: 861\n",
      "Line search trials: 1\n",
      "Line search step: 1.000000\n",
      "Seconds required for this iteration: 0.001\n",
      "\n",
      "***** Iteration #12 *****\n",
      "Loss: 49.035841\n",
      "Feature norm: 18.305689\n",
      "Error norm: 2.283577\n",
      "Active features: 788\n",
      "Line search trials: 1\n",
      "Line search step: 1.000000\n",
      "Seconds required for this iteration: 0.001\n",
      "\n",
      "***** Iteration #13 *****\n",
      "Loss: 47.564744\n",
      "Feature norm: 18.402667\n",
      "Error norm: 1.929712\n",
      "Active features: 711\n",
      "Line search trials: 1\n",
      "Line search step: 1.000000\n",
      "Seconds required for this iteration: 0.001\n",
      "\n",
      "***** Iteration #14 *****\n",
      "Loss: 46.419642\n",
      "Feature norm: 18.137087\n",
      "Error norm: 5.376484\n",
      "Active features: 538\n",
      "Line search trials: 1\n",
      "Line search step: 1.000000\n",
      "Seconds required for this iteration: 0.001\n",
      "\n",
      "***** Iteration #15 *****\n",
      "Loss: 45.015209\n",
      "Feature norm: 18.348847\n",
      "Error norm: 2.253092\n",
      "Active features: 623\n",
      "Line search trials: 1\n",
      "Line search step: 1.000000\n",
      "Seconds required for this iteration: 0.001\n",
      "\n",
      "***** Iteration #16 *****\n",
      "Loss: 44.624426\n",
      "Feature norm: 18.484508\n",
      "Error norm: 1.416055\n",
      "Active features: 597\n",
      "Line search trials: 1\n",
      "Line search step: 1.000000\n",
      "Seconds required for this iteration: 0.001\n",
      "\n",
      "***** Iteration #17 *****\n",
      "Loss: 43.976930\n",
      "Feature norm: 18.896735\n",
      "Error norm: 1.570952\n",
      "Active features: 526\n",
      "Line search trials: 1\n",
      "Line search step: 1.000000\n",
      "Seconds required for this iteration: 0.001\n",
      "\n",
      "***** Iteration #18 *****\n",
      "Loss: 43.683706\n",
      "Feature norm: 19.280087\n",
      "Error norm: 3.799839\n",
      "Active features: 481\n",
      "Line search trials: 1\n",
      "Line search step: 1.000000\n",
      "Seconds required for this iteration: 0.001\n",
      "\n",
      "***** Iteration #19 *****\n",
      "Loss: 43.267797\n",
      "Feature norm: 19.336058\n",
      "Error norm: 1.022015\n",
      "Active features: 482\n",
      "Line search trials: 1\n",
      "Line search step: 1.000000\n",
      "Seconds required for this iteration: 0.001\n",
      "\n",
      "***** Iteration #20 *****\n",
      "Loss: 43.093664\n",
      "Feature norm: 19.423481\n",
      "Error norm: 0.857349\n",
      "Active features: 473\n",
      "Line search trials: 1\n",
      "Line search step: 1.000000\n",
      "Seconds required for this iteration: 0.001\n",
      "\n",
      "***** Iteration #21 *****\n",
      "Loss: 42.746536\n",
      "Feature norm: 20.024900\n",
      "Error norm: 2.689240\n",
      "Active features: 413\n",
      "Line search trials: 1\n",
      "Line search step: 1.000000\n",
      "Seconds required for this iteration: 0.001\n",
      "\n",
      "***** Iteration #22 *****\n",
      "Loss: 42.501641\n",
      "Feature norm: 20.167051\n",
      "Error norm: 1.551758\n",
      "Active features: 427\n",
      "Line search trials: 1\n",
      "Line search step: 1.000000\n",
      "Seconds required for this iteration: 0.001\n",
      "\n",
      "***** Iteration #23 *****\n",
      "Loss: 42.407221\n",
      "Feature norm: 20.189692\n",
      "Error norm: 0.761709\n",
      "Active features: 427\n",
      "Line search trials: 1\n",
      "Line search step: 1.000000\n",
      "Seconds required for this iteration: 0.001\n",
      "\n",
      "***** Iteration #24 *****\n",
      "Loss: 42.233068\n",
      "Feature norm: 20.357459\n",
      "Error norm: 0.862016\n",
      "Active features: 404\n",
      "Line search trials: 1\n",
      "Line search step: 1.000000\n",
      "Seconds required for this iteration: 0.001\n",
      "\n",
      "***** Iteration #25 *****\n",
      "Loss: 42.208706\n",
      "Feature norm: 20.540990\n",
      "Error norm: 2.597422\n",
      "Active features: 378\n",
      "Line search trials: 1\n",
      "Line search step: 1.000000\n",
      "Seconds required for this iteration: 0.001\n",
      "\n",
      "***** Iteration #26 *****\n",
      "Loss: 42.068100\n",
      "Feature norm: 20.719614\n",
      "Error norm: 0.961486\n",
      "Active features: 379\n",
      "Line search trials: 1\n",
      "Line search step: 1.000000\n",
      "Seconds required for this iteration: 0.001\n",
      "\n",
      "***** Iteration #27 *****\n",
      "Loss: 42.012366\n",
      "Feature norm: 20.734480\n",
      "Error norm: 0.688343\n",
      "Active features: 378\n",
      "Line search trials: 1\n",
      "Line search step: 1.000000\n",
      "Seconds required for this iteration: 0.001\n",
      "\n",
      "***** Iteration #28 *****\n",
      "Loss: 41.954531\n",
      "Feature norm: 20.755169\n",
      "Error norm: 0.516074\n",
      "Active features: 362\n",
      "Line search trials: 1\n",
      "Line search step: 1.000000\n",
      "Seconds required for this iteration: 0.001\n",
      "\n",
      "***** Iteration #29 *****\n",
      "Loss: 41.895174\n",
      "Feature norm: 20.885253\n",
      "Error norm: 1.176583\n",
      "Active features: 327\n",
      "Line search trials: 1\n",
      "Line search step: 1.000000\n",
      "Seconds required for this iteration: 0.001\n",
      "\n",
      "***** Iteration #30 *****\n",
      "Loss: 41.828996\n",
      "Feature norm: 20.926210\n",
      "Error norm: 0.712141\n",
      "Active features: 340\n",
      "Line search trials: 1\n",
      "Line search step: 1.000000\n",
      "Seconds required for this iteration: 0.001\n",
      "\n",
      "***** Iteration #31 *****\n",
      "Loss: 41.802294\n",
      "Feature norm: 20.945238\n",
      "Error norm: 0.332284\n",
      "Active features: 334\n",
      "Line search trials: 1\n",
      "Line search step: 1.000000\n",
      "Seconds required for this iteration: 0.001\n",
      "\n",
      "***** Iteration #32 *****\n",
      "Loss: 41.774405\n",
      "Feature norm: 20.988049\n",
      "Error norm: 0.494224\n",
      "Active features: 334\n",
      "Line search trials: 1\n",
      "Line search step: 1.000000\n",
      "Seconds required for this iteration: 0.001\n",
      "\n",
      "***** Iteration #33 *****\n",
      "Loss: 41.758091\n",
      "Feature norm: 21.032541\n",
      "Error norm: 0.942032\n",
      "Active features: 327\n",
      "Line search trials: 1\n",
      "Line search step: 1.000000\n",
      "Seconds required for this iteration: 0.001\n",
      "\n",
      "***** Iteration #34 *****\n",
      "Loss: 41.719805\n",
      "Feature norm: 21.086214\n",
      "Error norm: 0.649709\n",
      "Active features: 331\n",
      "Line search trials: 1\n",
      "Line search step: 1.000000\n",
      "Seconds required for this iteration: 0.001\n",
      "\n",
      "***** Iteration #35 *****\n",
      "Loss: 41.698864\n",
      "Feature norm: 21.117312\n",
      "Error norm: 0.583988\n",
      "Active features: 324\n",
      "Line search trials: 1\n",
      "Line search step: 1.000000\n",
      "Seconds required for this iteration: 0.001\n",
      "\n",
      "***** Iteration #36 *****\n",
      "Loss: 41.673936\n",
      "Feature norm: 21.140823\n",
      "Error norm: 0.498726\n",
      "Active features: 320\n",
      "Line search trials: 1\n",
      "Line search step: 1.000000\n",
      "Seconds required for this iteration: 0.001\n",
      "\n",
      "***** Iteration #37 *****\n",
      "Loss: 41.654597\n",
      "Feature norm: 21.185523\n",
      "Error norm: 0.348571\n",
      "Active features: 307\n",
      "Line search trials: 1\n",
      "Line search step: 1.000000\n",
      "Seconds required for this iteration: 0.001\n",
      "\n",
      "***** Iteration #38 *****\n",
      "Loss: 41.647842\n",
      "Feature norm: 21.230005\n",
      "Error norm: 0.649389\n",
      "Active features: 309\n",
      "Line search trials: 1\n",
      "Line search step: 1.000000\n",
      "Seconds required for this iteration: 0.001\n",
      "\n",
      "***** Iteration #39 *****\n",
      "Loss: 41.634444\n",
      "Feature norm: 21.202002\n",
      "Error norm: 0.287128\n",
      "Active features: 321\n",
      "Line search trials: 1\n",
      "Line search step: 1.000000\n",
      "Seconds required for this iteration: 0.001\n",
      "\n",
      "***** Iteration #40 *****\n",
      "Loss: 41.622548\n",
      "Feature norm: 21.231630\n",
      "Error norm: 0.478509\n",
      "Active features: 308\n",
      "Line search trials: 1\n",
      "Line search step: 1.000000\n",
      "Seconds required for this iteration: 0.001\n",
      "\n",
      "***** Iteration #41 *****\n",
      "Loss: 41.606255\n",
      "Feature norm: 21.235680\n",
      "Error norm: 0.212320\n",
      "Active features: 306\n",
      "Line search trials: 1\n",
      "Line search step: 1.000000\n",
      "Seconds required for this iteration: 0.001\n",
      "\n",
      "***** Iteration #42 *****\n",
      "Loss: 41.584692\n",
      "Feature norm: 21.261673\n",
      "Error norm: 0.337215\n",
      "Active features: 301\n",
      "Line search trials: 1\n",
      "Line search step: 1.000000\n",
      "Seconds required for this iteration: 0.001\n",
      "\n",
      "***** Iteration #43 *****\n",
      "Loss: 41.573211\n",
      "Feature norm: 21.256466\n",
      "Error norm: 0.493470\n",
      "Active features: 299\n",
      "Line search trials: 1\n",
      "Line search step: 1.000000\n",
      "Seconds required for this iteration: 0.001\n",
      "\n",
      "***** Iteration #44 *****\n",
      "Loss: 41.556087\n",
      "Feature norm: 21.246862\n",
      "Error norm: 0.331312\n",
      "Active features: 299\n",
      "Line search trials: 1\n",
      "Line search step: 1.000000\n",
      "Seconds required for this iteration: 0.001\n",
      "\n",
      "***** Iteration #45 *****\n",
      "Loss: 41.550703\n",
      "Feature norm: 21.253908\n",
      "Error norm: 0.500003\n",
      "Active features: 296\n",
      "Line search trials: 1\n",
      "Line search step: 1.000000\n",
      "Seconds required for this iteration: 0.001\n",
      "\n",
      "***** Iteration #46 *****\n",
      "Loss: 41.539367\n",
      "Feature norm: 21.251993\n",
      "Error norm: 0.340612\n",
      "Active features: 297\n",
      "Line search trials: 1\n",
      "Line search step: 1.000000\n",
      "Seconds required for this iteration: 0.001\n",
      "\n",
      "***** Iteration #47 *****\n",
      "Loss: 41.534053\n",
      "Feature norm: 21.256665\n",
      "Error norm: 0.193782\n",
      "Active features: 297\n",
      "Line search trials: 1\n",
      "Line search step: 1.000000\n",
      "Seconds required for this iteration: 0.001\n",
      "\n",
      "***** Iteration #48 *****\n",
      "Loss: 41.530573\n",
      "Feature norm: 21.258280\n",
      "Error norm: 0.173917\n",
      "Active features: 297\n",
      "Line search trials: 1\n",
      "Line search step: 1.000000\n",
      "Seconds required for this iteration: 0.001\n",
      "\n",
      "***** Iteration #49 *****\n",
      "Loss: 41.526170\n",
      "Feature norm: 21.264198\n",
      "Error norm: 0.148892\n",
      "Active features: 297\n",
      "Line search trials: 1\n",
      "Line search step: 1.000000\n",
      "Seconds required for this iteration: 0.001\n",
      "\n",
      "***** Iteration #50 *****\n",
      "Loss: 41.522295\n",
      "Feature norm: 21.260789\n",
      "Error norm: 0.296131\n",
      "Active features: 297\n",
      "Line search trials: 1\n",
      "Line search step: 1.000000\n",
      "Seconds required for this iteration: 0.001\n",
      "\n",
      "***** Iteration #51 *****\n",
      "Loss: 41.520547\n",
      "Feature norm: 21.281923\n",
      "Error norm: 0.354434\n",
      "Active features: 299\n",
      "Line search trials: 1\n",
      "Line search step: 1.000000\n",
      "Seconds required for this iteration: 0.001\n",
      "\n",
      "***** Iteration #52 *****\n",
      "Loss: 41.514189\n",
      "Feature norm: 21.283651\n",
      "Error norm: 0.244282\n",
      "Active features: 300\n",
      "Line search trials: 1\n",
      "Line search step: 1.000000\n",
      "Seconds required for this iteration: 0.001\n",
      "\n",
      "***** Iteration #53 *****\n",
      "Loss: 41.511625\n",
      "Feature norm: 21.287902\n",
      "Error norm: 0.200491\n",
      "Active features: 299\n",
      "Line search trials: 1\n",
      "Line search step: 1.000000\n",
      "Seconds required for this iteration: 0.001\n",
      "\n",
      "***** Iteration #54 *****\n",
      "Loss: 41.508953\n",
      "Feature norm: 21.291645\n",
      "Error norm: 0.190923\n",
      "Active features: 297\n",
      "Line search trials: 1\n",
      "Line search step: 1.000000\n",
      "Seconds required for this iteration: 0.001\n",
      "\n",
      "***** Iteration #55 *****\n",
      "Loss: 41.505473\n",
      "Feature norm: 21.292417\n",
      "Error norm: 0.142905\n",
      "Active features: 296\n",
      "Line search trials: 1\n",
      "Line search step: 1.000000\n",
      "Seconds required for this iteration: 0.001\n",
      "\n",
      "***** Iteration #56 *****\n",
      "Loss: 41.503777\n",
      "Feature norm: 21.297451\n",
      "Error norm: 0.278098\n",
      "Active features: 294\n",
      "Line search trials: 1\n",
      "Line search step: 1.000000\n",
      "Seconds required for this iteration: 0.001\n",
      "\n",
      "***** Iteration #57 *****\n",
      "Loss: 41.500364\n",
      "Feature norm: 21.302594\n",
      "Error norm: 0.232174\n",
      "Active features: 293\n",
      "Line search trials: 1\n",
      "Line search step: 1.000000\n",
      "Seconds required for this iteration: 0.001\n",
      "\n",
      "***** Iteration #58 *****\n",
      "Loss: 41.497282\n",
      "Feature norm: 21.305739\n",
      "Error norm: 0.216957\n",
      "Active features: 295\n",
      "Line search trials: 1\n",
      "Line search step: 1.000000\n",
      "Seconds required for this iteration: 0.001\n",
      "\n",
      "***** Iteration #59 *****\n",
      "Loss: 41.494634\n",
      "Feature norm: 21.310619\n",
      "Error norm: 0.132774\n",
      "Active features: 295\n",
      "Line search trials: 1\n",
      "Line search step: 1.000000\n",
      "Seconds required for this iteration: 0.001\n",
      "\n",
      "***** Iteration #60 *****\n",
      "Loss: 41.492543\n",
      "Feature norm: 21.306481\n",
      "Error norm: 0.170746\n",
      "Active features: 294\n",
      "Line search trials: 1\n",
      "Line search step: 1.000000\n",
      "Seconds required for this iteration: 0.001\n",
      "\n",
      "***** Iteration #61 *****\n",
      "Loss: 41.490806\n",
      "Feature norm: 21.313849\n",
      "Error norm: 0.182698\n",
      "Active features: 293\n",
      "Line search trials: 1\n",
      "Line search step: 1.000000\n",
      "Seconds required for this iteration: 0.001\n",
      "\n",
      "***** Iteration #62 *****\n",
      "Loss: 41.489417\n",
      "Feature norm: 21.311926\n",
      "Error norm: 0.281838\n",
      "Active features: 293\n",
      "Line search trials: 1\n",
      "Line search step: 1.000000\n",
      "Seconds required for this iteration: 0.001\n",
      "\n",
      "***** Iteration #63 *****\n",
      "Loss: 41.487422\n",
      "Feature norm: 21.325844\n",
      "Error norm: 0.243384\n",
      "Active features: 289\n",
      "Line search trials: 1\n",
      "Line search step: 1.000000\n",
      "Seconds required for this iteration: 0.001\n",
      "\n",
      "***** Iteration #64 *****\n",
      "Loss: 41.484406\n",
      "Feature norm: 21.326989\n",
      "Error norm: 0.218018\n",
      "Active features: 288\n",
      "Line search trials: 1\n",
      "Line search step: 1.000000\n",
      "Seconds required for this iteration: 0.001\n",
      "\n",
      "***** Iteration #65 *****\n",
      "Loss: 41.482590\n",
      "Feature norm: 21.332445\n",
      "Error norm: 0.165331\n",
      "Active features: 288\n",
      "Line search trials: 1\n",
      "Line search step: 1.000000\n",
      "Seconds required for this iteration: 0.001\n",
      "\n",
      "***** Iteration #66 *****\n",
      "Loss: 41.481044\n",
      "Feature norm: 21.332915\n",
      "Error norm: 0.178496\n",
      "Active features: 286\n",
      "Line search trials: 1\n",
      "Line search step: 1.000000\n",
      "Seconds required for this iteration: 0.001\n",
      "\n",
      "***** Iteration #67 *****\n",
      "Loss: 41.479436\n",
      "Feature norm: 21.339883\n",
      "Error norm: 0.135570\n",
      "Active features: 285\n",
      "Line search trials: 1\n",
      "Line search step: 1.000000\n",
      "Seconds required for this iteration: 0.001\n",
      "\n",
      "***** Iteration #68 *****\n",
      "Loss: 41.477909\n",
      "Feature norm: 21.342055\n",
      "Error norm: 0.091269\n",
      "Active features: 288\n",
      "Line search trials: 1\n",
      "Line search step: 1.000000\n",
      "Seconds required for this iteration: 0.001\n",
      "\n",
      "***** Iteration #69 *****\n",
      "Loss: 41.476698\n",
      "Feature norm: 21.351407\n",
      "Error norm: 0.102427\n",
      "Active features: 288\n",
      "Line search trials: 1\n",
      "Line search step: 1.000000\n",
      "Seconds required for this iteration: 0.001\n",
      "\n",
      "***** Iteration #70 *****\n",
      "Loss: 41.475713\n",
      "Feature norm: 21.355697\n",
      "Error norm: 0.157033\n",
      "Active features: 288\n",
      "Line search trials: 1\n",
      "Line search step: 1.000000\n",
      "Seconds required for this iteration: 0.001\n",
      "\n",
      "***** Iteration #71 *****\n",
      "Loss: 41.475266\n",
      "Feature norm: 21.369228\n",
      "Error norm: 0.194150\n",
      "Active features: 288\n",
      "Line search trials: 1\n",
      "Line search step: 1.000000\n",
      "Seconds required for this iteration: 0.001\n",
      "\n",
      "***** Iteration #72 *****\n",
      "Loss: 41.473657\n",
      "Feature norm: 21.367802\n",
      "Error norm: 0.105576\n",
      "Active features: 286\n",
      "Line search trials: 1\n",
      "Line search step: 1.000000\n",
      "Seconds required for this iteration: 0.001\n",
      "\n",
      "***** Iteration #73 *****\n",
      "Loss: 41.472904\n",
      "Feature norm: 21.372186\n",
      "Error norm: 0.086875\n",
      "Active features: 283\n",
      "Line search trials: 1\n",
      "Line search step: 1.000000\n",
      "Seconds required for this iteration: 0.001\n",
      "\n",
      "***** Iteration #74 *****\n",
      "Loss: 41.472126\n",
      "Feature norm: 21.371588\n",
      "Error norm: 0.067041\n",
      "Active features: 283\n",
      "Line search trials: 1\n",
      "Line search step: 1.000000\n",
      "Seconds required for this iteration: 0.001\n",
      "\n",
      "***** Iteration #75 *****\n",
      "Loss: 41.470658\n",
      "Feature norm: 21.372208\n",
      "Error norm: 0.141252\n",
      "Active features: 281\n",
      "Line search trials: 1\n",
      "Line search step: 1.000000\n",
      "Seconds required for this iteration: 0.001\n",
      "\n",
      "***** Iteration #76 *****\n",
      "Loss: 41.469571\n",
      "Feature norm: 21.375657\n",
      "Error norm: 0.086254\n",
      "Active features: 281\n",
      "Line search trials: 1\n",
      "Line search step: 1.000000\n",
      "Seconds required for this iteration: 0.001\n",
      "\n",
      "***** Iteration #77 *****\n",
      "Loss: 41.468539\n",
      "Feature norm: 21.376267\n",
      "Error norm: 0.062806\n",
      "Active features: 283\n",
      "Line search trials: 1\n",
      "Line search step: 1.000000\n",
      "Seconds required for this iteration: 0.001\n",
      "\n",
      "***** Iteration #78 *****\n",
      "Loss: 41.467220\n",
      "Feature norm: 21.382135\n",
      "Error norm: 0.046271\n",
      "Active features: 279\n",
      "Line search trials: 1\n",
      "Line search step: 1.000000\n",
      "Seconds required for this iteration: 0.001\n",
      "\n",
      "***** Iteration #79 *****\n",
      "Loss: 41.466190\n",
      "Feature norm: 21.387763\n",
      "Error norm: 0.054203\n",
      "Active features: 279\n",
      "Line search trials: 1\n",
      "Line search step: 1.000000\n",
      "Seconds required for this iteration: 0.001\n",
      "\n",
      "***** Iteration #80 *****\n",
      "Loss: 41.465589\n",
      "Feature norm: 21.393429\n",
      "Error norm: 0.088904\n",
      "Active features: 279\n",
      "Line search trials: 1\n",
      "Line search step: 1.000000\n",
      "Seconds required for this iteration: 0.001\n",
      "\n",
      "***** Iteration #81 *****\n",
      "Loss: 41.464969\n",
      "Feature norm: 21.396501\n",
      "Error norm: 0.081756\n",
      "Active features: 279\n",
      "Line search trials: 1\n",
      "Line search step: 1.000000\n",
      "Seconds required for this iteration: 0.001\n",
      "\n",
      "***** Iteration #82 *****\n",
      "Loss: 41.464325\n",
      "Feature norm: 21.398997\n",
      "Error norm: 0.066974\n",
      "Active features: 279\n",
      "Line search trials: 1\n",
      "Line search step: 1.000000\n",
      "Seconds required for this iteration: 0.001\n",
      "\n",
      "***** Iteration #83 *****\n",
      "Loss: 41.463818\n",
      "Feature norm: 21.399771\n",
      "Error norm: 0.056606\n",
      "Active features: 279\n",
      "Line search trials: 1\n",
      "Line search step: 1.000000\n",
      "Seconds required for this iteration: 0.001\n",
      "\n",
      "***** Iteration #84 *****\n",
      "Loss: 41.463281\n",
      "Feature norm: 21.400703\n",
      "Error norm: 0.063660\n",
      "Active features: 279\n",
      "Line search trials: 1\n",
      "Line search step: 1.000000\n",
      "Seconds required for this iteration: 0.001\n",
      "\n",
      "***** Iteration #85 *****\n",
      "Loss: 41.462665\n",
      "Feature norm: 21.400863\n",
      "Error norm: 0.071461\n",
      "Active features: 279\n",
      "Line search trials: 1\n",
      "Line search step: 1.000000\n",
      "Seconds required for this iteration: 0.001\n",
      "\n",
      "***** Iteration #86 *****\n",
      "Loss: 41.462121\n",
      "Feature norm: 21.402765\n",
      "Error norm: 0.042251\n",
      "Active features: 279\n",
      "Line search trials: 2\n",
      "Line search step: 0.500000\n",
      "Seconds required for this iteration: 0.001\n",
      "\n",
      "***** Iteration #87 *****\n",
      "Loss: 41.461840\n",
      "Feature norm: 21.402311\n",
      "Error norm: 0.045582\n",
      "Active features: 279\n",
      "Line search trials: 2\n",
      "Line search step: 0.500000\n",
      "Seconds required for this iteration: 0.001\n",
      "\n",
      "***** Iteration #88 *****\n",
      "Loss: 41.461596\n",
      "Feature norm: 21.406492\n",
      "Error norm: 0.046190\n",
      "Active features: 279\n",
      "Line search trials: 2\n",
      "Line search step: 0.500000\n",
      "Seconds required for this iteration: 0.001\n",
      "\n",
      "***** Iteration #89 *****\n",
      "Loss: 41.461305\n",
      "Feature norm: 21.405997\n",
      "Error norm: 0.040478\n",
      "Active features: 278\n",
      "Line search trials: 2\n",
      "Line search step: 0.500000\n",
      "Seconds required for this iteration: 0.001\n",
      "\n",
      "***** Iteration #90 *****\n",
      "Loss: 41.461153\n",
      "Feature norm: 21.409603\n",
      "Error norm: 0.040770\n",
      "Active features: 277\n",
      "Line search trials: 2\n",
      "Line search step: 0.500000\n",
      "Seconds required for this iteration: 0.001\n",
      "\n",
      "***** Iteration #91 *****\n",
      "Loss: 41.461044\n",
      "Feature norm: 21.409904\n",
      "Error norm: 0.049040\n",
      "Active features: 276\n",
      "Line search trials: 1\n",
      "Line search step: 1.000000\n",
      "Seconds required for this iteration: 0.001\n",
      "\n",
      "***** Iteration #92 *****\n",
      "Loss: 41.460915\n",
      "Feature norm: 21.413878\n",
      "Error norm: 0.046061\n",
      "Active features: 276\n",
      "Line search trials: 1\n",
      "Line search step: 1.000000\n",
      "Seconds required for this iteration: 0.001\n",
      "\n",
      "***** Iteration #93 *****\n",
      "Loss: 41.460784\n",
      "Feature norm: 21.413241\n",
      "Error norm: 0.030751\n",
      "Active features: 276\n",
      "Line search trials: 1\n",
      "Line search step: 1.000000\n",
      "Seconds required for this iteration: 0.001\n",
      "\n",
      "***** Iteration #94 *****\n",
      "Loss: 41.460661\n",
      "Feature norm: 21.415715\n",
      "Error norm: 0.024529\n",
      "Active features: 276\n",
      "Line search trials: 1\n",
      "Line search step: 1.000000\n",
      "Seconds required for this iteration: 0.001\n",
      "\n",
      "***** Iteration #95 *****\n",
      "Loss: 41.460515\n",
      "Feature norm: 21.417059\n",
      "Error norm: 0.024039\n",
      "Active features: 276\n",
      "Line search trials: 1\n",
      "Line search step: 1.000000\n",
      "Seconds required for this iteration: 0.001\n",
      "\n",
      "***** Iteration #96 *****\n",
      "Loss: 41.460411\n",
      "Feature norm: 21.420621\n",
      "Error norm: 0.033490\n",
      "Active features: 276\n",
      "Line search trials: 1\n",
      "Line search step: 1.000000\n",
      "Seconds required for this iteration: 0.001\n",
      "\n",
      "***** Iteration #97 *****\n",
      "Loss: 41.460351\n",
      "Feature norm: 21.420427\n",
      "Error norm: 0.039838\n",
      "Active features: 276\n",
      "Line search trials: 1\n",
      "Line search step: 1.000000\n",
      "Seconds required for this iteration: 0.001\n",
      "\n",
      "***** Iteration #98 *****\n",
      "Loss: 41.460270\n",
      "Feature norm: 21.422325\n",
      "Error norm: 0.030352\n",
      "Active features: 276\n",
      "Line search trials: 1\n",
      "Line search step: 1.000000\n",
      "Seconds required for this iteration: 0.001\n",
      "\n",
      "***** Iteration #99 *****\n",
      "Loss: 41.460202\n",
      "Feature norm: 21.422027\n",
      "Error norm: 0.024445\n",
      "Active features: 276\n",
      "Line search trials: 1\n",
      "Line search step: 1.000000\n",
      "Seconds required for this iteration: 0.001\n",
      "\n",
      "***** Iteration #100 *****\n",
      "Loss: 41.460139\n",
      "Feature norm: 21.422808\n",
      "Error norm: 0.017552\n",
      "Active features: 276\n",
      "Line search trials: 1\n",
      "Line search step: 1.000000\n",
      "Seconds required for this iteration: 0.001\n",
      "\n",
      "***** Iteration #101 *****\n",
      "Loss: 41.460047\n",
      "Feature norm: 21.423251\n",
      "Error norm: 0.016469\n",
      "Active features: 276\n",
      "Line search trials: 1\n",
      "Line search step: 1.000000\n",
      "Seconds required for this iteration: 0.001\n",
      "\n",
      "***** Iteration #102 *****\n",
      "Loss: 41.459826\n",
      "Feature norm: 21.423827\n",
      "Error norm: 0.028784\n",
      "Active features: 274\n",
      "Line search trials: 1\n",
      "Line search step: 1.000000\n",
      "Seconds required for this iteration: 0.001\n",
      "\n",
      "***** Iteration #103 *****\n",
      "Loss: 41.459794\n",
      "Feature norm: 21.422962\n",
      "Error norm: 0.041934\n",
      "Active features: 275\n",
      "Line search trials: 1\n",
      "Line search step: 1.000000\n",
      "Seconds required for this iteration: 0.001\n",
      "\n",
      "***** Iteration #104 *****\n",
      "Loss: 41.459732\n",
      "Feature norm: 21.423797\n",
      "Error norm: 0.037271\n",
      "Active features: 277\n",
      "Line search trials: 1\n",
      "Line search step: 1.000000\n",
      "Seconds required for this iteration: 0.001\n",
      "\n",
      "***** Iteration #105 *****\n",
      "Loss: 41.459651\n",
      "Feature norm: 21.422954\n",
      "Error norm: 0.029225\n",
      "Active features: 276\n",
      "Line search trials: 1\n",
      "Line search step: 1.000000\n",
      "Seconds required for this iteration: 0.001\n",
      "\n",
      "***** Iteration #106 *****\n",
      "Loss: 41.459586\n",
      "Feature norm: 21.423962\n",
      "Error norm: 0.025376\n",
      "Active features: 277\n",
      "Line search trials: 1\n",
      "Line search step: 1.000000\n",
      "Seconds required for this iteration: 0.001\n",
      "\n",
      "***** Iteration #107 *****\n",
      "Loss: 41.459504\n",
      "Feature norm: 21.424919\n",
      "Error norm: 0.017036\n",
      "Active features: 278\n",
      "Line search trials: 1\n",
      "Line search step: 1.000000\n",
      "Seconds required for this iteration: 0.001\n",
      "\n",
      "***** Iteration #108 *****\n",
      "Loss: 41.459397\n",
      "Feature norm: 21.425393\n",
      "Error norm: 0.019491\n",
      "Active features: 276\n",
      "Line search trials: 1\n",
      "Line search step: 1.000000\n",
      "Seconds required for this iteration: 0.001\n",
      "\n",
      "***** Iteration #109 *****\n",
      "Loss: 41.459291\n",
      "Feature norm: 21.425449\n",
      "Error norm: 0.026828\n",
      "Active features: 275\n",
      "Line search trials: 1\n",
      "Line search step: 1.000000\n",
      "Seconds required for this iteration: 0.001\n",
      "\n",
      "***** Iteration #110 *****\n",
      "Loss: 41.459281\n",
      "Feature norm: 21.427017\n",
      "Error norm: 0.040741\n",
      "Active features: 275\n",
      "Line search trials: 1\n",
      "Line search step: 1.000000\n",
      "Seconds required for this iteration: 0.001\n",
      "\n",
      "***** Iteration #111 *****\n",
      "Loss: 41.459180\n",
      "Feature norm: 21.428081\n",
      "Error norm: 0.033804\n",
      "Active features: 273\n",
      "Line search trials: 1\n",
      "Line search step: 1.000000\n",
      "Seconds required for this iteration: 0.001\n",
      "\n",
      "***** Iteration #112 *****\n",
      "Loss: 41.459115\n",
      "Feature norm: 21.428471\n",
      "Error norm: 0.027333\n",
      "Active features: 273\n",
      "Line search trials: 1\n",
      "Line search step: 1.000000\n",
      "Seconds required for this iteration: 0.001\n",
      "\n",
      "***** Iteration #113 *****\n",
      "Loss: 41.459066\n",
      "Feature norm: 21.429204\n",
      "Error norm: 0.021919\n",
      "Active features: 274\n",
      "Line search trials: 1\n",
      "Line search step: 1.000000\n",
      "Seconds required for this iteration: 0.001\n",
      "\n",
      "***** Iteration #114 *****\n",
      "Loss: 41.459023\n",
      "Feature norm: 21.429692\n",
      "Error norm: 0.018506\n",
      "Active features: 274\n",
      "Line search trials: 1\n",
      "Line search step: 1.000000\n",
      "Seconds required for this iteration: 0.001\n",
      "\n",
      "***** Iteration #115 *****\n",
      "Loss: 41.458979\n",
      "Feature norm: 21.430278\n",
      "Error norm: 0.016958\n",
      "Active features: 274\n",
      "Line search trials: 1\n",
      "Line search step: 1.000000\n",
      "Seconds required for this iteration: 0.001\n",
      "\n",
      "***** Iteration #116 *****\n",
      "Loss: 41.458948\n",
      "Feature norm: 21.430181\n",
      "Error norm: 0.024056\n",
      "Active features: 274\n",
      "Line search trials: 1\n",
      "Line search step: 1.000000\n",
      "Seconds required for this iteration: 0.001\n",
      "\n",
      "***** Iteration #117 *****\n",
      "Loss: 41.458918\n",
      "Feature norm: 21.432351\n",
      "Error norm: 0.030114\n",
      "Active features: 274\n",
      "Line search trials: 1\n",
      "Line search step: 1.000000\n",
      "Seconds required for this iteration: 0.001\n",
      "\n",
      "***** Iteration #118 *****\n",
      "Loss: 41.458879\n",
      "Feature norm: 21.432248\n",
      "Error norm: 0.029799\n",
      "Active features: 275\n",
      "Line search trials: 1\n",
      "Line search step: 1.000000\n",
      "Seconds required for this iteration: 0.001\n",
      "\n",
      "***** Iteration #119 *****\n",
      "Loss: 41.458828\n",
      "Feature norm: 21.433334\n",
      "Error norm: 0.028132\n",
      "Active features: 275\n",
      "Line search trials: 1\n",
      "Line search step: 1.000000\n",
      "Seconds required for this iteration: 0.001\n",
      "\n",
      "***** Iteration #120 *****\n",
      "Loss: 41.458782\n",
      "Feature norm: 21.434068\n",
      "Error norm: 0.020799\n",
      "Active features: 274\n",
      "Line search trials: 1\n",
      "Line search step: 1.000000\n",
      "Seconds required for this iteration: 0.001\n",
      "\n",
      "***** Iteration #121 *****\n",
      "Loss: 41.458757\n",
      "Feature norm: 21.434571\n",
      "Error norm: 0.018982\n",
      "Active features: 272\n",
      "Line search trials: 1\n",
      "Line search step: 1.000000\n",
      "Seconds required for this iteration: 0.001\n",
      "\n",
      "***** Iteration #122 *****\n",
      "Loss: 41.458723\n",
      "Feature norm: 21.434257\n",
      "Error norm: 0.011967\n",
      "Active features: 271\n",
      "Line search trials: 1\n",
      "Line search step: 1.000000\n",
      "Seconds required for this iteration: 0.001\n",
      "\n",
      "L-BFGS terminated with the stopping criteria\n",
      "Total seconds required for training: 0.090\n",
      "\n",
      "Storing the model\n",
      "Number of active features: 271 (1757)\n",
      "Number of active attributes: 189 (330)\n",
      "Number of active labels: 30 (30)\n",
      "Writing labels\n",
      "Writing attributes\n",
      "Writing feature references for transitions\n",
      "Writing feature references for attributes\n",
      "Seconds required: 0.003\n",
      "\n"
     ]
    }
   ],
   "source": [
    "trainer = pycrfsuite.Trainer(verbose=True)\n",
    "\n",
    "for xseq, yseq in zip(X_train, Y_train):\n",
    "    trainer.append(xseq, yseq)\n",
    "\n",
    "trainer.set_params({\n",
    "    'c1': 0.1,                   \n",
    "    'c2': 0.01,                  \n",
    "    'max_iterations': 1000,      \n",
    "    'feature.possible_transitions': True\n",
    "})\n",
    "\n",
    "\n",
    "trainer.train('crf_model.crfsuite')"
   ]
  },
  {
   "cell_type": "code",
   "execution_count": 76,
   "metadata": {},
   "outputs": [
    {
     "data": {
      "text/plain": [
       "<contextlib.closing at 0x14ec1ca90>"
      ]
     },
     "execution_count": 76,
     "metadata": {},
     "output_type": "execute_result"
    }
   ],
   "source": [
    "tagger = pycrfsuite.Tagger()\n",
    "tagger.open('crf_model.crfsuite')"
   ]
  },
  {
   "cell_type": "markdown",
   "metadata": {},
   "source": [
    "### Predicting the test data with the built model"
   ]
  },
  {
   "cell_type": "code",
   "execution_count": 77,
   "metadata": {
    "scrolled": true
   },
   "outputs": [
    {
     "name": "stdout",
     "output_type": "stream",
     "text": [
      "Predictions: ['FOR', 'Duration', 'TO', 'PeriodMax', 'PeriodUnit']\n"
     ]
    }
   ],
   "source": [
    "y_pred = tagger.tag(X_test[0])\n",
    "print(f'Predictions:', y_pred)"
   ]
  },
  {
   "cell_type": "code",
   "execution_count": 78,
   "metadata": {},
   "outputs": [
    {
     "name": "stdout",
     "output_type": "stream",
     "text": [
      "Predictions: ['EVERY', 'Period', 'PeriodUnit']\n"
     ]
    }
   ],
   "source": [
    "y_pred = tagger.tag(X_test[1])\n",
    "print(f'Predictions:', y_pred)"
   ]
  },
  {
   "cell_type": "code",
   "execution_count": 79,
   "metadata": {},
   "outputs": [
    {
     "name": "stdout",
     "output_type": "stream",
     "text": [
      "Predictions: ['QID']\n"
     ]
    }
   ],
   "source": [
    "y_pred = tagger.tag(X_test[2])\n",
    "print(f'Predictions:', y_pred)"
   ]
  },
  {
   "cell_type": "code",
   "execution_count": 80,
   "metadata": {},
   "outputs": [
    {
     "name": "stdout",
     "output_type": "stream",
     "text": [
      "Predictions: ['Method', 'Qty', 'Form', 'TID', 'DAILY']\n"
     ]
    }
   ],
   "source": [
    "y_pred = tagger.tag(X_test[3])\n",
    "print(f'Predictions:', y_pred)"
   ]
  },
  {
   "cell_type": "markdown",
   "metadata": {},
   "source": [
    "### Putting all the prediction logic inside a predict method"
   ]
  },
  {
   "cell_type": "code",
   "execution_count": 81,
   "metadata": {},
   "outputs": [],
   "source": [
    "def predict(sig):\n",
    "    \"\"\"\n",
    "    predict(sig)\n",
    "    Purpose: Labels the given sig into corresponding labels\n",
    "    @param sig. A Sentence  # A medical prescription sig written by a doctor\n",
    "    @return     A list      # A list with predicted labels (first level of labeling)\n",
    "    >>> predict('2 tabs every 4 hours')\n",
    "    [['Qty', 'Form', 'EVERY', 'Period', 'PeriodUnit']]\n",
    "    >>> predict('2 tabs with food')\n",
    "    [['Qty', 'Form', 'WITH', 'FOOD']]\n",
    "    >>> predict('2 tabs qid x 30 days')\n",
    "    [['Qty', 'Form', 'QID', 'FOR', 'Duration', 'DurationUnit']]\n",
    "    \"\"\"\n",
    "    \n",
    "    tokens = sig.split()\n",
    "    doc = nlp(' '.join(tokens))\n",
    "    pos_tag = [token.tag_ for token in doc]\n",
    "    sentence_triples = [(token, pos) for token, pos in zip(tokens, pos_tag)]\n",
    "    features = [token_to_features(sentence_triples, i) for i in range(len(sentence_triples))]\n",
    "    predictions = tagger.tag(features)\n",
    "    \n",
    "    print(sig)\n",
    "    \n",
    "    return [predictions]"
   ]
  },
  {
   "cell_type": "markdown",
   "metadata": {},
   "source": [
    "### Sample predictions"
   ]
  },
  {
   "cell_type": "code",
   "execution_count": 85,
   "metadata": {},
   "outputs": [
    {
     "name": "stdout",
     "output_type": "stream",
     "text": [
      "take 2 tabs every 6 hours x 10 days\n",
      "[['Method', 'Qty', 'Form', 'EVERY', 'Period', 'PeriodUnit', 'FOR', 'Duration', 'DurationUnit']]\n"
     ]
    }
   ],
   "source": [
    "predictions = predict(\"take 2 tabs every 6 hours x 10 days\")\n",
    "print(predictions)"
   ]
  },
  {
   "cell_type": "code",
   "execution_count": 86,
   "metadata": {},
   "outputs": [
    {
     "name": "stdout",
     "output_type": "stream",
     "text": [
      "2 capsu for 10 day at bed\n",
      "[['Qty', 'Form', 'FOR', 'Duration', 'DurationUnit', 'AT', 'WHEN']]\n"
     ]
    }
   ],
   "source": [
    "predictions = predict(\"2 capsu for 10 day at bed\")\n",
    "print(predictions)"
   ]
  },
  {
   "cell_type": "code",
   "execution_count": 87,
   "metadata": {},
   "outputs": [
    {
     "name": "stdout",
     "output_type": "stream",
     "text": [
      "2 capsu for 10 days at bed\n",
      "[['Qty', 'Form', 'FOR', 'Duration', 'DurationUnit', 'AT', 'WHEN']]\n"
     ]
    }
   ],
   "source": [
    "predictions = predict(\"2 capsu for 10 days at bed\")\n",
    "print(predictions)"
   ]
  },
  {
   "cell_type": "code",
   "execution_count": 88,
   "metadata": {},
   "outputs": [
    {
     "name": "stdout",
     "output_type": "stream",
     "text": [
      "5 days 2 tabs at bed\n",
      "[['Duration', 'DurationUnit', 'Qty', 'Form', 'AT', 'WHEN']]\n"
     ]
    }
   ],
   "source": [
    "predictions = predict(\"5 days 2 tabs at bed\")\n",
    "print(predictions)"
   ]
  },
  {
   "cell_type": "code",
   "execution_count": 89,
   "metadata": {},
   "outputs": [
    {
     "name": "stdout",
     "output_type": "stream",
     "text": [
      "3 tabs qid x 10 weeks\n",
      "[['Qty', 'Form', 'QID', 'FOR', 'Duration', 'DurationUnit']]\n"
     ]
    }
   ],
   "source": [
    "predictions = predict(\"3 tabs qid x 10 weeks\")\n",
    "print(predictions)"
   ]
  },
  {
   "cell_type": "code",
   "execution_count": 90,
   "metadata": {},
   "outputs": [
    {
     "name": "stdout",
     "output_type": "stream",
     "text": [
      "x 30 days\n",
      "[['FOR', 'Duration', 'DurationUnit']]\n"
     ]
    }
   ],
   "source": [
    "predictions = predict(\"x 30 days\")\n",
    "print(predictions)"
   ]
  },
  {
   "cell_type": "code",
   "execution_count": 91,
   "metadata": {},
   "outputs": [
    {
     "name": "stdout",
     "output_type": "stream",
     "text": [
      "x 20 months\n",
      "[['FOR', 'Duration', 'DurationUnit']]\n"
     ]
    }
   ],
   "source": [
    "predictions = predict(\"x 20 months\")\n",
    "print(predictions)"
   ]
  },
  {
   "cell_type": "code",
   "execution_count": 92,
   "metadata": {},
   "outputs": [
    {
     "name": "stdout",
     "output_type": "stream",
     "text": [
      "take 2 tabs po tid for 10 days\n",
      "[['Method', 'Qty', 'Form', 'PO', 'TID', 'FOR', 'Duration', 'DurationUnit']]\n"
     ]
    }
   ],
   "source": [
    "predictions = predict(\"take 2 tabs po tid for 10 days\")\n",
    "print(predictions)"
   ]
  },
  {
   "cell_type": "code",
   "execution_count": 93,
   "metadata": {},
   "outputs": [
    {
     "name": "stdout",
     "output_type": "stream",
     "text": [
      "take 2 capsules po every 6 hours\n",
      "[['Method', 'Qty', 'Form', 'PO', 'EVERY', 'Period', 'PeriodUnit']]\n"
     ]
    }
   ],
   "source": [
    "predictions = predict(\"take 2 capsules po every 6 hours\")\n",
    "print(predictions)"
   ]
  },
  {
   "cell_type": "code",
   "execution_count": 94,
   "metadata": {},
   "outputs": [
    {
     "name": "stdout",
     "output_type": "stream",
     "text": [
      "inject 2 units pu tid\n",
      "[['Method', 'Qty', 'Form', 'Frequency', 'TID']]\n"
     ]
    }
   ],
   "source": [
    "predictions = predict(\"inject 2 units pu tid\")\n",
    "print(predictions)"
   ]
  },
  {
   "cell_type": "code",
   "execution_count": 95,
   "metadata": {},
   "outputs": [
    {
     "name": "stdout",
     "output_type": "stream",
     "text": [
      "swallow 3 caps tid by mouth\n",
      "[['Method', 'Qty', 'Form', 'TID', 'BY', 'PO']]\n"
     ]
    }
   ],
   "source": [
    "predictions = predict(\"swallow 3 caps tid by mouth\")\n",
    "print(predictions)"
   ]
  },
  {
   "cell_type": "code",
   "execution_count": 96,
   "metadata": {},
   "outputs": [
    {
     "name": "stdout",
     "output_type": "stream",
     "text": [
      "inject 3 units orally\n",
      "[['Method', 'Qty', 'Form', 'Frequency']]\n"
     ]
    }
   ],
   "source": [
    "predictions = predict(\"inject 3 units orally\")\n",
    "print(predictions)"
   ]
  },
  {
   "cell_type": "code",
   "execution_count": 97,
   "metadata": {},
   "outputs": [
    {
     "name": "stdout",
     "output_type": "stream",
     "text": [
      "orally take 3 tabs tid\n",
      "[['Duration', 'DurationUnit', 'Qty', 'Form', 'TID']]\n"
     ]
    }
   ],
   "source": [
    "predictions = predict(\"orally take 3 tabs tid\")\n",
    "print(predictions)"
   ]
  },
  {
   "cell_type": "code",
   "execution_count": 98,
   "metadata": {},
   "outputs": [
    {
     "name": "stdout",
     "output_type": "stream",
     "text": [
      "by mouth take three caps\n",
      "[['BY', 'PO', 'Method', 'Qty', 'Form']]\n"
     ]
    }
   ],
   "source": [
    "predictions = predict(\"by mouth take three caps\")\n",
    "print(predictions)"
   ]
  },
  {
   "cell_type": "code",
   "execution_count": 99,
   "metadata": {},
   "outputs": [
    {
     "name": "stdout",
     "output_type": "stream",
     "text": [
      "take 3 tabs orally three times a day for 10 days at bedtime\n",
      "[['Method', 'Qty', 'Form', 'Frequency', 'Qty', 'TIMES', 'Period', 'PeriodUnit', 'FOR', 'Duration', 'DurationUnit', 'AT', 'WHEN']]\n"
     ]
    }
   ],
   "source": [
    "predictions = predict(\"take 3 tabs orally three times a day for 10 days at bedtime\")\n",
    "print(predictions)"
   ]
  },
  {
   "cell_type": "code",
   "execution_count": 100,
   "metadata": {},
   "outputs": [
    {
     "name": "stdout",
     "output_type": "stream",
     "text": [
      "take 3 tabs orally bid for 10 days at bedtime\n",
      "[['Method', 'Qty', 'Form', 'Frequency', 'PeriodUnit', 'FOR', 'Duration', 'DurationUnit', 'AT', 'WHEN']]\n"
     ]
    }
   ],
   "source": [
    "predictions = predict(\"take 3 tabs orally bid for 10 days at bedtime\")\n",
    "print(predictions)"
   ]
  },
  {
   "cell_type": "code",
   "execution_count": 101,
   "metadata": {},
   "outputs": [
    {
     "name": "stdout",
     "output_type": "stream",
     "text": [
      "take 3 tabs bid orally at bed\n",
      "[['Method', 'Qty', 'Form', 'Frequency', 'PeriodUnit', 'AT', 'WHEN']]\n"
     ]
    }
   ],
   "source": [
    "predictions = predict(\"take 3 tabs bid orally at bed\")\n",
    "print(predictions)"
   ]
  },
  {
   "cell_type": "code",
   "execution_count": 102,
   "metadata": {},
   "outputs": [
    {
     "name": "stdout",
     "output_type": "stream",
     "text": [
      "take 10 capsules by mouth qid\n",
      "[['Method', 'Qty', 'Form', 'BY', 'PO', 'QID']]\n"
     ]
    }
   ],
   "source": [
    "predictions = predict(\"take 10 capsules by mouth qid\")\n",
    "print(predictions)"
   ]
  },
  {
   "cell_type": "code",
   "execution_count": 103,
   "metadata": {},
   "outputs": [
    {
     "name": "stdout",
     "output_type": "stream",
     "text": [
      "inject 10 units orally qid x 3 months\n",
      "[['Method', 'Qty', 'Form', 'Frequency', 'QID', 'FOR', 'Duration', 'DurationUnit']]\n"
     ]
    }
   ],
   "source": [
    "predictions = predict(\"inject 10 units orally qid x 3 months\")\n",
    "print(predictions)"
   ]
  },
  {
   "cell_type": "code",
   "execution_count": 104,
   "metadata": {},
   "outputs": [
    {
     "name": "stdout",
     "output_type": "stream",
     "text": [
      "please take 2 tablets per day for a month in the morning and evening each day\n",
      "[['Method', 'Qty', 'Form', 'Frequency', 'QID', 'FOR', 'Duration', 'DurationUnit']]\n"
     ]
    }
   ],
   "source": [
    "prediction = predict(\"please take 2 tablets per day for a month in the morning and evening each day\")\n",
    "print(predictions)"
   ]
  },
  {
   "cell_type": "code",
   "execution_count": 105,
   "metadata": {},
   "outputs": [
    {
     "name": "stdout",
     "output_type": "stream",
     "text": [
      "Amoxcicillin QID 30 tablets\n",
      "[['Method', 'Qty', 'Form', 'Frequency', 'QID', 'FOR', 'Duration', 'DurationUnit']]\n"
     ]
    }
   ],
   "source": [
    "prediction = predict(\"Amoxcicillin QID 30 tablets\")\n",
    "print(predictions)"
   ]
  },
  {
   "cell_type": "code",
   "execution_count": 106,
   "metadata": {},
   "outputs": [
    {
     "name": "stdout",
     "output_type": "stream",
     "text": [
      "take 3 tabs TID for 90 days with food\n",
      "[['Method', 'Qty', 'Form', 'Frequency', 'QID', 'FOR', 'Duration', 'DurationUnit']]\n"
     ]
    }
   ],
   "source": [
    "prediction = predict(\"take 3 tabs TID for 90 days with food\")\n",
    "print(predictions)"
   ]
  },
  {
   "cell_type": "code",
   "execution_count": 107,
   "metadata": {},
   "outputs": [
    {
     "name": "stdout",
     "output_type": "stream",
     "text": [
      "with food take 3 tablets per day for 90 days\n",
      "[['Method', 'Qty', 'Form', 'Frequency', 'QID', 'FOR', 'Duration', 'DurationUnit']]\n"
     ]
    }
   ],
   "source": [
    "prediction = predict(\"with food take 3 tablets per day for 90 days\")\n",
    "print(predictions)"
   ]
  },
  {
   "cell_type": "code",
   "execution_count": 108,
   "metadata": {},
   "outputs": [
    {
     "name": "stdout",
     "output_type": "stream",
     "text": [
      "with food take 3 tablets per week for 90 weeks\n",
      "[['Method', 'Qty', 'Form', 'Frequency', 'QID', 'FOR', 'Duration', 'DurationUnit']]\n"
     ]
    }
   ],
   "source": [
    "prediction = predict(\"with food take 3 tablets per week for 90 weeks\")\n",
    "print(predictions)"
   ]
  },
  {
   "cell_type": "code",
   "execution_count": 109,
   "metadata": {},
   "outputs": [
    {
     "name": "stdout",
     "output_type": "stream",
     "text": [
      "take 2-4 tabs\n",
      "[['Method', 'Qty', 'Form', 'Frequency', 'QID', 'FOR', 'Duration', 'DurationUnit']]\n"
     ]
    }
   ],
   "source": [
    "prediction = predict(\"take 2-4 tabs\")\n",
    "print(predictions)"
   ]
  },
  {
   "cell_type": "code",
   "execution_count": 110,
   "metadata": {},
   "outputs": [
    {
     "name": "stdout",
     "output_type": "stream",
     "text": [
      "take 2 to 4 tabs\n",
      "[['Method', 'Qty', 'Form', 'Frequency', 'QID', 'FOR', 'Duration', 'DurationUnit']]\n"
     ]
    }
   ],
   "source": [
    "prediction = predict(\"take 2 to 4 tabs\")\n",
    "print(predictions)"
   ]
  },
  {
   "cell_type": "code",
   "execution_count": 111,
   "metadata": {},
   "outputs": [
    {
     "name": "stdout",
     "output_type": "stream",
     "text": [
      "take two to four tabs\n",
      "[['Method', 'Qty', 'Form', 'Frequency', 'QID', 'FOR', 'Duration', 'DurationUnit']]\n"
     ]
    }
   ],
   "source": [
    "prediction = predict(\"take two to four tabs\")\n",
    "print(predictions)"
   ]
  },
  {
   "cell_type": "code",
   "execution_count": 112,
   "metadata": {},
   "outputs": [
    {
     "name": "stdout",
     "output_type": "stream",
     "text": [
      "take 2-4 tabs for 8 to 9 days\n",
      "[['Method', 'Qty', 'Form', 'Frequency', 'QID', 'FOR', 'Duration', 'DurationUnit']]\n"
     ]
    }
   ],
   "source": [
    "prediction = predict(\"take 2-4 tabs for 8 to 9 days\")\n",
    "print(predictions)"
   ]
  },
  {
   "cell_type": "code",
   "execution_count": 113,
   "metadata": {},
   "outputs": [
    {
     "name": "stdout",
     "output_type": "stream",
     "text": [
      "take 20 tabs every 6 to 8 days\n",
      "[['Method', 'Qty', 'Form', 'Frequency', 'QID', 'FOR', 'Duration', 'DurationUnit']]\n"
     ]
    }
   ],
   "source": [
    "prediction = predict(\"take 20 tabs every 6 to 8 days\")\n",
    "print(predictions)"
   ]
  },
  {
   "cell_type": "code",
   "execution_count": 114,
   "metadata": {},
   "outputs": [
    {
     "name": "stdout",
     "output_type": "stream",
     "text": [
      "take 2 tabs every 4 to 6 days\n",
      "[['Method', 'Qty', 'Form', 'Frequency', 'QID', 'FOR', 'Duration', 'DurationUnit']]\n"
     ]
    }
   ],
   "source": [
    "prediction = predict(\"take 2 tabs every 4 to 6 days\")\n",
    "print(predictions)"
   ]
  },
  {
   "cell_type": "code",
   "execution_count": 115,
   "metadata": {},
   "outputs": [
    {
     "name": "stdout",
     "output_type": "stream",
     "text": [
      "take 2 tabs every 2 to 10 weeks\n",
      "[['Method', 'Qty', 'Form', 'Frequency', 'QID', 'FOR', 'Duration', 'DurationUnit']]\n"
     ]
    }
   ],
   "source": [
    "prediction = predict(\"take 2 tabs every 2 to 10 weeks\")\n",
    "print(predictions)"
   ]
  },
  {
   "cell_type": "code",
   "execution_count": 116,
   "metadata": {},
   "outputs": [
    {
     "name": "stdout",
     "output_type": "stream",
     "text": [
      "take 2 tabs every 4 to 6 days\n",
      "[['Method', 'Qty', 'Form', 'Frequency', 'QID', 'FOR', 'Duration', 'DurationUnit']]\n"
     ]
    }
   ],
   "source": [
    "prediction = predict(\"take 2 tabs every 4 to 6 days\")\n",
    "print(predictions)"
   ]
  },
  {
   "cell_type": "code",
   "execution_count": 117,
   "metadata": {},
   "outputs": [
    {
     "name": "stdout",
     "output_type": "stream",
     "text": [
      "take 2 tabs every 2 to 10 months\n",
      "[['Method', 'Qty', 'Form', 'Frequency', 'QID', 'FOR', 'Duration', 'DurationUnit']]\n"
     ]
    }
   ],
   "source": [
    "prediction = predict(\"take 2 tabs every 2 to 10 months\")\n",
    "print(predictions)"
   ]
  },
  {
   "cell_type": "code",
   "execution_count": 118,
   "metadata": {},
   "outputs": [
    {
     "name": "stdout",
     "output_type": "stream",
     "text": [
      "every 60 mins\n",
      "[['Method', 'Qty', 'Form', 'Frequency', 'QID', 'FOR', 'Duration', 'DurationUnit']]\n"
     ]
    }
   ],
   "source": [
    "prediction = predict(\"every 60 mins\")\n",
    "print(predictions)"
   ]
  },
  {
   "cell_type": "code",
   "execution_count": 119,
   "metadata": {},
   "outputs": [
    {
     "name": "stdout",
     "output_type": "stream",
     "text": [
      "every 10 mins\n",
      "[['Method', 'Qty', 'Form', 'Frequency', 'QID', 'FOR', 'Duration', 'DurationUnit']]\n"
     ]
    }
   ],
   "source": [
    "prediction = predict(\"every 10 mins\")\n",
    "print(predictions)"
   ]
  },
  {
   "cell_type": "code",
   "execution_count": 120,
   "metadata": {},
   "outputs": [
    {
     "name": "stdout",
     "output_type": "stream",
     "text": [
      "every two to four months\n",
      "[['Method', 'Qty', 'Form', 'Frequency', 'QID', 'FOR', 'Duration', 'DurationUnit']]\n"
     ]
    }
   ],
   "source": [
    "prediction = predict(\"every two to four months\")\n",
    "print(predictions)"
   ]
  },
  {
   "cell_type": "code",
   "execution_count": 121,
   "metadata": {},
   "outputs": [
    {
     "name": "stdout",
     "output_type": "stream",
     "text": [
      "take 2 tabs every 3 to 4 days\n",
      "[['Method', 'Qty', 'Form', 'Frequency', 'QID', 'FOR', 'Duration', 'DurationUnit']]\n"
     ]
    }
   ],
   "source": [
    "prediction = predict(\"take 2 tabs every 3 to 4 days\")\n",
    "print(predictions)"
   ]
  },
  {
   "cell_type": "code",
   "execution_count": 122,
   "metadata": {},
   "outputs": [
    {
     "name": "stdout",
     "output_type": "stream",
     "text": [
      "every 3 to 4 days take 20 tabs\n",
      "[['Method', 'Qty', 'Form', 'Frequency', 'QID', 'FOR', 'Duration', 'DurationUnit']]\n"
     ]
    }
   ],
   "source": [
    "prediction = predict(\"every 3 to 4 days take 20 tabs\")\n",
    "print(predictions)"
   ]
  },
  {
   "cell_type": "code",
   "execution_count": 123,
   "metadata": {},
   "outputs": [
    {
     "name": "stdout",
     "output_type": "stream",
     "text": [
      "once in every 3 days take 3 tabs\n",
      "[['Method', 'Qty', 'Form', 'Frequency', 'QID', 'FOR', 'Duration', 'DurationUnit']]\n"
     ]
    }
   ],
   "source": [
    "prediction = predict(\"once in every 3 days take 3 tabs\")\n",
    "print(predictions)"
   ]
  },
  {
   "cell_type": "code",
   "execution_count": 124,
   "metadata": {},
   "outputs": [
    {
     "name": "stdout",
     "output_type": "stream",
     "text": [
      "take 3 tabs once in every 3 days\n",
      "[['Method', 'Qty', 'Form', 'Frequency', 'QID', 'FOR', 'Duration', 'DurationUnit']]\n"
     ]
    }
   ],
   "source": [
    "prediction = predict(\"take 3 tabs once in every 3 days\")\n",
    "print(predictions)"
   ]
  },
  {
   "cell_type": "code",
   "execution_count": 125,
   "metadata": {},
   "outputs": [
    {
     "name": "stdout",
     "output_type": "stream",
     "text": [
      "orally take 20 tabs every 4-6 weeks\n",
      "[['Method', 'Qty', 'Form', 'Frequency', 'QID', 'FOR', 'Duration', 'DurationUnit']]\n"
     ]
    }
   ],
   "source": [
    "prediction = predict(\"orally take 20 tabs every 4-6 weeks\")\n",
    "print(predictions)"
   ]
  },
  {
   "cell_type": "code",
   "execution_count": 126,
   "metadata": {},
   "outputs": [
    {
     "name": "stdout",
     "output_type": "stream",
     "text": [
      "10 tabs x 2 days\n",
      "[['Method', 'Qty', 'Form', 'Frequency', 'QID', 'FOR', 'Duration', 'DurationUnit']]\n"
     ]
    }
   ],
   "source": [
    "prediction = predict(\"10 tabs x 2 days\")\n",
    "print(predictions)"
   ]
  },
  {
   "cell_type": "code",
   "execution_count": 127,
   "metadata": {},
   "outputs": [
    {
     "name": "stdout",
     "output_type": "stream",
     "text": [
      "3 capsule x 15 days\n",
      "[['Method', 'Qty', 'Form', 'Frequency', 'QID', 'FOR', 'Duration', 'DurationUnit']]\n"
     ]
    }
   ],
   "source": [
    "prediction = predict(\"3 capsule x 15 days\")\n",
    "print(predictions)"
   ]
  },
  {
   "cell_type": "code",
   "execution_count": 128,
   "metadata": {},
   "outputs": [
    {
     "name": "stdout",
     "output_type": "stream",
     "text": [
      "10 tabs\n",
      "[['Method', 'Qty', 'Form', 'Frequency', 'QID', 'FOR', 'Duration', 'DurationUnit']]\n"
     ]
    }
   ],
   "source": [
    "prediction = predict(\"10 tabs\")\n",
    "print(predictions)"
   ]
  },
  {
   "cell_type": "code",
   "execution_count": null,
   "metadata": {},
   "outputs": [],
   "source": []
  }
 ],
 "metadata": {
  "kernelspec": {
   "display_name": "Python 3 (ipykernel)",
   "language": "python",
   "name": "python3"
  },
  "language_info": {
   "codemirror_mode": {
    "name": "ipython",
    "version": 3
   },
   "file_extension": ".py",
   "mimetype": "text/x-python",
   "name": "python",
   "nbconvert_exporter": "python",
   "pygments_lexer": "ipython3",
   "version": "3.11.5"
  }
 },
 "nbformat": 4,
 "nbformat_minor": 2
}
