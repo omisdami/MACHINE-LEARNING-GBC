{
 "cells": [
  {
   "cell_type": "markdown",
   "metadata": {},
   "source": [
    "# Sentiment Analysis of Financial News Headlines\n",
    "## This task tests your ability to apply NLP techniques you've learnt to classify a news headline containing financial information into either one of the sentiments (Positive, Negative or Neutral)"
   ]
  },
  {
   "cell_type": "markdown",
   "metadata": {},
   "source": [
    "### Dataset:\n",
    "https://raw.githubusercontent.com/subashgandyer/datasets/main/financial_news_headlines_sentiment.csv"
   ]
  },
  {
   "cell_type": "markdown",
   "metadata": {},
   "source": [
    "## Max Marks without Bonus attempted: 80 points\n",
    "## Max Marks with Bonus: 100 points\n",
    "- ### Bonus: 20 points"
   ]
  },
  {
   "cell_type": "markdown",
   "metadata": {},
   "source": [
    "### Steps\n",
    "- 1. Download the dataset\n",
    "- 2. Load the dataset\n",
    "- 3. Explore the dataset (Exploratory Data Analysis)\n",
    "- 4. Clean the data\n",
    "- 5. Apply SMOTE for imbalanced data [Optional] --> Carries Bonus Marks\n",
    "- 6. Build a BoW model\n",
    "- 7. Build a Tf-Idf model\n",
    "- 8. Split train and test data\n",
    "- 9. Use one ML Classifying algorithm to classify the finanical news headline data\n",
    "- 10. Use another ML classifying algorithm to classify them\n",
    "- 11. Plot Confusion matrix "
   ]
  },
  {
   "cell_type": "markdown",
   "metadata": {},
   "source": [
    "## 1. Download the dataset [1 point]"
   ]
  },
  {
   "cell_type": "code",
   "execution_count": 33,
   "metadata": {},
   "outputs": [],
   "source": [
    "import requests\n",
    "\n",
    "url = 'https://raw.githubusercontent.com/subashgandyer/datasets/main/financial_news_headlines_sentiment.csv'\n",
    "response = requests.get(url)\n",
    "\n",
    "\n",
    "with open('financial_news_headlines.csv', 'wb') as f:\n",
    "    f.write(response.content)"
   ]
  },
  {
   "cell_type": "markdown",
   "metadata": {},
   "source": [
    "## 2. Load the dataset [1 point]"
   ]
  },
  {
   "cell_type": "code",
   "execution_count": 34,
   "metadata": {},
   "outputs": [
    {
     "data": {
      "text/html": [
       "<div>\n",
       "<style scoped>\n",
       "    .dataframe tbody tr th:only-of-type {\n",
       "        vertical-align: middle;\n",
       "    }\n",
       "\n",
       "    .dataframe tbody tr th {\n",
       "        vertical-align: top;\n",
       "    }\n",
       "\n",
       "    .dataframe thead th {\n",
       "        text-align: right;\n",
       "    }\n",
       "</style>\n",
       "<table border=\"1\" class=\"dataframe\">\n",
       "  <thead>\n",
       "    <tr style=\"text-align: right;\">\n",
       "      <th></th>\n",
       "      <th>neutral</th>\n",
       "      <th>According to Gran , the company has no plans to move all production to Russia , although that is where the company is growing .</th>\n",
       "    </tr>\n",
       "  </thead>\n",
       "  <tbody>\n",
       "    <tr>\n",
       "      <th>0</th>\n",
       "      <td>neutral</td>\n",
       "      <td>Technopolis plans to develop in stages an area...</td>\n",
       "    </tr>\n",
       "    <tr>\n",
       "      <th>1</th>\n",
       "      <td>negative</td>\n",
       "      <td>The international electronic industry company ...</td>\n",
       "    </tr>\n",
       "    <tr>\n",
       "      <th>2</th>\n",
       "      <td>positive</td>\n",
       "      <td>With the new production plant the company woul...</td>\n",
       "    </tr>\n",
       "    <tr>\n",
       "      <th>3</th>\n",
       "      <td>positive</td>\n",
       "      <td>According to the company 's updated strategy f...</td>\n",
       "    </tr>\n",
       "    <tr>\n",
       "      <th>4</th>\n",
       "      <td>positive</td>\n",
       "      <td>FINANCING OF ASPOCOMP 'S GROWTH Aspocomp is ag...</td>\n",
       "    </tr>\n",
       "  </tbody>\n",
       "</table>\n",
       "</div>"
      ],
      "text/plain": [
       "    neutral  \\\n",
       "0   neutral   \n",
       "1  negative   \n",
       "2  positive   \n",
       "3  positive   \n",
       "4  positive   \n",
       "\n",
       "  According to Gran , the company has no plans to move all production to Russia , although that is where the company is growing .  \n",
       "0  Technopolis plans to develop in stages an area...                                                                               \n",
       "1  The international electronic industry company ...                                                                               \n",
       "2  With the new production plant the company woul...                                                                               \n",
       "3  According to the company 's updated strategy f...                                                                               \n",
       "4  FINANCING OF ASPOCOMP 'S GROWTH Aspocomp is ag...                                                                               "
      ]
     },
     "execution_count": 34,
     "metadata": {},
     "output_type": "execute_result"
    }
   ],
   "source": [
    "import pandas as pd\n",
    "import numpy as np\n",
    "\n",
    "\n",
    "df = pd.read_csv('financial_news_headlines.csv', encoding='latin1')\n",
    "df.head()"
   ]
  },
  {
   "cell_type": "markdown",
   "metadata": {},
   "source": [
    "## 3. Explore the dataset [10 points]"
   ]
  },
  {
   "cell_type": "code",
   "execution_count": 35,
   "metadata": {},
   "outputs": [
    {
     "name": "stdout",
     "output_type": "stream",
     "text": [
      "Dataset Shape: (4845, 2)\n",
      "\n",
      "Columns: ['Sentiment', 'Headlines']\n",
      "\n",
      "Missing Values:\n",
      "Sentiment    0\n",
      "Headlines    0\n",
      "dtype: int64\n",
      "\n",
      "Value Counts for Sentiment:\n",
      "Sentiment\n",
      "neutral     2878\n",
      "positive    1363\n",
      "negative     604\n",
      "Name: count, dtype: int64\n",
      "\n",
      "Basic Statistics:\n",
      "       Sentiment                                          Headlines\n",
      "count       4845                                               4845\n",
      "unique         3                                               4837\n",
      "top      neutral  TELECOMWORLDWIRE-7 April 2006-TJ Group Plc sel...\n",
      "freq        2878                                                  2\n"
     ]
    },
    {
     "data": {
      "image/png": "[encoded data removed]",
      "text/plain": [
       "<Figure size 1000x600 with 1 Axes>"
      ]
     },
     "metadata": {},
     "output_type": "display_data"
    }
   ],
   "source": [
    "\n",
    "df.columns = ['Sentiment', 'Headlines']\n",
    "\n",
    "\n",
    "print(\"Dataset Shape:\", df.shape)\n",
    "print(\"\\nColumns:\", df.columns.tolist())\n",
    "print(\"\\nMissing Values:\")\n",
    "print(df.isnull().sum())\n",
    "print(\"\\nValue Counts for Sentiment:\")\n",
    "print(df['Sentiment'].value_counts())\n",
    "\n",
    "\n",
    "print(\"\\nBasic Statistics:\")\n",
    "print(df.describe())\n",
    "\n",
    "\n",
    "import matplotlib.pyplot as plt\n",
    "\n",
    "plt.figure(figsize=(10, 6))\n",
    "df['Sentiment'].value_counts().plot(kind='bar')\n",
    "plt.title('Distribution of Sentiments')\n",
    "plt.xlabel('Sentiment')\n",
    "plt.ylabel('Count')\n",
    "plt.show()"
   ]
  },
  {
   "cell_type": "markdown",
   "metadata": {},
   "source": [
    "## 4. Clean the data [5 points]"
   ]
  },
  {
   "cell_type": "code",
   "execution_count": 36,
   "metadata": {},
   "outputs": [
    {
     "name": "stderr",
     "output_type": "stream",
     "text": [
      "[nltk_data] Downloading package punkt to /Users/omisesan/nltk_data...\n",
      "[nltk_data]   Package punkt is already up-to-date!\n",
      "[nltk_data] Downloading package stopwords to\n",
      "[nltk_data]     /Users/omisesan/nltk_data...\n",
      "[nltk_data]   Package stopwords is already up-to-date!\n",
      "[nltk_data] Downloading package wordnet to\n",
      "[nltk_data]     /Users/omisesan/nltk_data...\n",
      "[nltk_data]   Package wordnet is already up-to-date!\n"
     ]
    },
    {
     "name": "stdout",
     "output_type": "stream",
     "text": [
      "Original vs Cleaned Headlines:\n",
      "\n",
      "Original: Technopolis plans to develop in stages an area of no less than 100,000 square meters in order to host companies working in computer technologies and telecommunications , the statement said .\n",
      "Cleaned:  technopolis plan develop stage area le square meter order host company working computer technology telecommunication statement said\n",
      "\n",
      "Original: The international electronic industry company Elcoteq has laid off tens of employees from its Tallinn facility ; contrary to earlier layoffs the company contracted the ranks of its office workers , the daily Postimees reported .\n",
      "Cleaned:  international electronic industry company elcoteq laid ten employee tallinn facility contrary earlier layoff company contracted rank office worker daily postimees reported\n",
      "\n",
      "Original: With the new production plant the company would increase its capacity to meet the expected increase in demand and would improve the use of raw materials and therefore increase the production profitability .\n",
      "Cleaned:  new production plant company would increase capacity meet expected increase demand would improve use raw material therefore increase production profitability\n",
      "\n",
      "Original: According to the company 's updated strategy for the years 2009-2012 , Basware targets a long-term net sales growth in the range of 20 % -40 % with an operating profit margin of 10 % -20 % of net sales .\n",
      "Cleaned:  according company updated strategy year basware target longterm net sale growth range operating profit margin net sale\n",
      "\n",
      "Original: FINANCING OF ASPOCOMP 'S GROWTH Aspocomp is aggressively pursuing its growth strategy by increasingly focusing on technologically more demanding HDI printed circuit boards PCBs .\n",
      "Cleaned:  financing aspocomp growth aspocomp aggressively pursuing growth strategy increasingly focusing technologically demanding hdi printed circuit board pcbs\n"
     ]
    }
   ],
   "source": [
    "import re\n",
    "import nltk\n",
    "from nltk.corpus import stopwords\n",
    "from nltk.tokenize import word_tokenize\n",
    "from nltk.stem import WordNetLemmatizer\n",
    "\n",
    "nltk.download('punkt')\n",
    "nltk.download('stopwords')\n",
    "nltk.download('wordnet')\n",
    "\n",
    "def clean_text(text):\n",
    "    \n",
    "    text = text.lower()\n",
    "\n",
    "   \n",
    "    text = re.sub(r'[^a-zA-Z\\s]', '', text)\n",
    "    \n",
    "  \n",
    "    tokens = word_tokenize(text)\n",
    "    \n",
    "   \n",
    "    stop_words = set(stopwords.words('english'))\n",
    "    tokens = [token for token in tokens if token not in stop_words]\n",
    "    \n",
    "   \n",
    "    lemmatizer = WordNetLemmatizer()\n",
    "    tokens = [lemmatizer.lemmatize(token) for token in tokens]\n",
    "    \n",
    "    \n",
    "    return ' '.join(tokens)\n",
    "\n",
    "\n",
    "df['cleaned_headlines'] = df['Headlines'].apply(clean_text)\n",
    "\n",
    "\n",
    "print(\"Original vs Cleaned Headlines:\")\n",
    "for i in range(5):\n",
    "    print(f\"\\nOriginal: {df['Headlines'].iloc[i]}\")\n",
    "    print(f\"Cleaned:  {df['cleaned_headlines'].iloc[i]}\")"
   ]
  },
  {
   "cell_type": "markdown",
   "metadata": {},
   "source": [
    "## 5. SMOTE (Imbalanced dataset) [OPTIONAL] BONUS [20 points]\n",
    "Hint: Use **imblearn** library"
   ]
  },
  {
   "cell_type": "code",
   "execution_count": 37,
   "metadata": {},
   "outputs": [],
   "source": [
    "#pip show scikit-learn imbalanced-learn\n"
   ]
  },
  {
   "cell_type": "code",
   "execution_count": 38,
   "metadata": {},
   "outputs": [],
   "source": [
    "#pip install --upgrade scikit-learn imbalanced-learn\n"
   ]
  },
  {
   "cell_type": "code",
   "execution_count": 39,
   "metadata": {},
   "outputs": [
    {
     "name": "stdout",
     "output_type": "stream",
     "text": [
      "Class distribution before SMOTE:\n",
      "Counter({'neutral': 2878, 'positive': 1363, 'negative': 604})\n",
      "\n",
      "Class distribution after SMOTE:\n",
      "Counter({'neutral': 2878, 'negative': 2878, 'positive': 2878})\n"
     ]
    },
    {
     "data": {
      "image/png": "[encoded data removed]",
      "text/plain": [
       "<Figure size 640x480 with 1 Axes>"
      ]
     },
     "metadata": {},
     "output_type": "display_data"
    }
   ],
   "source": [
    "from imblearn.over_sampling import SMOTE\n",
    "from collections import Counter\n",
    "\n",
    "\n",
    "smote = SMOTE(random_state=42)\n",
    "\n",
    "\n",
    "X = df['cleaned_headlines']\n",
    "y = df['Sentiment']\n",
    "\n",
    "#\n",
    "from sklearn.feature_extraction.text import CountVectorizer\n",
    "vectorizer = CountVectorizer(max_features=1000)\n",
    "X_vec = vectorizer.fit_transform(X)\n",
    "\n",
    "X_smote, y_smote = smote.fit_resample(X_vec, y)\n",
    "\n",
    "\n",
    "print(\"Class distribution before SMOTE:\")\n",
    "print(Counter(y))\n",
    "print(\"\\nClass distribution after SMOTE:\")\n",
    "print(Counter(y_smote))\n",
    "\n",
    "\n",
    "pd.Series(y_smote).value_counts().plot(kind='bar')\n",
    "plt.title('Distribution of Sentiments after SMOTE')\n",
    "plt.xlabel('Sentiment')\n",
    "plt.ylabel('Count')\n",
    "plt.show()"
   ]
  },
  {
   "cell_type": "markdown",
   "metadata": {},
   "source": [
    "## 6. BoW model [15 points]"
   ]
  },
  {
   "cell_type": "code",
   "execution_count": 40,
   "metadata": {},
   "outputs": [],
   "source": [
    "from sklearn.feature_extraction.text import CountVectorizer\n",
    "\n",
    "\n",
    "bow_vectorizer = CountVectorizer(max_features=5000)\n",
    " \n",
    "\n",
    "if 'X_smote' in locals():\n",
    "    \n",
    "    bow_features = X_smote  \n",
    "else:\n",
    "    \n",
    "    bow_features = bow_vectorizer.fit_transform(df['cleaned_headlines'])\n",
    "\n",
    "   \n",
    "    print(f\"Vocabulary size: {len(bow_vectorizer.vocabulary_)}\")\n",
    "    print(\"\\nSample features (first 10):\")\n",
    "    print(list(bow_vectorizer.vocabulary_.items())[:10])\n",
    "\n",
    "   \n",
    "    print(f\"\\nBoW matrix shape: {bow_features.shape}\")\n",
    "\n",
    "    bow_df = pd.DataFrame(bow_features.toarray()[:5, :10],\n",
    "                        columns=list(bow_vectorizer.get_feature_names_out()[:10]))\n",
    "    print(\"\\nSample of BoW matrix (first 5 rows, first 10 features):\")\n",
    "    print(bow_df)"
   ]
  },
  {
   "cell_type": "markdown",
   "metadata": {},
   "source": [
    "## 7. Tf-idf model [15 points]"
   ]
  },
  {
   "cell_type": "code",
   "execution_count": 41,
   "metadata": {},
   "outputs": [
    {
     "name": "stdout",
     "output_type": "stream",
     "text": [
      "Vocabulary size: 5000\n",
      "\n",
      "Sample features with IDF scores:\n",
      "{'ab': 6.118613071389997, 'abb': 8.099614540256582, 'abc': 8.099614540256582, 'ability': 8.099614540256582, 'able': 6.595537143480306, 'abloy': 8.792761720816525, 'abn': 8.099614540256582, 'abp': 7.088013628578101, 'abroad': 7.183323808382426, 'ac': 6.920959543914934}\n",
      "\n",
      "TF-IDF matrix shape: (4845, 5000)\n",
      "\n",
      "Sample of TF-IDF matrix (first 5 rows, first 10 features):\n",
      "    ab  abb  abc  ability  able  abloy  abn  abp  abroad   ac\n",
      "0  0.0  0.0  0.0      0.0   0.0    0.0  0.0  0.0     0.0  0.0\n",
      "1  0.0  0.0  0.0      0.0   0.0    0.0  0.0  0.0     0.0  0.0\n",
      "2  0.0  0.0  0.0      0.0   0.0    0.0  0.0  0.0     0.0  0.0\n",
      "3  0.0  0.0  0.0      0.0   0.0    0.0  0.0  0.0     0.0  0.0\n",
      "4  0.0  0.0  0.0      0.0   0.0    0.0  0.0  0.0     0.0  0.0\n"
     ]
    }
   ],
   "source": [
    "from sklearn.feature_extraction.text import TfidfVectorizer                                            \n",
    "                                                                                                        \n",
    "                                                          \n",
    "tfidf_vectorizer = TfidfVectorizer(max_features=5000)                                                  \n",
    "                                                                                                    \n",
    "                                                                  \n",
    "if 'X_smote' in locals():                                                                              \n",
    "                                                     \n",
    "    tfidf_features = tfidf_vectorizer.fit_transform(df['cleaned_headlines'])                           \n",
    "else:                                                                                                  \n",
    "                                                  \n",
    "    tfidf_features = tfidf_vectorizer.fit_transform(df['cleaned_headlines'])                           \n",
    "                                                                                                    \n",
    "                                   \n",
    "print(f\"Vocabulary size: {len(tfidf_vectorizer.vocabulary_)}\")                                         \n",
    "print(\"\\nSample features with IDF scores:\")                                                            \n",
    "idf_scores = dict(zip(tfidf_vectorizer.get_feature_names_out(), tfidf_vectorizer.idf_))                \n",
    "print(dict(list(idf_scores.items())[:10]))\n",
    "\n",
    "\n",
    "print(f\"\\nTF-IDF matrix shape: {tfidf_features.shape}\")\n",
    "\n",
    "\n",
    "tfidf_df = pd.DataFrame(tfidf_features.toarray()[:5, :10],\n",
    "                    columns=list(tfidf_vectorizer.get_feature_names_out()[:10]))\n",
    "print(\"\\nSample of TF-IDF matrix (first 5 rows, first 10 features):\")\n",
    "print(tfidf_df)"
   ]
  },
  {
   "cell_type": "markdown",
   "metadata": {},
   "source": [
    "## 8. Split train test data [3 points]"
   ]
  },
  {
   "cell_type": "code",
   "execution_count": 42,
   "metadata": {},
   "outputs": [
    {
     "name": "stdout",
     "output_type": "stream",
     "text": [
      "Training set shape: (6907, 1000)\n",
      "Testing set shape: (1727, 1000)\n",
      "\n",
      "Class distribution in training set:\n",
      "Sentiment\n",
      "positive    2305\n",
      "neutral     2304\n",
      "negative    2298\n",
      "Name: count, dtype: int64\n",
      "\n",
      "Class distribution in test set:\n",
      "Sentiment\n",
      "negative    580\n",
      "neutral     574\n",
      "positive    573\n",
      "Name: count, dtype: int64\n"
     ]
    }
   ],
   "source": [
    "from sklearn.model_selection import train_test_split\n",
    "\n",
    "\n",
    "if 'X_smote' in locals():\n",
    "   \n",
    "    X = X_smote  \n",
    "    y = y_smote\n",
    "else:\n",
    "   \n",
    "    X = bow_features  \n",
    "    y = df['Sentiment']\n",
    "\n",
    "\n",
    "X_train, X_test, y_train, y_test = train_test_split(X, y, test_size=0.2, random_state=42)\n",
    "\n",
    "\n",
    "print(\"Training set shape:\", X_train.shape)\n",
    "print(\"Testing set shape:\", X_test.shape)\n",
    "\n",
    "print(\"\\nClass distribution in training set:\")\n",
    "print(pd.Series(y_train).value_counts())\n",
    "print(\"\\nClass distribution in test set:\")\n",
    "print(pd.Series(y_test).value_counts())"
   ]
  },
  {
   "cell_type": "markdown",
   "metadata": {},
   "source": [
    "## 9. Classification Algorithm [10 points]\n",
    "- Train\n",
    "- Predict"
   ]
  },
  {
   "cell_type": "code",
   "execution_count": 43,
   "metadata": {},
   "outputs": [
    {
     "name": "stdout",
     "output_type": "stream",
     "text": [
      "Random Forest Results:\n",
      "Accuracy: 0.7174290677475391\n",
      "\n",
      "Classification Report:\n",
      "              precision    recall  f1-score   support\n",
      "\n",
      "    negative       0.69      0.89      0.78       580\n",
      "     neutral       0.78      0.70      0.74       574\n",
      "    positive       0.69      0.56      0.62       573\n",
      "\n",
      "    accuracy                           0.72      1727\n",
      "   macro avg       0.72      0.72      0.71      1727\n",
      "weighted avg       0.72      0.72      0.71      1727\n",
      "\n"
     ]
    }
   ],
   "source": [
    "from sklearn.ensemble import RandomForestClassifier\n",
    "from sklearn.metrics import classification_report, accuracy_score\n",
    "\n",
    "\n",
    "rf_classifier = RandomForestClassifier(n_estimators=100, random_state=42)\n",
    "\n",
    "\n",
    "rf_model = rf_classifier.fit(X_train, y_train)\n",
    "rf_pred = rf_model.predict(X_test)\n",
    "\n",
    "\n",
    "print(\"Random Forest Results:\")\n",
    "print(\"Accuracy:\", accuracy_score(y_test, rf_pred))\n",
    "print(\"\\nClassification Report:\")\n",
    "print(classification_report(y_test, rf_pred))"
   ]
  },
  {
   "cell_type": "markdown",
   "metadata": {},
   "source": [
    "## 10. Another Classification Algorithm [10 points]\n",
    "- Train\n",
    "- Predict"
   ]
  },
  {
   "cell_type": "code",
   "execution_count": 44,
   "metadata": {},
   "outputs": [
    {
     "name": "stdout",
     "output_type": "stream",
     "text": [
      "Decision Tree Results:\n",
      "Accuracy: 0.6670526925303996\n",
      "\n",
      "Classification Report:\n",
      "              precision    recall  f1-score   support\n",
      "\n",
      "    negative       0.64      0.89      0.74       580\n",
      "     neutral       0.76      0.57      0.65       574\n",
      "    positive       0.63      0.54      0.58       573\n",
      "\n",
      "    accuracy                           0.67      1727\n",
      "   macro avg       0.68      0.67      0.66      1727\n",
      "weighted avg       0.68      0.67      0.66      1727\n",
      "\n"
     ]
    }
   ],
   "source": [
    "from sklearn.tree import DecisionTreeClassifier\n",
    "from sklearn.metrics import classification_report, accuracy_score\n",
    "\n",
    "\n",
    "dt_classifier = DecisionTreeClassifier(random_state=42)\n",
    "\n",
    "\n",
    "dt_model = dt_classifier.fit(X_train, y_train)\n",
    "\n",
    "\n",
    "dt_pred = dt_model.predict(X_test)\n",
    "\n",
    "\n",
    "print(\"Decision Tree Results:\")\n",
    "print(\"Accuracy:\", accuracy_score(y_test, dt_pred))\n",
    "print(\"\\nClassification Report:\")\n",
    "print(classification_report(y_test, dt_pred))\n"
   ]
  },
  {
   "cell_type": "markdown",
   "metadata": {},
   "source": [
    "## 11. Confusion Matrixes for two classification algorithms and two feature extractor methods [10 points]"
   ]
  },
  {
   "cell_type": "code",
   "execution_count": 45,
   "metadata": {},
   "outputs": [
    {
     "data": {
      "image/png": "[encoded data removed]",
      "text/plain": [
       "<Figure size 800x600 with 2 Axes>"
      ]
     },
     "metadata": {},
     "output_type": "display_data"
    },
    {
     "data": {
      "image/png": "[encoded data removed]",
      "text/plain": [
       "<Figure size 800x600 with 2 Axes>"
      ]
     },
     "metadata": {},
     "output_type": "display_data"
    },
    {
     "name": "stdout",
     "output_type": "stream",
     "text": [
      "Overall Model Accuracies:\n",
      "Random Forest: 0.7174\n",
      "Deision Tree: 0.6671\n"
     ]
    }
   ],
   "source": [
    "from sklearn.metrics import confusion_matrix, accuracy_score\n",
    "import seaborn as sns\n",
    "import matplotlib.pyplot as plt\n",
    "\n",
    "\n",
    "def plot_confusion_matrix(y_true, y_pred, title):\n",
    "    cm = confusion_matrix(y_true, y_pred)\n",
    "    plt.figure(figsize=(8, 6))\n",
    "    sns.heatmap(cm, annot=True, fmt='d', cmap='Blues')\n",
    "    plt.title(title)\n",
    "    plt.ylabel('True Label')\n",
    "    plt.xlabel('Predicted Label')\n",
    "    plt.show()\n",
    "\n",
    "plot_confusion_matrix(y_test, rf_pred, 'Random Forest Confusion Matrix')\n",
    "plot_confusion_matrix(y_test, dt_pred, 'Decision Tree Confusion Matrix')\n",
    "\n",
    "\n",
    "print(\"Overall Model Accuracies:\")\n",
    "print(f\"Random Forest: {accuracy_score(y_test, rf_pred):.4f}\")\n",
    "print(f\"Deision Tree: {accuracy_score(y_test, dt_pred):.4f}\")"
   ]
  }
 ],
 "metadata": {
  "kernelspec": {
   "display_name": "base",
   "language": "python",
   "name": "python3"
  },
  "language_info": {
   "codemirror_mode": {
    "name": "ipython",
    "version": 3
   },
   "file_extension": ".py",
   "mimetype": "text/x-python",
   "name": "python",
   "nbconvert_exporter": "python",
   "pygments_lexer": "ipython3",
   "version": "3.11.5"
  }
 },
 "nbformat": 4,
 "nbformat_minor": 4
}
