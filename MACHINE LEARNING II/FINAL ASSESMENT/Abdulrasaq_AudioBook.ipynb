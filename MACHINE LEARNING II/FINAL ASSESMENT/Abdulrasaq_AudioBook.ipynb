{
 "cells": [
  {
   "cell_type": "markdown",
   "metadata": {},
   "source": [
    "# Create an Audiobook from a PDF\n",
    "## This task tests your ability to apply Text to Speech conversion and Extraction of Text from PDF files in the creation of an audiobook from a PDF file"
   ]
  },
  {
   "cell_type": "markdown",
   "metadata": {},
   "source": [
    "### Steps\n",
    "- Extract text from PDF file\n",
    "- Clean the text\n",
    "- Convert the text into speech\n",
    "- Save the speech\n",
    "- Play the speech"
   ]
  },
  {
   "cell_type": "markdown",
   "metadata": {},
   "source": [
    "## 1. Extract text from PDF\n",
    "- Use PyPDF2"
   ]
  },
  {
   "cell_type": "markdown",
   "metadata": {},
   "source": [
    "### Install the library"
   ]
  },
  {
   "cell_type": "code",
   "execution_count": 1,
   "metadata": {},
   "outputs": [
    {
     "name": "stdout",
     "output_type": "stream",
     "text": [
      "\u001b[33mDEPRECATION: Loading egg at /Users/omisesan/anaconda3/lib/python3.11/site-packages/endtoendmlgit-0.0.1-py3.11.egg is deprecated. pip 25.1 will enforce this behaviour change. A possible replacement is to use pip for package installation. Discussion can be found at https://github.com/pypa/pip/issues/12330\u001b[0m\u001b[33m\n",
      "\u001b[0m\u001b[33mDEPRECATION: Loading egg at /Users/omisesan/anaconda3/lib/python3.11/site-packages/fonttools-4.55.2-py3.11-macosx-10.9-x86_64.egg is deprecated. pip 25.1 will enforce this behaviour change. A possible replacement is to use pip for package installation. Discussion can be found at https://github.com/pypa/pip/issues/12330\u001b[0m\u001b[33m\n",
      "\u001b[0mRequirement already satisfied: PyPDF2 in /Users/omisesan/anaconda3/lib/python3.11/site-packages (3.0.1)\n"
     ]
    }
   ],
   "source": [
    "! pip install PyPDF2"
   ]
  },
  {
   "cell_type": "markdown",
   "metadata": {},
   "source": [
    "### Import the library"
   ]
  },
  {
   "cell_type": "code",
   "execution_count": 2,
   "metadata": {},
   "outputs": [],
   "source": [
    "from PyPDF2 import PdfReader"
   ]
  },
  {
   "cell_type": "markdown",
   "metadata": {},
   "source": [
    "### Extract the text"
   ]
  },
  {
   "cell_type": "code",
   "execution_count": 3,
   "metadata": {},
   "outputs": [],
   "source": [
    "reader = PdfReader('Abdulrasaq_Framework.pdf')"
   ]
  },
  {
   "cell_type": "markdown",
   "metadata": {},
   "source": [
    "### Print the extracted text"
   ]
  },
  {
   "cell_type": "code",
   "execution_count": 4,
   "metadata": {},
   "outputs": [
    {
     "data": {
      "text/plain": [
       "'   ETHICS AND LAW FOR DATA SCIENCE CRN- 48765- 202402     ETHICAL FRAMEWORK FINAL ESSAY   ABDUL-RASAQ OMISESAN (101571156)   Applied AI Solutions Development, School of Computer Technology  George Brown College – Toronto, ON   Dr. CINDY. GORDON February 19, 2025      Balancing Innovation and Ethics in Healthcare AI: A Framework for Medical Imaging Diagnostics   Ethical AI in healthcare is not just an idealistic desideratum but a dire need considering rapid technological advances over the last few years changing clinical practice. A strong ethical framework for medical AI is needed, and as tools of diagnostic and therapeutic support and codified and economically driven decisions and recommendations become increasingly the norm, transparency, equity, security, and reliability, and associations with regulations protecting human rights, are necessary. Using a treasure trove of existing frameworks and best practices such as the UK Data Ethics Framework, IBM’s Trusted AI guidelines, AI4People’s Ethical Framework, and practical tools like Google’s What-If Tool, and perspectives from Adobe this essay outlines the essential capabilities for ethical AI in healthcare and shows how these could be applied through a use case based on medical imaging for cancer detection. One core capability is transparency and explainability. AI systems designed for analyzing complex data such as MRIs, CT scans, and X-rays in medical imaging to identify anomalies like tumors. The UK Data Ethics Framework argues the role of developers or AI authors must be open to scrutiny, and IBM’s Trusted AI principles insist on good documentation, which opens the black box behind AI (Government Digital Service, 2020) (Trustworthy AI, 2024). For example, if an AI model detects a suspicious tumor, the model should point to parts of the image to support the diagnosis. Such explainability allows radiologists to confirm findings and gives patients interpretations they can understand, helping to build trust. Another important pillar is accountability and governance. In the healthcare world, the consequences of misdiagnosis can be even more severe. A robust ethical framework must clearly describe the responsibilities expected of AI developers, clinicians, and institutional leadership. Strong governance processes such as ethics review boards and internal compliance protocols are also vital to ensure adverse outcomes are addressed quickly. The AI4People framework underscores the need for integrating ethical oversight at all stages of the lifecycle of AI systems and avoiding diffusion of responsibility (Floridi et al., 2018). Fairness and non-discrimination are equally important. Imbalance in training data for medical imaging algorithms can result in unequal treatment, particularly for minority or underrepresented groups. One example of this is an AI system trained primarily on data from one demographic, which will likely perform poorly when diagnosing the health of individuals from other demographics. Practical tools, such as Google’s What-If Tool, exist to audit and mitigate bias (Playing with AI Fairness, n.d.), ensuring that AI, persona-driven diagnostics are equitable in their assessments of users; however, these tools will have to be made available to the designer, and this is, in fact, a capability that few persona designers have. This approach to fairness is crucial for the promotion of the ethical principle of justice, a key theme among AI4People and industry guides such as Adobe’s ethical view of AI (Empowering AI Leadership, n.d.). With access to sensitive patient data, privacy and data protection are mandatory. Content and images on a medical imaging system are highly sensitive and require strict data governance policies. Data minimization, anonymization, and encryption must be a part of how we do business, and we must be legally compliant with regulations like the general data protection regulation (GDPR) (General Data Protection Regulation (GDPR) – Legal Text, 2024). Both the UK Data Ethics Framework and IBM’s guidelines stress that being open about what data is being used, letting patients know what data is collected, how, where it is processed, and the reasons for such processing serves to protect privacy and build trust. Safety, security, and robustness are the most important capabilities, where failures can lead to adverse patient outcomes if an AI decision is wrong. In medical imaging, diagnostic tools can be vital, reliable systems are important as failures can result in incorrect diagnoses and inappropriate treatment. Thorough testing in a wide range of conditions, ongoing monitoring, and strong fallback procedures are needed to guarantee that AI systems behave safely and securely. These measures assist in the forecasting of potential system failures as well as protection against cyber threats, which can jeopardize patient data and clinical decision-making. Human oversight and control are indispensable even in highly automated systems, as sophisticated as AI can get. Human clinicians should always be in the loop when it comes to the ultimate diagnostic decision in medical imaging. Utilizing the human factor empowers radiologists to review, validate, or even overturn AI-generated recommendations when calls are close, integrating computational acumen with human expertise. These coherent parts are essential in maintaining clinical accountability and patient safety. We can take the scenario of an AI-based diagnostic that analyzes mammograms in search of early signs of breast cancer.  Transparency is demonstrated when the AI system highlights the specific region of a mammogram that triggered the cancer alert, thereby allowing radiologists to independently verify the diagnosis; a clear governance mechanism to outline the separation of responsibility, including liability among the hospital, AI developers, and clinical teams, ensuring accountability also promotes trust. Equity and fairness are achieved by using diverse training datasets and regular audits for bias to avoid inequitable outcomes across patients from different backgrounds. Sensitive patient information should be carefully anonymized and stored securely, making privacy secure through stringent data management mechanisms. Safety and robustness should be established through extensive validation on multiple imaging modalities and in different operating conditions, while a partnership with humans should be maintained by performing rigorous clinical reviews of all recommendations suggested by AI systems before a final diagnosis is made. Ultimately, a holistic ethical framework for AI-augmented healthcare should contain and balance transparency, accountability, fairness, privacy, safety, and human oversight. Not only are these capabilities important for ensuring that AI systems work reliably and fairly, but they also protect the ethical and legal frameworks that are key to patient welfare. With a trusted and secure diagnostic environment focused on patient outcomes through such an integrated approach, we can achieve a great feat in medical imaging as well. As the role of AI in healthcare continues to evolve, incorporating these critical components into its development and deployment will be key to achieving responsible technological advancement while protecting the rights of individuals.   References    General Data Protection Regulation (GDPR) – legal text. (2024, April 22). General Data Protection Regulation (GDPR). https://gdpr-info.eu/  Government Digital Service. (2020, September 16). Data Ethics Framework. GOV.UK. https://www.gov.uk/government/publications/data-ethics-framework  Floridi, L., Cowls, J., Beltrametti, M., Chatila, R., Chazerand, P., Dignum, V., Luetge, C., Madelin, R., Pagallo, U., Rossi, F., Schafer, B., Valcke, P., & Vayena, E. (2018, November 6). AI4People - An Ethical Framework for a Good AI Society: Opportunities, risks, principles, and recommendations. https://papers.ssrn.com/sol3/papers.cfm?abstract_id=3284141  Playing with AI Fairness. (n.d.). https://pair-code.github.io/what-if-tool/ai-fairness.html  Trustworthy AI. (2024, October 7). IBM Research. https://research.ibm.com/topics/trustworthy-ai?cm_mc_uid=20164137470816096157841&cm_mc_sid_50200000=24555521609615784119  Home | Empowering AI Leadership. (n.d.). https://express.adobe.com/page/RsXNkZANwMLEf/?fbclid=IwAR28cgx85tnc-S_vqr8sclWGJNn1G-TOmZyQY6y1-BVrYzIKjyrlNL6fZl4              '"
      ]
     },
     "execution_count": 4,
     "metadata": {},
     "output_type": "execute_result"
    }
   ],
   "source": [
    "text = \"\"\n",
    "for page in reader.pages:\n",
    "    text += page.extract_text()\n",
    "\n",
    "text"
   ]
  },
  {
   "cell_type": "markdown",
   "metadata": {},
   "source": [
    "## 2. Convert the Text into Speech\n",
    "- Use **pyttsx3** OR **gTTS**"
   ]
  },
  {
   "cell_type": "markdown",
   "metadata": {},
   "source": [
    "### Install the library"
   ]
  },
  {
   "cell_type": "code",
   "execution_count": 5,
   "metadata": {},
   "outputs": [
    {
     "name": "stdout",
     "output_type": "stream",
     "text": [
      "\u001b[33mDEPRECATION: Loading egg at /Users/omisesan/anaconda3/lib/python3.11/site-packages/endtoendmlgit-0.0.1-py3.11.egg is deprecated. pip 25.1 will enforce this behaviour change. A possible replacement is to use pip for package installation. Discussion can be found at https://github.com/pypa/pip/issues/12330\u001b[0m\u001b[33m\n",
      "\u001b[0m\u001b[33mDEPRECATION: Loading egg at /Users/omisesan/anaconda3/lib/python3.11/site-packages/fonttools-4.55.2-py3.11-macosx-10.9-x86_64.egg is deprecated. pip 25.1 will enforce this behaviour change. A possible replacement is to use pip for package installation. Discussion can be found at https://github.com/pypa/pip/issues/12330\u001b[0m\u001b[33m\n",
      "\u001b[0mRequirement already satisfied: pyttsx3 in /Users/omisesan/anaconda3/lib/python3.11/site-packages (2.98)\n",
      "Requirement already satisfied: pyobjc>=2.4 in /Users/omisesan/anaconda3/lib/python3.11/site-packages (from pyttsx3) (11.0)\n",
      "Requirement already satisfied: pyobjc-core==11.0 in /Users/omisesan/anaconda3/lib/python3.11/site-packages (from pyobjc>=2.4->pyttsx3) (11.0)\n",
      "Requirement already satisfied: pyobjc-framework-libdispatch==11.0 in /Users/omisesan/anaconda3/lib/python3.11/site-packages (from pyobjc>=2.4->pyttsx3) (11.0)\n",
      "Requirement already satisfied: pyobjc-framework-libxpc==11.0 in /Users/omisesan/anaconda3/lib/python3.11/site-packages (from pyobjc>=2.4->pyttsx3) (11.0)\n",
      "Requirement already satisfied: pyobjc-framework-Accessibility==11.0 in /Users/omisesan/anaconda3/lib/python3.11/site-packages (from pyobjc>=2.4->pyttsx3) (11.0)\n",
      "Requirement already satisfied: pyobjc-framework-AdServices==11.0 in /Users/omisesan/anaconda3/lib/python3.11/site-packages (from pyobjc>=2.4->pyttsx3) (11.0)\n",
      "Requirement already satisfied: pyobjc-framework-AdSupport==11.0 in /Users/omisesan/anaconda3/lib/python3.11/site-packages (from pyobjc>=2.4->pyttsx3) (11.0)\n",
      "Requirement already satisfied: pyobjc-framework-AppTrackingTransparency==11.0 in /Users/omisesan/anaconda3/lib/python3.11/site-packages (from pyobjc>=2.4->pyttsx3) (11.0)\n",
      "Requirement already satisfied: pyobjc-framework-AudioVideoBridging==11.0 in /Users/omisesan/anaconda3/lib/python3.11/site-packages (from pyobjc>=2.4->pyttsx3) (11.0)\n",
      "Requirement already satisfied: pyobjc-framework-AuthenticationServices==11.0 in /Users/omisesan/anaconda3/lib/python3.11/site-packages (from pyobjc>=2.4->pyttsx3) (11.0)\n",
      "Requirement already satisfied: pyobjc-framework-AutomaticAssessmentConfiguration==11.0 in /Users/omisesan/anaconda3/lib/python3.11/site-packages (from pyobjc>=2.4->pyttsx3) (11.0)\n",
      "Requirement already satisfied: pyobjc-framework-AVKit==11.0 in /Users/omisesan/anaconda3/lib/python3.11/site-packages (from pyobjc>=2.4->pyttsx3) (11.0)\n",
      "Requirement already satisfied: pyobjc-framework-AVFoundation==11.0 in /Users/omisesan/anaconda3/lib/python3.11/site-packages (from pyobjc>=2.4->pyttsx3) (11.0)\n",
      "Requirement already satisfied: pyobjc-framework-AVRouting==11.0 in /Users/omisesan/anaconda3/lib/python3.11/site-packages (from pyobjc>=2.4->pyttsx3) (11.0)\n",
      "Requirement already satisfied: pyobjc-framework-Accounts==11.0 in /Users/omisesan/anaconda3/lib/python3.11/site-packages (from pyobjc>=2.4->pyttsx3) (11.0)\n",
      "Requirement already satisfied: pyobjc-framework-AddressBook==11.0 in /Users/omisesan/anaconda3/lib/python3.11/site-packages (from pyobjc>=2.4->pyttsx3) (11.0)\n",
      "Requirement already satisfied: pyobjc-framework-AppleScriptKit==11.0 in /Users/omisesan/anaconda3/lib/python3.11/site-packages (from pyobjc>=2.4->pyttsx3) (11.0)\n",
      "Requirement already satisfied: pyobjc-framework-AppleScriptObjC==11.0 in /Users/omisesan/anaconda3/lib/python3.11/site-packages (from pyobjc>=2.4->pyttsx3) (11.0)\n",
      "Requirement already satisfied: pyobjc-framework-ApplicationServices==11.0 in /Users/omisesan/anaconda3/lib/python3.11/site-packages (from pyobjc>=2.4->pyttsx3) (11.0)\n",
      "Requirement already satisfied: pyobjc-framework-Automator==11.0 in /Users/omisesan/anaconda3/lib/python3.11/site-packages (from pyobjc>=2.4->pyttsx3) (11.0)\n",
      "Requirement already satisfied: pyobjc-framework-BackgroundAssets==11.0 in /Users/omisesan/anaconda3/lib/python3.11/site-packages (from pyobjc>=2.4->pyttsx3) (11.0)\n",
      "Requirement already satisfied: pyobjc-framework-BrowserEngineKit==11.0 in /Users/omisesan/anaconda3/lib/python3.11/site-packages (from pyobjc>=2.4->pyttsx3) (11.0)\n",
      "Requirement already satisfied: pyobjc-framework-BusinessChat==11.0 in /Users/omisesan/anaconda3/lib/python3.11/site-packages (from pyobjc>=2.4->pyttsx3) (11.0)\n",
      "Requirement already satisfied: pyobjc-framework-CFNetwork==11.0 in /Users/omisesan/anaconda3/lib/python3.11/site-packages (from pyobjc>=2.4->pyttsx3) (11.0)\n",
      "Requirement already satisfied: pyobjc-framework-CalendarStore==11.0 in /Users/omisesan/anaconda3/lib/python3.11/site-packages (from pyobjc>=2.4->pyttsx3) (11.0)\n",
      "Requirement already satisfied: pyobjc-framework-CallKit==11.0 in /Users/omisesan/anaconda3/lib/python3.11/site-packages (from pyobjc>=2.4->pyttsx3) (11.0)\n",
      "Requirement already satisfied: pyobjc-framework-Carbon==11.0 in /Users/omisesan/anaconda3/lib/python3.11/site-packages (from pyobjc>=2.4->pyttsx3) (11.0)\n",
      "Requirement already satisfied: pyobjc-framework-Cinematic==11.0 in /Users/omisesan/anaconda3/lib/python3.11/site-packages (from pyobjc>=2.4->pyttsx3) (11.0)\n",
      "Requirement already satisfied: pyobjc-framework-ClassKit==11.0 in /Users/omisesan/anaconda3/lib/python3.11/site-packages (from pyobjc>=2.4->pyttsx3) (11.0)\n",
      "Requirement already satisfied: pyobjc-framework-CloudKit==11.0 in /Users/omisesan/anaconda3/lib/python3.11/site-packages (from pyobjc>=2.4->pyttsx3) (11.0)\n",
      "Requirement already satisfied: pyobjc-framework-Cocoa==11.0 in /Users/omisesan/anaconda3/lib/python3.11/site-packages (from pyobjc>=2.4->pyttsx3) (11.0)\n",
      "Requirement already satisfied: pyobjc-framework-Collaboration==11.0 in /Users/omisesan/anaconda3/lib/python3.11/site-packages (from pyobjc>=2.4->pyttsx3) (11.0)\n",
      "Requirement already satisfied: pyobjc-framework-ColorSync==11.0 in /Users/omisesan/anaconda3/lib/python3.11/site-packages (from pyobjc>=2.4->pyttsx3) (11.0)\n",
      "Requirement already satisfied: pyobjc-framework-Contacts==11.0 in /Users/omisesan/anaconda3/lib/python3.11/site-packages (from pyobjc>=2.4->pyttsx3) (11.0)\n",
      "Requirement already satisfied: pyobjc-framework-ContactsUI==11.0 in /Users/omisesan/anaconda3/lib/python3.11/site-packages (from pyobjc>=2.4->pyttsx3) (11.0)\n",
      "Requirement already satisfied: pyobjc-framework-CoreAudio==11.0 in /Users/omisesan/anaconda3/lib/python3.11/site-packages (from pyobjc>=2.4->pyttsx3) (11.0)\n",
      "Requirement already satisfied: pyobjc-framework-CoreAudioKit==11.0 in /Users/omisesan/anaconda3/lib/python3.11/site-packages (from pyobjc>=2.4->pyttsx3) (11.0)\n",
      "Requirement already satisfied: pyobjc-framework-CoreBluetooth==11.0 in /Users/omisesan/anaconda3/lib/python3.11/site-packages (from pyobjc>=2.4->pyttsx3) (11.0)\n",
      "Requirement already satisfied: pyobjc-framework-CoreData==11.0 in /Users/omisesan/anaconda3/lib/python3.11/site-packages (from pyobjc>=2.4->pyttsx3) (11.0)\n",
      "Requirement already satisfied: pyobjc-framework-CoreHaptics==11.0 in /Users/omisesan/anaconda3/lib/python3.11/site-packages (from pyobjc>=2.4->pyttsx3) (11.0)\n",
      "Requirement already satisfied: pyobjc-framework-CoreLocation==11.0 in /Users/omisesan/anaconda3/lib/python3.11/site-packages (from pyobjc>=2.4->pyttsx3) (11.0)\n",
      "Requirement already satisfied: pyobjc-framework-CoreMedia==11.0 in /Users/omisesan/anaconda3/lib/python3.11/site-packages (from pyobjc>=2.4->pyttsx3) (11.0)\n",
      "Requirement already satisfied: pyobjc-framework-CoreMediaIO==11.0 in /Users/omisesan/anaconda3/lib/python3.11/site-packages (from pyobjc>=2.4->pyttsx3) (11.0)\n",
      "Requirement already satisfied: pyobjc-framework-CoreMIDI==11.0 in /Users/omisesan/anaconda3/lib/python3.11/site-packages (from pyobjc>=2.4->pyttsx3) (11.0)\n",
      "Requirement already satisfied: pyobjc-framework-CoreML==11.0 in /Users/omisesan/anaconda3/lib/python3.11/site-packages (from pyobjc>=2.4->pyttsx3) (11.0)\n",
      "Requirement already satisfied: pyobjc-framework-CoreMotion==11.0 in /Users/omisesan/anaconda3/lib/python3.11/site-packages (from pyobjc>=2.4->pyttsx3) (11.0)\n",
      "Requirement already satisfied: pyobjc-framework-CoreServices==11.0 in /Users/omisesan/anaconda3/lib/python3.11/site-packages (from pyobjc>=2.4->pyttsx3) (11.0)\n",
      "Requirement already satisfied: pyobjc-framework-CoreSpotlight==11.0 in /Users/omisesan/anaconda3/lib/python3.11/site-packages (from pyobjc>=2.4->pyttsx3) (11.0)\n",
      "Requirement already satisfied: pyobjc-framework-CoreText==11.0 in /Users/omisesan/anaconda3/lib/python3.11/site-packages (from pyobjc>=2.4->pyttsx3) (11.0)\n",
      "Requirement already satisfied: pyobjc-framework-CoreWLAN==11.0 in /Users/omisesan/anaconda3/lib/python3.11/site-packages (from pyobjc>=2.4->pyttsx3) (11.0)\n",
      "Requirement already satisfied: pyobjc-framework-CryptoTokenKit==11.0 in /Users/omisesan/anaconda3/lib/python3.11/site-packages (from pyobjc>=2.4->pyttsx3) (11.0)\n",
      "Requirement already satisfied: pyobjc-framework-DataDetection==11.0 in /Users/omisesan/anaconda3/lib/python3.11/site-packages (from pyobjc>=2.4->pyttsx3) (11.0)\n",
      "Requirement already satisfied: pyobjc-framework-DeviceCheck==11.0 in /Users/omisesan/anaconda3/lib/python3.11/site-packages (from pyobjc>=2.4->pyttsx3) (11.0)\n",
      "Requirement already satisfied: pyobjc-framework-DeviceDiscoveryExtension==11.0 in /Users/omisesan/anaconda3/lib/python3.11/site-packages (from pyobjc>=2.4->pyttsx3) (11.0)\n",
      "Requirement already satisfied: pyobjc-framework-DictionaryServices==11.0 in /Users/omisesan/anaconda3/lib/python3.11/site-packages (from pyobjc>=2.4->pyttsx3) (11.0)\n",
      "Requirement already satisfied: pyobjc-framework-DiscRecording==11.0 in /Users/omisesan/anaconda3/lib/python3.11/site-packages (from pyobjc>=2.4->pyttsx3) (11.0)\n",
      "Requirement already satisfied: pyobjc-framework-DiscRecordingUI==11.0 in /Users/omisesan/anaconda3/lib/python3.11/site-packages (from pyobjc>=2.4->pyttsx3) (11.0)\n",
      "Requirement already satisfied: pyobjc-framework-DiskArbitration==11.0 in /Users/omisesan/anaconda3/lib/python3.11/site-packages (from pyobjc>=2.4->pyttsx3) (11.0)\n",
      "Requirement already satisfied: pyobjc-framework-DVDPlayback==11.0 in /Users/omisesan/anaconda3/lib/python3.11/site-packages (from pyobjc>=2.4->pyttsx3) (11.0)\n",
      "Requirement already satisfied: pyobjc-framework-EventKit==11.0 in /Users/omisesan/anaconda3/lib/python3.11/site-packages (from pyobjc>=2.4->pyttsx3) (11.0)\n",
      "Requirement already satisfied: pyobjc-framework-ExceptionHandling==11.0 in /Users/omisesan/anaconda3/lib/python3.11/site-packages (from pyobjc>=2.4->pyttsx3) (11.0)\n",
      "Requirement already satisfied: pyobjc-framework-ExecutionPolicy==11.0 in /Users/omisesan/anaconda3/lib/python3.11/site-packages (from pyobjc>=2.4->pyttsx3) (11.0)\n",
      "Requirement already satisfied: pyobjc-framework-ExternalAccessory==11.0 in /Users/omisesan/anaconda3/lib/python3.11/site-packages (from pyobjc>=2.4->pyttsx3) (11.0)\n",
      "Requirement already satisfied: pyobjc-framework-ExtensionKit==11.0 in /Users/omisesan/anaconda3/lib/python3.11/site-packages (from pyobjc>=2.4->pyttsx3) (11.0)\n",
      "Requirement already satisfied: pyobjc-framework-FileProvider==11.0 in /Users/omisesan/anaconda3/lib/python3.11/site-packages (from pyobjc>=2.4->pyttsx3) (11.0)\n",
      "Requirement already satisfied: pyobjc-framework-FileProviderUI==11.0 in /Users/omisesan/anaconda3/lib/python3.11/site-packages (from pyobjc>=2.4->pyttsx3) (11.0)\n",
      "Requirement already satisfied: pyobjc-framework-FSEvents==11.0 in /Users/omisesan/anaconda3/lib/python3.11/site-packages (from pyobjc>=2.4->pyttsx3) (11.0)\n",
      "Requirement already satisfied: pyobjc-framework-FinderSync==11.0 in /Users/omisesan/anaconda3/lib/python3.11/site-packages (from pyobjc>=2.4->pyttsx3) (11.0)\n",
      "Requirement already satisfied: pyobjc-framework-GameCenter==11.0 in /Users/omisesan/anaconda3/lib/python3.11/site-packages (from pyobjc>=2.4->pyttsx3) (11.0)\n",
      "Requirement already satisfied: pyobjc-framework-GameController==11.0 in /Users/omisesan/anaconda3/lib/python3.11/site-packages (from pyobjc>=2.4->pyttsx3) (11.0)\n",
      "Requirement already satisfied: pyobjc-framework-HealthKit==11.0 in /Users/omisesan/anaconda3/lib/python3.11/site-packages (from pyobjc>=2.4->pyttsx3) (11.0)\n",
      "Requirement already satisfied: pyobjc-framework-InputMethodKit==11.0 in /Users/omisesan/anaconda3/lib/python3.11/site-packages (from pyobjc>=2.4->pyttsx3) (11.0)\n",
      "Requirement already satisfied: pyobjc-framework-ImageCaptureCore==11.0 in /Users/omisesan/anaconda3/lib/python3.11/site-packages (from pyobjc>=2.4->pyttsx3) (11.0)\n",
      "Requirement already satisfied: pyobjc-framework-Intents==11.0 in /Users/omisesan/anaconda3/lib/python3.11/site-packages (from pyobjc>=2.4->pyttsx3) (11.0)\n",
      "Requirement already satisfied: pyobjc-framework-IntentsUI==11.0 in /Users/omisesan/anaconda3/lib/python3.11/site-packages (from pyobjc>=2.4->pyttsx3) (11.0)\n",
      "Requirement already satisfied: pyobjc-framework-InstallerPlugins==11.0 in /Users/omisesan/anaconda3/lib/python3.11/site-packages (from pyobjc>=2.4->pyttsx3) (11.0)\n",
      "Requirement already satisfied: pyobjc-framework-InstantMessage==11.0 in /Users/omisesan/anaconda3/lib/python3.11/site-packages (from pyobjc>=2.4->pyttsx3) (11.0)\n",
      "Requirement already satisfied: pyobjc-framework-IOBluetooth==11.0 in /Users/omisesan/anaconda3/lib/python3.11/site-packages (from pyobjc>=2.4->pyttsx3) (11.0)\n",
      "Requirement already satisfied: pyobjc-framework-IOBluetoothUI==11.0 in /Users/omisesan/anaconda3/lib/python3.11/site-packages (from pyobjc>=2.4->pyttsx3) (11.0)\n",
      "Requirement already satisfied: pyobjc-framework-IOSurface==11.0 in /Users/omisesan/anaconda3/lib/python3.11/site-packages (from pyobjc>=2.4->pyttsx3) (11.0)\n",
      "Requirement already satisfied: pyobjc-framework-KernelManagement==11.0 in /Users/omisesan/anaconda3/lib/python3.11/site-packages (from pyobjc>=2.4->pyttsx3) (11.0)\n",
      "Requirement already satisfied: pyobjc-framework-LatentSemanticMapping==11.0 in /Users/omisesan/anaconda3/lib/python3.11/site-packages (from pyobjc>=2.4->pyttsx3) (11.0)\n",
      "Requirement already satisfied: pyobjc-framework-LaunchServices==11.0 in /Users/omisesan/anaconda3/lib/python3.11/site-packages (from pyobjc>=2.4->pyttsx3) (11.0)\n",
      "Requirement already satisfied: pyobjc-framework-LinkPresentation==11.0 in /Users/omisesan/anaconda3/lib/python3.11/site-packages (from pyobjc>=2.4->pyttsx3) (11.0)\n",
      "Requirement already satisfied: pyobjc-framework-LocalAuthentication==11.0 in /Users/omisesan/anaconda3/lib/python3.11/site-packages (from pyobjc>=2.4->pyttsx3) (11.0)\n",
      "Requirement already satisfied: pyobjc-framework-LocalAuthenticationEmbeddedUI==11.0 in /Users/omisesan/anaconda3/lib/python3.11/site-packages (from pyobjc>=2.4->pyttsx3) (11.0)\n",
      "Requirement already satisfied: pyobjc-framework-MailKit==11.0 in /Users/omisesan/anaconda3/lib/python3.11/site-packages (from pyobjc>=2.4->pyttsx3) (11.0)\n",
      "Requirement already satisfied: pyobjc-framework-MapKit==11.0 in /Users/omisesan/anaconda3/lib/python3.11/site-packages (from pyobjc>=2.4->pyttsx3) (11.0)\n",
      "Requirement already satisfied: pyobjc-framework-MediaAccessibility==11.0 in /Users/omisesan/anaconda3/lib/python3.11/site-packages (from pyobjc>=2.4->pyttsx3) (11.0)\n",
      "Requirement already satisfied: pyobjc-framework-MediaExtension==11.0 in /Users/omisesan/anaconda3/lib/python3.11/site-packages (from pyobjc>=2.4->pyttsx3) (11.0)\n",
      "Requirement already satisfied: pyobjc-framework-MediaLibrary==11.0 in /Users/omisesan/anaconda3/lib/python3.11/site-packages (from pyobjc>=2.4->pyttsx3) (11.0)\n",
      "Requirement already satisfied: pyobjc-framework-MediaPlayer==11.0 in /Users/omisesan/anaconda3/lib/python3.11/site-packages (from pyobjc>=2.4->pyttsx3) (11.0)\n",
      "Requirement already satisfied: pyobjc-framework-MediaToolbox==11.0 in /Users/omisesan/anaconda3/lib/python3.11/site-packages (from pyobjc>=2.4->pyttsx3) (11.0)\n",
      "Requirement already satisfied: pyobjc-framework-Metal==11.0 in /Users/omisesan/anaconda3/lib/python3.11/site-packages (from pyobjc>=2.4->pyttsx3) (11.0)\n",
      "Requirement already satisfied: pyobjc-framework-MetalFX==11.0 in /Users/omisesan/anaconda3/lib/python3.11/site-packages (from pyobjc>=2.4->pyttsx3) (11.0)\n",
      "Requirement already satisfied: pyobjc-framework-MetalKit==11.0 in /Users/omisesan/anaconda3/lib/python3.11/site-packages (from pyobjc>=2.4->pyttsx3) (11.0)\n",
      "Requirement already satisfied: pyobjc-framework-MetalPerformanceShaders==11.0 in /Users/omisesan/anaconda3/lib/python3.11/site-packages (from pyobjc>=2.4->pyttsx3) (11.0)\n",
      "Requirement already satisfied: pyobjc-framework-MetalPerformanceShadersGraph==11.0 in /Users/omisesan/anaconda3/lib/python3.11/site-packages (from pyobjc>=2.4->pyttsx3) (11.0)\n",
      "Requirement already satisfied: pyobjc-framework-MetricKit==11.0 in /Users/omisesan/anaconda3/lib/python3.11/site-packages (from pyobjc>=2.4->pyttsx3) (11.0)\n",
      "Requirement already satisfied: pyobjc-framework-MLCompute==11.0 in /Users/omisesan/anaconda3/lib/python3.11/site-packages (from pyobjc>=2.4->pyttsx3) (11.0)\n",
      "Requirement already satisfied: pyobjc-framework-ModelIO==11.0 in /Users/omisesan/anaconda3/lib/python3.11/site-packages (from pyobjc>=2.4->pyttsx3) (11.0)\n",
      "Requirement already satisfied: pyobjc-framework-MultipeerConnectivity==11.0 in /Users/omisesan/anaconda3/lib/python3.11/site-packages (from pyobjc>=2.4->pyttsx3) (11.0)\n",
      "Requirement already satisfied: pyobjc-framework-NaturalLanguage==11.0 in /Users/omisesan/anaconda3/lib/python3.11/site-packages (from pyobjc>=2.4->pyttsx3) (11.0)\n",
      "Requirement already satisfied: pyobjc-framework-NetFS==11.0 in /Users/omisesan/anaconda3/lib/python3.11/site-packages (from pyobjc>=2.4->pyttsx3) (11.0)\n",
      "Requirement already satisfied: pyobjc-framework-Network==11.0 in /Users/omisesan/anaconda3/lib/python3.11/site-packages (from pyobjc>=2.4->pyttsx3) (11.0)\n",
      "Requirement already satisfied: pyobjc-framework-NetworkExtension==11.0 in /Users/omisesan/anaconda3/lib/python3.11/site-packages (from pyobjc>=2.4->pyttsx3) (11.0)\n",
      "Requirement already satisfied: pyobjc-framework-NotificationCenter==11.0 in /Users/omisesan/anaconda3/lib/python3.11/site-packages (from pyobjc>=2.4->pyttsx3) (11.0)\n",
      "Requirement already satisfied: pyobjc-framework-OpenDirectory==11.0 in /Users/omisesan/anaconda3/lib/python3.11/site-packages (from pyobjc>=2.4->pyttsx3) (11.0)\n",
      "Requirement already satisfied: pyobjc-framework-OSAKit==11.0 in /Users/omisesan/anaconda3/lib/python3.11/site-packages (from pyobjc>=2.4->pyttsx3) (11.0)\n",
      "Requirement already satisfied: pyobjc-framework-OSLog==11.0 in /Users/omisesan/anaconda3/lib/python3.11/site-packages (from pyobjc>=2.4->pyttsx3) (11.0)\n",
      "Requirement already satisfied: pyobjc-framework-PassKit==11.0 in /Users/omisesan/anaconda3/lib/python3.11/site-packages (from pyobjc>=2.4->pyttsx3) (11.0)\n",
      "Requirement already satisfied: pyobjc-framework-PencilKit==11.0 in /Users/omisesan/anaconda3/lib/python3.11/site-packages (from pyobjc>=2.4->pyttsx3) (11.0)\n",
      "Requirement already satisfied: pyobjc-framework-PHASE==11.0 in /Users/omisesan/anaconda3/lib/python3.11/site-packages (from pyobjc>=2.4->pyttsx3) (11.0)\n",
      "Requirement already satisfied: pyobjc-framework-Photos==11.0 in /Users/omisesan/anaconda3/lib/python3.11/site-packages (from pyobjc>=2.4->pyttsx3) (11.0)\n",
      "Requirement already satisfied: pyobjc-framework-PhotosUI==11.0 in /Users/omisesan/anaconda3/lib/python3.11/site-packages (from pyobjc>=2.4->pyttsx3) (11.0)\n",
      "Requirement already satisfied: pyobjc-framework-PreferencePanes==11.0 in /Users/omisesan/anaconda3/lib/python3.11/site-packages (from pyobjc>=2.4->pyttsx3) (11.0)\n",
      "Requirement already satisfied: pyobjc-framework-PushKit==11.0 in /Users/omisesan/anaconda3/lib/python3.11/site-packages (from pyobjc>=2.4->pyttsx3) (11.0)\n",
      "Requirement already satisfied: pyobjc-framework-Quartz==11.0 in /Users/omisesan/anaconda3/lib/python3.11/site-packages (from pyobjc>=2.4->pyttsx3) (11.0)\n",
      "Requirement already satisfied: pyobjc-framework-QuickLookThumbnailing==11.0 in /Users/omisesan/anaconda3/lib/python3.11/site-packages (from pyobjc>=2.4->pyttsx3) (11.0)\n",
      "Requirement already satisfied: pyobjc-framework-ReplayKit==11.0 in /Users/omisesan/anaconda3/lib/python3.11/site-packages (from pyobjc>=2.4->pyttsx3) (11.0)\n",
      "Requirement already satisfied: pyobjc-framework-SafetyKit==11.0 in /Users/omisesan/anaconda3/lib/python3.11/site-packages (from pyobjc>=2.4->pyttsx3) (11.0)\n",
      "Requirement already satisfied: pyobjc-framework-SafariServices==11.0 in /Users/omisesan/anaconda3/lib/python3.11/site-packages (from pyobjc>=2.4->pyttsx3) (11.0)\n",
      "Requirement already satisfied: pyobjc-framework-ScreenSaver==11.0 in /Users/omisesan/anaconda3/lib/python3.11/site-packages (from pyobjc>=2.4->pyttsx3) (11.0)\n",
      "Requirement already satisfied: pyobjc-framework-ScreenTime==11.0 in /Users/omisesan/anaconda3/lib/python3.11/site-packages (from pyobjc>=2.4->pyttsx3) (11.0)\n",
      "Requirement already satisfied: pyobjc-framework-ScriptingBridge==11.0 in /Users/omisesan/anaconda3/lib/python3.11/site-packages (from pyobjc>=2.4->pyttsx3) (11.0)\n",
      "Requirement already satisfied: pyobjc-framework-Security==11.0 in /Users/omisesan/anaconda3/lib/python3.11/site-packages (from pyobjc>=2.4->pyttsx3) (11.0)\n",
      "Requirement already satisfied: pyobjc-framework-SecurityFoundation==11.0 in /Users/omisesan/anaconda3/lib/python3.11/site-packages (from pyobjc>=2.4->pyttsx3) (11.0)\n",
      "Requirement already satisfied: pyobjc-framework-SecurityInterface==11.0 in /Users/omisesan/anaconda3/lib/python3.11/site-packages (from pyobjc>=2.4->pyttsx3) (11.0)\n",
      "Requirement already satisfied: pyobjc-framework-SearchKit==11.0 in /Users/omisesan/anaconda3/lib/python3.11/site-packages (from pyobjc>=2.4->pyttsx3) (11.0)\n",
      "Requirement already satisfied: pyobjc-framework-ServiceManagement==11.0 in /Users/omisesan/anaconda3/lib/python3.11/site-packages (from pyobjc>=2.4->pyttsx3) (11.0)\n",
      "Requirement already satisfied: pyobjc-framework-ShazamKit==11.0 in /Users/omisesan/anaconda3/lib/python3.11/site-packages (from pyobjc>=2.4->pyttsx3) (11.0)\n",
      "Requirement already satisfied: pyobjc-framework-Social==11.0 in /Users/omisesan/anaconda3/lib/python3.11/site-packages (from pyobjc>=2.4->pyttsx3) (11.0)\n",
      "Requirement already satisfied: pyobjc-framework-Speech==11.0 in /Users/omisesan/anaconda3/lib/python3.11/site-packages (from pyobjc>=2.4->pyttsx3) (11.0)\n",
      "Requirement already satisfied: pyobjc-framework-SpriteKit==11.0 in /Users/omisesan/anaconda3/lib/python3.11/site-packages (from pyobjc>=2.4->pyttsx3) (11.0)\n",
      "Requirement already satisfied: pyobjc-framework-StoreKit==11.0 in /Users/omisesan/anaconda3/lib/python3.11/site-packages (from pyobjc>=2.4->pyttsx3) (11.0)\n",
      "Requirement already satisfied: pyobjc-framework-SyncServices==11.0 in /Users/omisesan/anaconda3/lib/python3.11/site-packages (from pyobjc>=2.4->pyttsx3) (11.0)\n",
      "Requirement already satisfied: pyobjc-framework-SystemConfiguration==11.0 in /Users/omisesan/anaconda3/lib/python3.11/site-packages (from pyobjc>=2.4->pyttsx3) (11.0)\n",
      "Requirement already satisfied: pyobjc-framework-WebKit==11.0 in /Users/omisesan/anaconda3/lib/python3.11/site-packages (from pyobjc>=2.4->pyttsx3) (11.0)\n",
      "Requirement already satisfied: pyobjc-framework-GameKit==11.0 in /Users/omisesan/anaconda3/lib/python3.11/site-packages (from pyobjc>=2.4->pyttsx3) (11.0)\n",
      "Requirement already satisfied: pyobjc-framework-GameplayKit==11.0 in /Users/omisesan/anaconda3/lib/python3.11/site-packages (from pyobjc>=2.4->pyttsx3) (11.0)\n",
      "Requirement already satisfied: pyobjc-framework-SceneKit==11.0 in /Users/omisesan/anaconda3/lib/python3.11/site-packages (from pyobjc>=2.4->pyttsx3) (11.0)\n",
      "Requirement already satisfied: pyobjc-framework-SensitiveContentAnalysis==11.0 in /Users/omisesan/anaconda3/lib/python3.11/site-packages (from pyobjc>=2.4->pyttsx3) (11.0)\n",
      "Requirement already satisfied: pyobjc-framework-SharedWithYouCore==11.0 in /Users/omisesan/anaconda3/lib/python3.11/site-packages (from pyobjc>=2.4->pyttsx3) (11.0)\n",
      "Requirement already satisfied: pyobjc-framework-SharedWithYou==11.0 in /Users/omisesan/anaconda3/lib/python3.11/site-packages (from pyobjc>=2.4->pyttsx3) (11.0)\n",
      "Requirement already satisfied: pyobjc-framework-SoundAnalysis==11.0 in /Users/omisesan/anaconda3/lib/python3.11/site-packages (from pyobjc>=2.4->pyttsx3) (11.0)\n",
      "Requirement already satisfied: pyobjc-framework-ScreenCaptureKit==11.0 in /Users/omisesan/anaconda3/lib/python3.11/site-packages (from pyobjc>=2.4->pyttsx3) (11.0)\n",
      "Requirement already satisfied: pyobjc-framework-Symbols==11.0 in /Users/omisesan/anaconda3/lib/python3.11/site-packages (from pyobjc>=2.4->pyttsx3) (11.0)\n",
      "Requirement already satisfied: pyobjc-framework-SystemExtensions==11.0 in /Users/omisesan/anaconda3/lib/python3.11/site-packages (from pyobjc>=2.4->pyttsx3) (11.0)\n",
      "Requirement already satisfied: pyobjc-framework-ThreadNetwork==11.0 in /Users/omisesan/anaconda3/lib/python3.11/site-packages (from pyobjc>=2.4->pyttsx3) (11.0)\n",
      "Requirement already satisfied: pyobjc-framework-UniformTypeIdentifiers==11.0 in /Users/omisesan/anaconda3/lib/python3.11/site-packages (from pyobjc>=2.4->pyttsx3) (11.0)\n",
      "Requirement already satisfied: pyobjc-framework-UserNotifications==11.0 in /Users/omisesan/anaconda3/lib/python3.11/site-packages (from pyobjc>=2.4->pyttsx3) (11.0)\n",
      "Requirement already satisfied: pyobjc-framework-UserNotificationsUI==11.0 in /Users/omisesan/anaconda3/lib/python3.11/site-packages (from pyobjc>=2.4->pyttsx3) (11.0)\n",
      "Requirement already satisfied: pyobjc-framework-VideoSubscriberAccount==11.0 in /Users/omisesan/anaconda3/lib/python3.11/site-packages (from pyobjc>=2.4->pyttsx3) (11.0)\n",
      "Requirement already satisfied: pyobjc-framework-VideoToolbox==11.0 in /Users/omisesan/anaconda3/lib/python3.11/site-packages (from pyobjc>=2.4->pyttsx3) (11.0)\n",
      "Requirement already satisfied: pyobjc-framework-Virtualization==11.0 in /Users/omisesan/anaconda3/lib/python3.11/site-packages (from pyobjc>=2.4->pyttsx3) (11.0)\n",
      "Requirement already satisfied: pyobjc-framework-Vision==11.0 in /Users/omisesan/anaconda3/lib/python3.11/site-packages (from pyobjc>=2.4->pyttsx3) (11.0)\n",
      "Requirement already satisfied: pyobjc-framework-iTunesLibrary==11.0 in /Users/omisesan/anaconda3/lib/python3.11/site-packages (from pyobjc>=2.4->pyttsx3) (11.0)\n"
     ]
    }
   ],
   "source": [
    "! pip install pyttsx3"
   ]
  },
  {
   "cell_type": "code",
   "execution_count": 12,
   "metadata": {},
   "outputs": [
    {
     "name": "stdout",
     "output_type": "stream",
     "text": [
      "\u001b[33mDEPRECATION: Loading egg at /Users/omisesan/anaconda3/lib/python3.11/site-packages/endtoendmlgit-0.0.1-py3.11.egg is deprecated. pip 25.1 will enforce this behaviour change. A possible replacement is to use pip for package installation. Discussion can be found at https://github.com/pypa/pip/issues/12330\u001b[0m\u001b[33m\n",
      "\u001b[0m\u001b[33mDEPRECATION: Loading egg at /Users/omisesan/anaconda3/lib/python3.11/site-packages/fonttools-4.55.2-py3.11-macosx-10.9-x86_64.egg is deprecated. pip 25.1 will enforce this behaviour change. A possible replacement is to use pip for package installation. Discussion can be found at https://github.com/pypa/pip/issues/12330\u001b[0m\u001b[33m\n",
      "\u001b[0mRequirement already satisfied: pyobjc in /Users/omisesan/anaconda3/lib/python3.11/site-packages (11.0)\n",
      "Requirement already satisfied: pyobjc-core==11.0 in /Users/omisesan/anaconda3/lib/python3.11/site-packages (from pyobjc) (11.0)\n",
      "Requirement already satisfied: pyobjc-framework-libdispatch==11.0 in /Users/omisesan/anaconda3/lib/python3.11/site-packages (from pyobjc) (11.0)\n",
      "Requirement already satisfied: pyobjc-framework-libxpc==11.0 in /Users/omisesan/anaconda3/lib/python3.11/site-packages (from pyobjc) (11.0)\n",
      "Requirement already satisfied: pyobjc-framework-Accessibility==11.0 in /Users/omisesan/anaconda3/lib/python3.11/site-packages (from pyobjc) (11.0)\n",
      "Requirement already satisfied: pyobjc-framework-AdServices==11.0 in /Users/omisesan/anaconda3/lib/python3.11/site-packages (from pyobjc) (11.0)\n",
      "Requirement already satisfied: pyobjc-framework-AdSupport==11.0 in /Users/omisesan/anaconda3/lib/python3.11/site-packages (from pyobjc) (11.0)\n",
      "Requirement already satisfied: pyobjc-framework-AppTrackingTransparency==11.0 in /Users/omisesan/anaconda3/lib/python3.11/site-packages (from pyobjc) (11.0)\n",
      "Requirement already satisfied: pyobjc-framework-AudioVideoBridging==11.0 in /Users/omisesan/anaconda3/lib/python3.11/site-packages (from pyobjc) (11.0)\n",
      "Requirement already satisfied: pyobjc-framework-AuthenticationServices==11.0 in /Users/omisesan/anaconda3/lib/python3.11/site-packages (from pyobjc) (11.0)\n",
      "Requirement already satisfied: pyobjc-framework-AutomaticAssessmentConfiguration==11.0 in /Users/omisesan/anaconda3/lib/python3.11/site-packages (from pyobjc) (11.0)\n",
      "Requirement already satisfied: pyobjc-framework-AVKit==11.0 in /Users/omisesan/anaconda3/lib/python3.11/site-packages (from pyobjc) (11.0)\n",
      "Requirement already satisfied: pyobjc-framework-AVFoundation==11.0 in /Users/omisesan/anaconda3/lib/python3.11/site-packages (from pyobjc) (11.0)\n",
      "Requirement already satisfied: pyobjc-framework-AVRouting==11.0 in /Users/omisesan/anaconda3/lib/python3.11/site-packages (from pyobjc) (11.0)\n",
      "Requirement already satisfied: pyobjc-framework-Accounts==11.0 in /Users/omisesan/anaconda3/lib/python3.11/site-packages (from pyobjc) (11.0)\n",
      "Requirement already satisfied: pyobjc-framework-AddressBook==11.0 in /Users/omisesan/anaconda3/lib/python3.11/site-packages (from pyobjc) (11.0)\n",
      "Requirement already satisfied: pyobjc-framework-AppleScriptKit==11.0 in /Users/omisesan/anaconda3/lib/python3.11/site-packages (from pyobjc) (11.0)\n",
      "Requirement already satisfied: pyobjc-framework-AppleScriptObjC==11.0 in /Users/omisesan/anaconda3/lib/python3.11/site-packages (from pyobjc) (11.0)\n",
      "Requirement already satisfied: pyobjc-framework-ApplicationServices==11.0 in /Users/omisesan/anaconda3/lib/python3.11/site-packages (from pyobjc) (11.0)\n",
      "Requirement already satisfied: pyobjc-framework-Automator==11.0 in /Users/omisesan/anaconda3/lib/python3.11/site-packages (from pyobjc) (11.0)\n",
      "Requirement already satisfied: pyobjc-framework-BackgroundAssets==11.0 in /Users/omisesan/anaconda3/lib/python3.11/site-packages (from pyobjc) (11.0)\n",
      "Requirement already satisfied: pyobjc-framework-BrowserEngineKit==11.0 in /Users/omisesan/anaconda3/lib/python3.11/site-packages (from pyobjc) (11.0)\n",
      "Requirement already satisfied: pyobjc-framework-BusinessChat==11.0 in /Users/omisesan/anaconda3/lib/python3.11/site-packages (from pyobjc) (11.0)\n",
      "Requirement already satisfied: pyobjc-framework-CFNetwork==11.0 in /Users/omisesan/anaconda3/lib/python3.11/site-packages (from pyobjc) (11.0)\n",
      "Requirement already satisfied: pyobjc-framework-CalendarStore==11.0 in /Users/omisesan/anaconda3/lib/python3.11/site-packages (from pyobjc) (11.0)\n",
      "Requirement already satisfied: pyobjc-framework-CallKit==11.0 in /Users/omisesan/anaconda3/lib/python3.11/site-packages (from pyobjc) (11.0)\n",
      "Requirement already satisfied: pyobjc-framework-Carbon==11.0 in /Users/omisesan/anaconda3/lib/python3.11/site-packages (from pyobjc) (11.0)\n",
      "Requirement already satisfied: pyobjc-framework-Cinematic==11.0 in /Users/omisesan/anaconda3/lib/python3.11/site-packages (from pyobjc) (11.0)\n",
      "Requirement already satisfied: pyobjc-framework-ClassKit==11.0 in /Users/omisesan/anaconda3/lib/python3.11/site-packages (from pyobjc) (11.0)\n",
      "Requirement already satisfied: pyobjc-framework-CloudKit==11.0 in /Users/omisesan/anaconda3/lib/python3.11/site-packages (from pyobjc) (11.0)\n",
      "Requirement already satisfied: pyobjc-framework-Cocoa==11.0 in /Users/omisesan/anaconda3/lib/python3.11/site-packages (from pyobjc) (11.0)\n",
      "Requirement already satisfied: pyobjc-framework-Collaboration==11.0 in /Users/omisesan/anaconda3/lib/python3.11/site-packages (from pyobjc) (11.0)\n",
      "Requirement already satisfied: pyobjc-framework-ColorSync==11.0 in /Users/omisesan/anaconda3/lib/python3.11/site-packages (from pyobjc) (11.0)\n",
      "Requirement already satisfied: pyobjc-framework-Contacts==11.0 in /Users/omisesan/anaconda3/lib/python3.11/site-packages (from pyobjc) (11.0)\n",
      "Requirement already satisfied: pyobjc-framework-ContactsUI==11.0 in /Users/omisesan/anaconda3/lib/python3.11/site-packages (from pyobjc) (11.0)\n",
      "Requirement already satisfied: pyobjc-framework-CoreAudio==11.0 in /Users/omisesan/anaconda3/lib/python3.11/site-packages (from pyobjc) (11.0)\n",
      "Requirement already satisfied: pyobjc-framework-CoreAudioKit==11.0 in /Users/omisesan/anaconda3/lib/python3.11/site-packages (from pyobjc) (11.0)\n",
      "Requirement already satisfied: pyobjc-framework-CoreBluetooth==11.0 in /Users/omisesan/anaconda3/lib/python3.11/site-packages (from pyobjc) (11.0)\n",
      "Requirement already satisfied: pyobjc-framework-CoreData==11.0 in /Users/omisesan/anaconda3/lib/python3.11/site-packages (from pyobjc) (11.0)\n",
      "Requirement already satisfied: pyobjc-framework-CoreHaptics==11.0 in /Users/omisesan/anaconda3/lib/python3.11/site-packages (from pyobjc) (11.0)\n",
      "Requirement already satisfied: pyobjc-framework-CoreLocation==11.0 in /Users/omisesan/anaconda3/lib/python3.11/site-packages (from pyobjc) (11.0)\n",
      "Requirement already satisfied: pyobjc-framework-CoreMedia==11.0 in /Users/omisesan/anaconda3/lib/python3.11/site-packages (from pyobjc) (11.0)\n",
      "Requirement already satisfied: pyobjc-framework-CoreMediaIO==11.0 in /Users/omisesan/anaconda3/lib/python3.11/site-packages (from pyobjc) (11.0)\n",
      "Requirement already satisfied: pyobjc-framework-CoreMIDI==11.0 in /Users/omisesan/anaconda3/lib/python3.11/site-packages (from pyobjc) (11.0)\n",
      "Requirement already satisfied: pyobjc-framework-CoreML==11.0 in /Users/omisesan/anaconda3/lib/python3.11/site-packages (from pyobjc) (11.0)\n",
      "Requirement already satisfied: pyobjc-framework-CoreMotion==11.0 in /Users/omisesan/anaconda3/lib/python3.11/site-packages (from pyobjc) (11.0)\n",
      "Requirement already satisfied: pyobjc-framework-CoreServices==11.0 in /Users/omisesan/anaconda3/lib/python3.11/site-packages (from pyobjc) (11.0)\n",
      "Requirement already satisfied: pyobjc-framework-CoreSpotlight==11.0 in /Users/omisesan/anaconda3/lib/python3.11/site-packages (from pyobjc) (11.0)\n",
      "Requirement already satisfied: pyobjc-framework-CoreText==11.0 in /Users/omisesan/anaconda3/lib/python3.11/site-packages (from pyobjc) (11.0)\n",
      "Requirement already satisfied: pyobjc-framework-CoreWLAN==11.0 in /Users/omisesan/anaconda3/lib/python3.11/site-packages (from pyobjc) (11.0)\n",
      "Requirement already satisfied: pyobjc-framework-CryptoTokenKit==11.0 in /Users/omisesan/anaconda3/lib/python3.11/site-packages (from pyobjc) (11.0)\n",
      "Requirement already satisfied: pyobjc-framework-DataDetection==11.0 in /Users/omisesan/anaconda3/lib/python3.11/site-packages (from pyobjc) (11.0)\n",
      "Requirement already satisfied: pyobjc-framework-DeviceCheck==11.0 in /Users/omisesan/anaconda3/lib/python3.11/site-packages (from pyobjc) (11.0)\n",
      "Requirement already satisfied: pyobjc-framework-DeviceDiscoveryExtension==11.0 in /Users/omisesan/anaconda3/lib/python3.11/site-packages (from pyobjc) (11.0)\n",
      "Requirement already satisfied: pyobjc-framework-DictionaryServices==11.0 in /Users/omisesan/anaconda3/lib/python3.11/site-packages (from pyobjc) (11.0)\n",
      "Requirement already satisfied: pyobjc-framework-DiscRecording==11.0 in /Users/omisesan/anaconda3/lib/python3.11/site-packages (from pyobjc) (11.0)\n",
      "Requirement already satisfied: pyobjc-framework-DiscRecordingUI==11.0 in /Users/omisesan/anaconda3/lib/python3.11/site-packages (from pyobjc) (11.0)\n",
      "Requirement already satisfied: pyobjc-framework-DiskArbitration==11.0 in /Users/omisesan/anaconda3/lib/python3.11/site-packages (from pyobjc) (11.0)\n",
      "Requirement already satisfied: pyobjc-framework-DVDPlayback==11.0 in /Users/omisesan/anaconda3/lib/python3.11/site-packages (from pyobjc) (11.0)\n",
      "Requirement already satisfied: pyobjc-framework-EventKit==11.0 in /Users/omisesan/anaconda3/lib/python3.11/site-packages (from pyobjc) (11.0)\n",
      "Requirement already satisfied: pyobjc-framework-ExceptionHandling==11.0 in /Users/omisesan/anaconda3/lib/python3.11/site-packages (from pyobjc) (11.0)\n",
      "Requirement already satisfied: pyobjc-framework-ExecutionPolicy==11.0 in /Users/omisesan/anaconda3/lib/python3.11/site-packages (from pyobjc) (11.0)\n",
      "Requirement already satisfied: pyobjc-framework-ExternalAccessory==11.0 in /Users/omisesan/anaconda3/lib/python3.11/site-packages (from pyobjc) (11.0)\n",
      "Requirement already satisfied: pyobjc-framework-ExtensionKit==11.0 in /Users/omisesan/anaconda3/lib/python3.11/site-packages (from pyobjc) (11.0)\n",
      "Requirement already satisfied: pyobjc-framework-FileProvider==11.0 in /Users/omisesan/anaconda3/lib/python3.11/site-packages (from pyobjc) (11.0)\n",
      "Requirement already satisfied: pyobjc-framework-FileProviderUI==11.0 in /Users/omisesan/anaconda3/lib/python3.11/site-packages (from pyobjc) (11.0)\n",
      "Requirement already satisfied: pyobjc-framework-FSEvents==11.0 in /Users/omisesan/anaconda3/lib/python3.11/site-packages (from pyobjc) (11.0)\n",
      "Requirement already satisfied: pyobjc-framework-FinderSync==11.0 in /Users/omisesan/anaconda3/lib/python3.11/site-packages (from pyobjc) (11.0)\n",
      "Requirement already satisfied: pyobjc-framework-GameCenter==11.0 in /Users/omisesan/anaconda3/lib/python3.11/site-packages (from pyobjc) (11.0)\n",
      "Requirement already satisfied: pyobjc-framework-GameController==11.0 in /Users/omisesan/anaconda3/lib/python3.11/site-packages (from pyobjc) (11.0)\n",
      "Requirement already satisfied: pyobjc-framework-HealthKit==11.0 in /Users/omisesan/anaconda3/lib/python3.11/site-packages (from pyobjc) (11.0)\n",
      "Requirement already satisfied: pyobjc-framework-InputMethodKit==11.0 in /Users/omisesan/anaconda3/lib/python3.11/site-packages (from pyobjc) (11.0)\n",
      "Requirement already satisfied: pyobjc-framework-ImageCaptureCore==11.0 in /Users/omisesan/anaconda3/lib/python3.11/site-packages (from pyobjc) (11.0)\n",
      "Requirement already satisfied: pyobjc-framework-Intents==11.0 in /Users/omisesan/anaconda3/lib/python3.11/site-packages (from pyobjc) (11.0)\n",
      "Requirement already satisfied: pyobjc-framework-IntentsUI==11.0 in /Users/omisesan/anaconda3/lib/python3.11/site-packages (from pyobjc) (11.0)\n",
      "Requirement already satisfied: pyobjc-framework-InstallerPlugins==11.0 in /Users/omisesan/anaconda3/lib/python3.11/site-packages (from pyobjc) (11.0)\n",
      "Requirement already satisfied: pyobjc-framework-InstantMessage==11.0 in /Users/omisesan/anaconda3/lib/python3.11/site-packages (from pyobjc) (11.0)\n",
      "Requirement already satisfied: pyobjc-framework-IOBluetooth==11.0 in /Users/omisesan/anaconda3/lib/python3.11/site-packages (from pyobjc) (11.0)\n",
      "Requirement already satisfied: pyobjc-framework-IOBluetoothUI==11.0 in /Users/omisesan/anaconda3/lib/python3.11/site-packages (from pyobjc) (11.0)\n",
      "Requirement already satisfied: pyobjc-framework-IOSurface==11.0 in /Users/omisesan/anaconda3/lib/python3.11/site-packages (from pyobjc) (11.0)\n",
      "Requirement already satisfied: pyobjc-framework-KernelManagement==11.0 in /Users/omisesan/anaconda3/lib/python3.11/site-packages (from pyobjc) (11.0)\n",
      "Requirement already satisfied: pyobjc-framework-LatentSemanticMapping==11.0 in /Users/omisesan/anaconda3/lib/python3.11/site-packages (from pyobjc) (11.0)\n",
      "Requirement already satisfied: pyobjc-framework-LaunchServices==11.0 in /Users/omisesan/anaconda3/lib/python3.11/site-packages (from pyobjc) (11.0)\n",
      "Requirement already satisfied: pyobjc-framework-LinkPresentation==11.0 in /Users/omisesan/anaconda3/lib/python3.11/site-packages (from pyobjc) (11.0)\n",
      "Requirement already satisfied: pyobjc-framework-LocalAuthentication==11.0 in /Users/omisesan/anaconda3/lib/python3.11/site-packages (from pyobjc) (11.0)\n",
      "Requirement already satisfied: pyobjc-framework-LocalAuthenticationEmbeddedUI==11.0 in /Users/omisesan/anaconda3/lib/python3.11/site-packages (from pyobjc) (11.0)\n",
      "Requirement already satisfied: pyobjc-framework-MailKit==11.0 in /Users/omisesan/anaconda3/lib/python3.11/site-packages (from pyobjc) (11.0)\n",
      "Requirement already satisfied: pyobjc-framework-MapKit==11.0 in /Users/omisesan/anaconda3/lib/python3.11/site-packages (from pyobjc) (11.0)\n",
      "Requirement already satisfied: pyobjc-framework-MediaAccessibility==11.0 in /Users/omisesan/anaconda3/lib/python3.11/site-packages (from pyobjc) (11.0)\n",
      "Requirement already satisfied: pyobjc-framework-MediaExtension==11.0 in /Users/omisesan/anaconda3/lib/python3.11/site-packages (from pyobjc) (11.0)\n",
      "Requirement already satisfied: pyobjc-framework-MediaLibrary==11.0 in /Users/omisesan/anaconda3/lib/python3.11/site-packages (from pyobjc) (11.0)\n",
      "Requirement already satisfied: pyobjc-framework-MediaPlayer==11.0 in /Users/omisesan/anaconda3/lib/python3.11/site-packages (from pyobjc) (11.0)\n",
      "Requirement already satisfied: pyobjc-framework-MediaToolbox==11.0 in /Users/omisesan/anaconda3/lib/python3.11/site-packages (from pyobjc) (11.0)\n",
      "Requirement already satisfied: pyobjc-framework-Metal==11.0 in /Users/omisesan/anaconda3/lib/python3.11/site-packages (from pyobjc) (11.0)\n",
      "Requirement already satisfied: pyobjc-framework-MetalFX==11.0 in /Users/omisesan/anaconda3/lib/python3.11/site-packages (from pyobjc) (11.0)\n",
      "Requirement already satisfied: pyobjc-framework-MetalKit==11.0 in /Users/omisesan/anaconda3/lib/python3.11/site-packages (from pyobjc) (11.0)\n",
      "Requirement already satisfied: pyobjc-framework-MetalPerformanceShaders==11.0 in /Users/omisesan/anaconda3/lib/python3.11/site-packages (from pyobjc) (11.0)\n",
      "Requirement already satisfied: pyobjc-framework-MetalPerformanceShadersGraph==11.0 in /Users/omisesan/anaconda3/lib/python3.11/site-packages (from pyobjc) (11.0)\n",
      "Requirement already satisfied: pyobjc-framework-MetricKit==11.0 in /Users/omisesan/anaconda3/lib/python3.11/site-packages (from pyobjc) (11.0)\n",
      "Requirement already satisfied: pyobjc-framework-MLCompute==11.0 in /Users/omisesan/anaconda3/lib/python3.11/site-packages (from pyobjc) (11.0)\n",
      "Requirement already satisfied: pyobjc-framework-ModelIO==11.0 in /Users/omisesan/anaconda3/lib/python3.11/site-packages (from pyobjc) (11.0)\n",
      "Requirement already satisfied: pyobjc-framework-MultipeerConnectivity==11.0 in /Users/omisesan/anaconda3/lib/python3.11/site-packages (from pyobjc) (11.0)\n",
      "Requirement already satisfied: pyobjc-framework-NaturalLanguage==11.0 in /Users/omisesan/anaconda3/lib/python3.11/site-packages (from pyobjc) (11.0)\n",
      "Requirement already satisfied: pyobjc-framework-NetFS==11.0 in /Users/omisesan/anaconda3/lib/python3.11/site-packages (from pyobjc) (11.0)\n",
      "Requirement already satisfied: pyobjc-framework-Network==11.0 in /Users/omisesan/anaconda3/lib/python3.11/site-packages (from pyobjc) (11.0)\n",
      "Requirement already satisfied: pyobjc-framework-NetworkExtension==11.0 in /Users/omisesan/anaconda3/lib/python3.11/site-packages (from pyobjc) (11.0)\n",
      "Requirement already satisfied: pyobjc-framework-NotificationCenter==11.0 in /Users/omisesan/anaconda3/lib/python3.11/site-packages (from pyobjc) (11.0)\n",
      "Requirement already satisfied: pyobjc-framework-OpenDirectory==11.0 in /Users/omisesan/anaconda3/lib/python3.11/site-packages (from pyobjc) (11.0)\n",
      "Requirement already satisfied: pyobjc-framework-OSAKit==11.0 in /Users/omisesan/anaconda3/lib/python3.11/site-packages (from pyobjc) (11.0)\n",
      "Requirement already satisfied: pyobjc-framework-OSLog==11.0 in /Users/omisesan/anaconda3/lib/python3.11/site-packages (from pyobjc) (11.0)\n",
      "Requirement already satisfied: pyobjc-framework-PassKit==11.0 in /Users/omisesan/anaconda3/lib/python3.11/site-packages (from pyobjc) (11.0)\n",
      "Requirement already satisfied: pyobjc-framework-PencilKit==11.0 in /Users/omisesan/anaconda3/lib/python3.11/site-packages (from pyobjc) (11.0)\n",
      "Requirement already satisfied: pyobjc-framework-PHASE==11.0 in /Users/omisesan/anaconda3/lib/python3.11/site-packages (from pyobjc) (11.0)\n",
      "Requirement already satisfied: pyobjc-framework-Photos==11.0 in /Users/omisesan/anaconda3/lib/python3.11/site-packages (from pyobjc) (11.0)\n",
      "Requirement already satisfied: pyobjc-framework-PhotosUI==11.0 in /Users/omisesan/anaconda3/lib/python3.11/site-packages (from pyobjc) (11.0)\n",
      "Requirement already satisfied: pyobjc-framework-PreferencePanes==11.0 in /Users/omisesan/anaconda3/lib/python3.11/site-packages (from pyobjc) (11.0)\n",
      "Requirement already satisfied: pyobjc-framework-PushKit==11.0 in /Users/omisesan/anaconda3/lib/python3.11/site-packages (from pyobjc) (11.0)\n",
      "Requirement already satisfied: pyobjc-framework-Quartz==11.0 in /Users/omisesan/anaconda3/lib/python3.11/site-packages (from pyobjc) (11.0)\n",
      "Requirement already satisfied: pyobjc-framework-QuickLookThumbnailing==11.0 in /Users/omisesan/anaconda3/lib/python3.11/site-packages (from pyobjc) (11.0)\n",
      "Requirement already satisfied: pyobjc-framework-ReplayKit==11.0 in /Users/omisesan/anaconda3/lib/python3.11/site-packages (from pyobjc) (11.0)\n",
      "Requirement already satisfied: pyobjc-framework-SafetyKit==11.0 in /Users/omisesan/anaconda3/lib/python3.11/site-packages (from pyobjc) (11.0)\n",
      "Requirement already satisfied: pyobjc-framework-SafariServices==11.0 in /Users/omisesan/anaconda3/lib/python3.11/site-packages (from pyobjc) (11.0)\n",
      "Requirement already satisfied: pyobjc-framework-ScreenSaver==11.0 in /Users/omisesan/anaconda3/lib/python3.11/site-packages (from pyobjc) (11.0)\n",
      "Requirement already satisfied: pyobjc-framework-ScreenTime==11.0 in /Users/omisesan/anaconda3/lib/python3.11/site-packages (from pyobjc) (11.0)\n",
      "Requirement already satisfied: pyobjc-framework-ScriptingBridge==11.0 in /Users/omisesan/anaconda3/lib/python3.11/site-packages (from pyobjc) (11.0)\n",
      "Requirement already satisfied: pyobjc-framework-Security==11.0 in /Users/omisesan/anaconda3/lib/python3.11/site-packages (from pyobjc) (11.0)\n",
      "Requirement already satisfied: pyobjc-framework-SecurityFoundation==11.0 in /Users/omisesan/anaconda3/lib/python3.11/site-packages (from pyobjc) (11.0)\n",
      "Requirement already satisfied: pyobjc-framework-SecurityInterface==11.0 in /Users/omisesan/anaconda3/lib/python3.11/site-packages (from pyobjc) (11.0)\n",
      "Requirement already satisfied: pyobjc-framework-SearchKit==11.0 in /Users/omisesan/anaconda3/lib/python3.11/site-packages (from pyobjc) (11.0)\n",
      "Requirement already satisfied: pyobjc-framework-ServiceManagement==11.0 in /Users/omisesan/anaconda3/lib/python3.11/site-packages (from pyobjc) (11.0)\n",
      "Requirement already satisfied: pyobjc-framework-ShazamKit==11.0 in /Users/omisesan/anaconda3/lib/python3.11/site-packages (from pyobjc) (11.0)\n",
      "Requirement already satisfied: pyobjc-framework-Social==11.0 in /Users/omisesan/anaconda3/lib/python3.11/site-packages (from pyobjc) (11.0)\n",
      "Requirement already satisfied: pyobjc-framework-Speech==11.0 in /Users/omisesan/anaconda3/lib/python3.11/site-packages (from pyobjc) (11.0)\n",
      "Requirement already satisfied: pyobjc-framework-SpriteKit==11.0 in /Users/omisesan/anaconda3/lib/python3.11/site-packages (from pyobjc) (11.0)\n",
      "Requirement already satisfied: pyobjc-framework-StoreKit==11.0 in /Users/omisesan/anaconda3/lib/python3.11/site-packages (from pyobjc) (11.0)\n",
      "Requirement already satisfied: pyobjc-framework-SyncServices==11.0 in /Users/omisesan/anaconda3/lib/python3.11/site-packages (from pyobjc) (11.0)\n",
      "Requirement already satisfied: pyobjc-framework-SystemConfiguration==11.0 in /Users/omisesan/anaconda3/lib/python3.11/site-packages (from pyobjc) (11.0)\n",
      "Requirement already satisfied: pyobjc-framework-WebKit==11.0 in /Users/omisesan/anaconda3/lib/python3.11/site-packages (from pyobjc) (11.0)\n",
      "Requirement already satisfied: pyobjc-framework-GameKit==11.0 in /Users/omisesan/anaconda3/lib/python3.11/site-packages (from pyobjc) (11.0)\n",
      "Requirement already satisfied: pyobjc-framework-GameplayKit==11.0 in /Users/omisesan/anaconda3/lib/python3.11/site-packages (from pyobjc) (11.0)\n",
      "Requirement already satisfied: pyobjc-framework-SceneKit==11.0 in /Users/omisesan/anaconda3/lib/python3.11/site-packages (from pyobjc) (11.0)\n",
      "Requirement already satisfied: pyobjc-framework-SensitiveContentAnalysis==11.0 in /Users/omisesan/anaconda3/lib/python3.11/site-packages (from pyobjc) (11.0)\n",
      "Requirement already satisfied: pyobjc-framework-SharedWithYouCore==11.0 in /Users/omisesan/anaconda3/lib/python3.11/site-packages (from pyobjc) (11.0)\n",
      "Requirement already satisfied: pyobjc-framework-SharedWithYou==11.0 in /Users/omisesan/anaconda3/lib/python3.11/site-packages (from pyobjc) (11.0)\n",
      "Requirement already satisfied: pyobjc-framework-SoundAnalysis==11.0 in /Users/omisesan/anaconda3/lib/python3.11/site-packages (from pyobjc) (11.0)\n",
      "Requirement already satisfied: pyobjc-framework-ScreenCaptureKit==11.0 in /Users/omisesan/anaconda3/lib/python3.11/site-packages (from pyobjc) (11.0)\n",
      "Requirement already satisfied: pyobjc-framework-Symbols==11.0 in /Users/omisesan/anaconda3/lib/python3.11/site-packages (from pyobjc) (11.0)\n",
      "Requirement already satisfied: pyobjc-framework-SystemExtensions==11.0 in /Users/omisesan/anaconda3/lib/python3.11/site-packages (from pyobjc) (11.0)\n",
      "Requirement already satisfied: pyobjc-framework-ThreadNetwork==11.0 in /Users/omisesan/anaconda3/lib/python3.11/site-packages (from pyobjc) (11.0)\n",
      "Requirement already satisfied: pyobjc-framework-UniformTypeIdentifiers==11.0 in /Users/omisesan/anaconda3/lib/python3.11/site-packages (from pyobjc) (11.0)\n",
      "Requirement already satisfied: pyobjc-framework-UserNotifications==11.0 in /Users/omisesan/anaconda3/lib/python3.11/site-packages (from pyobjc) (11.0)\n",
      "Requirement already satisfied: pyobjc-framework-UserNotificationsUI==11.0 in /Users/omisesan/anaconda3/lib/python3.11/site-packages (from pyobjc) (11.0)\n",
      "Requirement already satisfied: pyobjc-framework-VideoSubscriberAccount==11.0 in /Users/omisesan/anaconda3/lib/python3.11/site-packages (from pyobjc) (11.0)\n",
      "Requirement already satisfied: pyobjc-framework-VideoToolbox==11.0 in /Users/omisesan/anaconda3/lib/python3.11/site-packages (from pyobjc) (11.0)\n",
      "Requirement already satisfied: pyobjc-framework-Virtualization==11.0 in /Users/omisesan/anaconda3/lib/python3.11/site-packages (from pyobjc) (11.0)\n",
      "Requirement already satisfied: pyobjc-framework-Vision==11.0 in /Users/omisesan/anaconda3/lib/python3.11/site-packages (from pyobjc) (11.0)\n",
      "Requirement already satisfied: pyobjc-framework-iTunesLibrary==11.0 in /Users/omisesan/anaconda3/lib/python3.11/site-packages (from pyobjc) (11.0)\n",
      "Note: you may need to restart the kernel to use updated packages.\n"
     ]
    }
   ],
   "source": [
    "pip install --upgrade pyobjc\n"
   ]
  },
  {
   "cell_type": "markdown",
   "metadata": {},
   "source": [
    "### Import the library"
   ]
  },
  {
   "cell_type": "code",
   "execution_count": 13,
   "metadata": {},
   "outputs": [],
   "source": [
    "import pyttsx3"
   ]
  },
  {
   "cell_type": "markdown",
   "metadata": {},
   "source": [
    "### Initialize a Speaker object"
   ]
  },
  {
   "cell_type": "code",
   "execution_count": 14,
   "metadata": {},
   "outputs": [],
   "source": [
    "engine = pyttsx3.init()"
   ]
  },
  {
   "cell_type": "markdown",
   "metadata": {},
   "source": [
    "### Convert the text"
   ]
  },
  {
   "cell_type": "code",
   "execution_count": 15,
   "metadata": {},
   "outputs": [],
   "source": [
    "engine.save_to_file(text, \"audiobook.wav\")"
   ]
  },
  {
   "cell_type": "markdown",
   "metadata": {},
   "source": [
    "### Save the audio"
   ]
  },
  {
   "cell_type": "code",
   "execution_count": 16,
   "metadata": {},
   "outputs": [
    {
     "ename": "RuntimeError",
     "evalue": "run loop already started",
     "output_type": "error",
     "traceback": [
      "\u001b[0;31m---------------------------------------------------------------------------\u001b[0m",
      "\u001b[0;31mRuntimeError\u001b[0m                              Traceback (most recent call last)",
      "Cell \u001b[0;32mIn[16], line 1\u001b[0m\n\u001b[0;32m----> 1\u001b[0m engine\u001b[38;5;241m.\u001b[39mrunAndWait()\n",
      "File \u001b[0;32m~/anaconda3/lib/python3.11/site-packages/pyttsx3/engine.py:180\u001b[0m, in \u001b[0;36mEngine.runAndWait\u001b[0;34m(self)\u001b[0m\n\u001b[1;32m    172\u001b[0m \u001b[38;5;250m\u001b[39m\u001b[38;5;124;03m\"\"\"\u001b[39;00m\n\u001b[1;32m    173\u001b[0m \u001b[38;5;124;03mRuns an event loop until all commands queued up until this method call\u001b[39;00m\n\u001b[1;32m    174\u001b[0m \u001b[38;5;124;03mcomplete. Blocks during the event loop and returns when the queue is\u001b[39;00m\n\u001b[0;32m   (...)\u001b[0m\n\u001b[1;32m    177\u001b[0m \u001b[38;5;124;03m@raise RuntimeError: When the loop is already running\u001b[39;00m\n\u001b[1;32m    178\u001b[0m \u001b[38;5;124;03m\"\"\"\u001b[39;00m\n\u001b[1;32m    179\u001b[0m \u001b[38;5;28;01mif\u001b[39;00m \u001b[38;5;28mself\u001b[39m\u001b[38;5;241m.\u001b[39m_inLoop:\n\u001b[0;32m--> 180\u001b[0m     \u001b[38;5;28;01mraise\u001b[39;00m \u001b[38;5;167;01mRuntimeError\u001b[39;00m(\u001b[38;5;124m'\u001b[39m\u001b[38;5;124mrun loop already started\u001b[39m\u001b[38;5;124m'\u001b[39m)\n\u001b[1;32m    181\u001b[0m \u001b[38;5;28mself\u001b[39m\u001b[38;5;241m.\u001b[39m_inLoop \u001b[38;5;241m=\u001b[39m \u001b[38;5;28;01mTrue\u001b[39;00m\n\u001b[1;32m    182\u001b[0m \u001b[38;5;28mself\u001b[39m\u001b[38;5;241m.\u001b[39m_driverLoop \u001b[38;5;241m=\u001b[39m \u001b[38;5;28;01mTrue\u001b[39;00m\n",
      "\u001b[0;31mRuntimeError\u001b[0m: run loop already started"
     ]
    }
   ],
   "source": [
    "engine.runAndWait()"
   ]
  },
  {
   "cell_type": "markdown",
   "metadata": {},
   "source": [
    "**With PyPDF3 and pyttsx3**"
   ]
  },
  {
   "cell_type": "code",
   "execution_count": 17,
   "metadata": {},
   "outputs": [],
   "source": [
    "def pdf_to_audio(pdf_path, output_audio_path):\n",
    "    engine = pyttsx3.init()\n",
    "    \n",
    "    with open(pdf_path, 'rb') as file:\n",
    "        reader = PdfReader(file)\n",
    "        text = \"\"\n",
    "        for page in reader.pages:\n",
    "            text += page.extract_text()\n",
    "\n",
    "    engine.save_to_file(text, output_audio_path)\n",
    "    engine.runAndWait()\n",
    "    print(f\"Audiobook saved to {output_audio_path}\")"
   ]
  },
  {
   "cell_type": "code",
   "execution_count": 19,
   "metadata": {},
   "outputs": [
    {
     "ename": "RuntimeError",
     "evalue": "run loop already started",
     "output_type": "error",
     "traceback": [
      "\u001b[0;31m---------------------------------------------------------------------------\u001b[0m",
      "\u001b[0;31mRuntimeError\u001b[0m                              Traceback (most recent call last)",
      "Cell \u001b[0;32mIn[19], line 1\u001b[0m\n\u001b[0;32m----> 1\u001b[0m pdf_to_audio(\u001b[38;5;124m\"\u001b[39m\u001b[38;5;124mAbdulrasaq_Framework.pdf\u001b[39m\u001b[38;5;124m\"\u001b[39m, \u001b[38;5;124m\"\u001b[39m\u001b[38;5;124mpyttsx3_audiobook1.wav\u001b[39m\u001b[38;5;124m\"\u001b[39m)\n",
      "Cell \u001b[0;32mIn[17], line 11\u001b[0m, in \u001b[0;36mpdf_to_audio\u001b[0;34m(pdf_path, output_audio_path)\u001b[0m\n\u001b[1;32m      8\u001b[0m         text \u001b[38;5;241m+\u001b[39m\u001b[38;5;241m=\u001b[39m page\u001b[38;5;241m.\u001b[39mextract_text()\n\u001b[1;32m     10\u001b[0m engine\u001b[38;5;241m.\u001b[39msave_to_file(text, output_audio_path)\n\u001b[0;32m---> 11\u001b[0m engine\u001b[38;5;241m.\u001b[39mrunAndWait()\n\u001b[1;32m     12\u001b[0m \u001b[38;5;28mprint\u001b[39m(\u001b[38;5;124mf\u001b[39m\u001b[38;5;124m\"\u001b[39m\u001b[38;5;124mAudiobook saved to \u001b[39m\u001b[38;5;132;01m{\u001b[39;00moutput_audio_path\u001b[38;5;132;01m}\u001b[39;00m\u001b[38;5;124m\"\u001b[39m)\n",
      "File \u001b[0;32m~/anaconda3/lib/python3.11/site-packages/pyttsx3/engine.py:180\u001b[0m, in \u001b[0;36mEngine.runAndWait\u001b[0;34m(self)\u001b[0m\n\u001b[1;32m    172\u001b[0m \u001b[38;5;250m\u001b[39m\u001b[38;5;124;03m\"\"\"\u001b[39;00m\n\u001b[1;32m    173\u001b[0m \u001b[38;5;124;03mRuns an event loop until all commands queued up until this method call\u001b[39;00m\n\u001b[1;32m    174\u001b[0m \u001b[38;5;124;03mcomplete. Blocks during the event loop and returns when the queue is\u001b[39;00m\n\u001b[0;32m   (...)\u001b[0m\n\u001b[1;32m    177\u001b[0m \u001b[38;5;124;03m@raise RuntimeError: When the loop is already running\u001b[39;00m\n\u001b[1;32m    178\u001b[0m \u001b[38;5;124;03m\"\"\"\u001b[39;00m\n\u001b[1;32m    179\u001b[0m \u001b[38;5;28;01mif\u001b[39;00m \u001b[38;5;28mself\u001b[39m\u001b[38;5;241m.\u001b[39m_inLoop:\n\u001b[0;32m--> 180\u001b[0m     \u001b[38;5;28;01mraise\u001b[39;00m \u001b[38;5;167;01mRuntimeError\u001b[39;00m(\u001b[38;5;124m'\u001b[39m\u001b[38;5;124mrun loop already started\u001b[39m\u001b[38;5;124m'\u001b[39m)\n\u001b[1;32m    181\u001b[0m \u001b[38;5;28mself\u001b[39m\u001b[38;5;241m.\u001b[39m_inLoop \u001b[38;5;241m=\u001b[39m \u001b[38;5;28;01mTrue\u001b[39;00m\n\u001b[1;32m    182\u001b[0m \u001b[38;5;28mself\u001b[39m\u001b[38;5;241m.\u001b[39m_driverLoop \u001b[38;5;241m=\u001b[39m \u001b[38;5;28;01mTrue\u001b[39;00m\n",
      "\u001b[0;31mRuntimeError\u001b[0m: run loop already started"
     ]
    }
   ],
   "source": [
    "pdf_to_audio(\"Abdulrasaq_Framework.pdf\", \"pyttsx3_audiobook1.wav\")"
   ]
  },
  {
   "cell_type": "markdown",
   "metadata": {},
   "source": [
    "**Using gTTS**"
   ]
  },
  {
   "cell_type": "code",
   "execution_count": 20,
   "metadata": {},
   "outputs": [
    {
     "name": "stdout",
     "output_type": "stream",
     "text": [
      "\u001b[33mDEPRECATION: Loading egg at /Users/omisesan/anaconda3/lib/python3.11/site-packages/endtoendmlgit-0.0.1-py3.11.egg is deprecated. pip 25.1 will enforce this behaviour change. A possible replacement is to use pip for package installation. Discussion can be found at https://github.com/pypa/pip/issues/12330\u001b[0m\u001b[33m\n",
      "\u001b[0m\u001b[33mDEPRECATION: Loading egg at /Users/omisesan/anaconda3/lib/python3.11/site-packages/fonttools-4.55.2-py3.11-macosx-10.9-x86_64.egg is deprecated. pip 25.1 will enforce this behaviour change. A possible replacement is to use pip for package installation. Discussion can be found at https://github.com/pypa/pip/issues/12330\u001b[0m\u001b[33m\n",
      "\u001b[0mCollecting gTTS\n",
      "  Downloading gTTS-2.5.4-py3-none-any.whl.metadata (4.1 kB)\n",
      "Requirement already satisfied: requests<3,>=2.27 in /Users/omisesan/anaconda3/lib/python3.11/site-packages (from gTTS) (2.31.0)\n",
      "Requirement already satisfied: click<8.2,>=7.1 in /Users/omisesan/anaconda3/lib/python3.11/site-packages (from gTTS) (8.1.7)\n",
      "Requirement already satisfied: charset-normalizer<4,>=2 in /Users/omisesan/anaconda3/lib/python3.11/site-packages (from requests<3,>=2.27->gTTS) (2.0.4)\n",
      "Requirement already satisfied: idna<4,>=2.5 in /Users/omisesan/anaconda3/lib/python3.11/site-packages (from requests<3,>=2.27->gTTS) (3.4)\n",
      "Requirement already satisfied: urllib3<3,>=1.21.1 in /Users/omisesan/anaconda3/lib/python3.11/site-packages (from requests<3,>=2.27->gTTS) (1.26.16)\n",
      "Requirement already satisfied: certifi>=2017.4.17 in /Users/omisesan/anaconda3/lib/python3.11/site-packages (from requests<3,>=2.27->gTTS) (2023.7.22)\n",
      "Downloading gTTS-2.5.4-py3-none-any.whl (29 kB)\n",
      "Installing collected packages: gTTS\n",
      "Successfully installed gTTS-2.5.4\n"
     ]
    }
   ],
   "source": [
    "! pip install gTTS"
   ]
  },
  {
   "cell_type": "code",
   "execution_count": 21,
   "metadata": {},
   "outputs": [],
   "source": [
    "from gtts import gTTS"
   ]
  },
  {
   "cell_type": "code",
   "execution_count": 22,
   "metadata": {},
   "outputs": [],
   "source": [
    "def pdf_to_audio_gtts(pdf_path, output_audio_path):\n",
    "    reader = PdfReader(pdf_path)\n",
    "    text = \"\"\n",
    "    for page in reader.pages:\n",
    "        text += page.extract_text()\n",
    "\n",
    "    tts = gTTS(text)\n",
    "    tts.save(output_audio_path)\n",
    "    print(f\"Audiobook saved to {output_audio_path}\")"
   ]
  },
  {
   "cell_type": "code",
   "execution_count": 25,
   "metadata": {},
   "outputs": [
    {
     "name": "stdout",
     "output_type": "stream",
     "text": [
      "Audiobook saved to abdulrasaq_audiobook2.wav\n"
     ]
    }
   ],
   "source": [
    "pdf_to_audio_gtts(\"Abdulrasaq_Framework.pdf\", \"abdulrasaq_audiobook2.wav\")"
   ]
  }
 ],
 "metadata": {
  "kernelspec": {
   "display_name": "base",
   "language": "python",
   "name": "python3"
  },
  "language_info": {
   "codemirror_mode": {
    "name": "ipython",
    "version": 3
   },
   "file_extension": ".py",
   "mimetype": "text/x-python",
   "name": "python",
   "nbconvert_exporter": "python",
   "pygments_lexer": "ipython3",
   "version": "3.11.5"
  }
 },
 "nbformat": 4,
 "nbformat_minor": 4
}
