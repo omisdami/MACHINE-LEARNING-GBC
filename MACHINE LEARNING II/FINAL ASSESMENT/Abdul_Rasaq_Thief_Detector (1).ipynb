{
 "cells": [
  {
   "cell_type": "markdown",
   "metadata": {},
   "source": [
    "# Thief Detector\n",
    "## This task tests your Image Processing skills to build a motion detection algorithm that alarms you when you have an unwanted visitor in your home."
   ]
  },
  {
   "cell_type": "markdown",
   "metadata": {},
   "source": [
    "## Steps\n",
    "- 1. Get the live video feed from your webcam\n",
    "- 2. Fix a scene (the place you want to monitor) and store it as a reference background image\n",
    "    - Store the first frame as the reference background frame\n",
    "- 3. For every frame, check if there is any unwanted object inside the scene you are monitoring\n",
    "    - Use **Background Subtraction** concept (**cv2.absdiff( )**)\n",
    "        - Subtract the current frame from the reference background image(frame) to see the changes in the scene\n",
    "        - If there is enormous amount of pixels distrubed in the subtraction result image\n",
    "            - unwanted visitor (place is unsafe --> alarm the authorities)\n",
    "        - If there is no enormous amount of pixels distrubed in the subtraction result image\n",
    "            - no unwanted visitor (place is safe)\n",
    "- 4. Output the text **\"UNSAFE\"** in **red** color on the top right of the frame when there is an intruder in the scene.\n",
    "- 5. Save the live feed\n",
    "- 6. Submit the (.ipynb) file"
   ]
  },
  {
   "cell_type": "code",
   "execution_count": null,
   "metadata": {},
   "outputs": [
    {
     "name": "stdout",
     "output_type": "stream",
     "text": [
      "Current working directory: /Users/omisesan/Desktop/Desktop_Omisesan/APPLIED_AI _DEV/MACHINE LEARNING II/Exam\n",
      "Calibrating background. Please keep the scene still...\n"
     ]
    },
    {
     "name": "stderr",
     "output_type": "stream",
     "text": [
      "2025-03-28 21:24:22.614 python[29180:361487] +[IMKClient subclass]: chose IMKClient_Modern\n",
      "2025-03-28 21:24:22.614 python[29180:361487] +[IMKInputSession subclass]: chose IMKInputSession_Modern\n"
     ]
    },
    {
     "name": "stdout",
     "output_type": "stream",
     "text": [
      "Motion Detector Active. Press 'q' to quit.\n",
      "Session ended. Video saved as Abdul_rasaq_session_output.mp4 in: /Users/omisesan/Desktop/Desktop_Omisesan/APPLIED_AI _DEV/MACHINE LEARNING II/Exam\n"
     ]
    },
    {
     "ename": "",
     "evalue": "",
     "output_type": "error",
     "traceback": [
      "\u001b[1;31mThe Kernel crashed while executing code in the current cell or a previous cell. \n",
      "\u001b[1;31mPlease review the code in the cell(s) to identify a possible cause of the failure. \n",
      "\u001b[1;31mClick <a href='https://aka.ms/vscodeJupyterKernelCrash'>here</a> for more info. \n",
      "\u001b[1;31mView Jupyter <a href='command:jupyter.viewOutput'>log</a> for further details."
     ]
    }
   ],
   "source": [
    "import cv2\n",
    "import numpy as np\n",
    "import os\n",
    "\n",
    "print(\"Current working directory:\", os.getcwd())\n",
    "\n",
    "cap = cv2.VideoCapture(0)\n",
    "if not cap.isOpened():\n",
    "    print(\"Error: Could not open webcam.\")\n",
    "    exit()\n",
    "\n",
    "\n",
    "fourcc = cv2.VideoWriter_fourcc(*'mp4v')\n",
    "out = cv2.VideoWriter('Abdul_rasaq_session_output.mp4',\n",
    "                      fourcc, \n",
    "                      20.0,\n",
    "                      (int(cap.get(cv2.CAP_PROP_FRAME_WIDTH)),\n",
    "                       int(cap.get(cv2.CAP_PROP_FRAME_HEIGHT))))\n",
    "\n",
    "num_frames_to_average = 30\n",
    "frame_count = 0\n",
    "background_frames = []\n",
    "\n",
    "print(\"Calibrating background. Please keep the scene still...\")\n",
    "\n",
    "#\n",
    "while frame_count < num_frames_to_average:\n",
    "    ret, frame = cap.read()\n",
    "    if not ret:\n",
    "        print(\"Error: Could not read frame during calibration.\")\n",
    "        cap.release()\n",
    "        out.release()\n",
    "        cv2.destroyAllWindows()\n",
    "        exit()\n",
    "    \n",
    "    gray = cv2.cvtColor(frame, cv2.COLOR_BGR2GRAY)\n",
    "    gray_blur = cv2.GaussianBlur(gray, (21, 21), 0)\n",
    "    background_frames.append(gray_blur)\n",
    "    frame_count += 1\n",
    "    \n",
    "    percent_done = int((frame_count / num_frames_to_average) * 100)\n",
    "    cv2.putText(frame, f\"Calibrating: {percent_done}%\", (10, 30),\n",
    "                cv2.FONT_HERSHEY_SIMPLEX, 1, (0, 255, 255), 2)\n",
    "    cv2.imshow(\"Live Feed\", frame)\n",
    "    cv2.waitKey(1)\n",
    "\n",
    "\n",
    "background_gray = np.mean(background_frames, axis=0).astype(np.uint8)\n",
    "\n",
    "print(\"Motion Detector Active. Press 'q' to quit.\")\n",
    "\n",
    "MIN_AREA = 1000        \n",
    "THRESHOLD_VALUE = 30   \n",
    "FRAMES_TO_CONFIRM = 3  \n",
    "\n",
    "consecutive_motion_frames = 0\n",
    "is_unsafe = False\n",
    "\n",
    "frame_counter = 0\n",
    "update_background_every = 100  \n",
    "while True:\n",
    "    ret, frame = cap.read()\n",
    "    if not ret:\n",
    "        print(\"Error: Could not read frame from webcam.\")\n",
    "        break\n",
    "    \n",
    "    gray = cv2.cvtColor(frame, cv2.COLOR_BGR2GRAY)\n",
    "    gray_blur = cv2.GaussianBlur(gray, (21, 21), 0)\n",
    "   \n",
    "    frame_delta = cv2.absdiff(background_gray, gray_blur)\n",
    "    \n",
    "    \n",
    "    thresh = cv2.threshold(frame_delta, THRESHOLD_VALUE, 255, cv2.THRESH_BINARY)[1]\n",
    "    thresh = cv2.dilate(thresh, None, iterations=2)\n",
    "    \n",
    "  \n",
    "    contours, _ = cv2.findContours(thresh.copy(), cv2.RETR_EXTERNAL, cv2.CHAIN_APPROX_SIMPLE)\n",
    "    \n",
    "    current_motion = False\n",
    "    \n",
    "   \n",
    "    for contour in contours:\n",
    "        if cv2.contourArea(contour) >= MIN_AREA:\n",
    "            (x, y, w, h) = cv2.boundingRect(contour)\n",
    "            cv2.rectangle(frame, (x, y), (x + w, y + h), (0, 0, 255), 2)\n",
    "            current_motion = True\n",
    "    \n",
    " \n",
    "    if current_motion:\n",
    "        consecutive_motion_frames += 1\n",
    "    else:\n",
    "        consecutive_motion_frames = 0\n",
    "    \n",
    "   \n",
    "    if consecutive_motion_frames >= FRAMES_TO_CONFIRM:\n",
    "        is_unsafe = True\n",
    "    elif consecutive_motion_frames == 0:\n",
    "        is_unsafe = False\n",
    "    \n",
    "    if is_unsafe:\n",
    "        cv2.putText(frame, \"UNSAFE\", (10, 30),\n",
    "                    cv2.FONT_HERSHEY_SIMPLEX, 1, (0, 0, 255), 2)\n",
    "    else:\n",
    "        cv2.putText(frame, \"SAFE\", (10, 30),\n",
    "                    cv2.FONT_HERSHEY_SIMPLEX, 1, (0, 255, 0), 2)\n",
    "    \n",
    "    \n",
    "    cv2.imshow(\"Live Feed\", frame)\n",
    "    \n",
    "   \n",
    "    out.write(frame)\n",
    "    \n",
    "   \n",
    "    frame_counter += 1\n",
    "    if frame_counter >= update_background_every:\n",
    "        alpha = 0.05  \n",
    "       \n",
    "        background_gray = cv2.addWeighted(gray_blur, alpha, background_gray, 1 - alpha, 0)\n",
    "        frame_counter = 0\n",
    "    \n",
    "    \n",
    "    if cv2.waitKey(1) & 0xFF == ord('q'):\n",
    "        break\n",
    "\n",
    "cap.release()\n",
    "out.release()\n",
    "cv2.destroyAllWindows()\n",
    "print(\"Session ended. Video saved as Abdul_rasaq_session_output.mp4 in:\", os.getcwd())\n"
   ]
  },
  {
   "cell_type": "markdown",
   "metadata": {},
   "source": [
    "## Read first frame, convert to Grayscale and store it as reference background image [10 points]"
   ]
  },
  {
   "cell_type": "markdown",
   "metadata": {},
   "source": [
    "## Compute Absolute Difference between Current and First frame [20 points]"
   ]
  },
  {
   "cell_type": "markdown",
   "metadata": {},
   "source": [
    "## Apply threshold [5 points]"
   ]
  },
  {
   "cell_type": "markdown",
   "metadata": {},
   "source": [
    "## Find contours [10 points]"
   ]
  },
  {
   "cell_type": "markdown",
   "metadata": {},
   "source": [
    "## Check if contourArea is large and draw rectangle around the object, output \"UNSAFE\" text in red color [30 points]"
   ]
  },
  {
   "cell_type": "markdown",
   "metadata": {},
   "source": [
    "## Display images [10 points]"
   ]
  },
  {
   "cell_type": "markdown",
   "metadata": {},
   "source": [
    "## Release objects [5 points]"
   ]
  }
 ],
 "metadata": {
  "kernelspec": {
   "display_name": "base",
   "language": "python",
   "name": "python3"
  },
  "language_info": {
   "codemirror_mode": {
    "name": "ipython",
    "version": 3
   },
   "file_extension": ".py",
   "mimetype": "text/x-python",
   "name": "python",
   "nbconvert_exporter": "python",
   "pygments_lexer": "ipython3",
   "version": "3.11.5"
  }
 },
 "nbformat": 4,
 "nbformat_minor": 4
}
